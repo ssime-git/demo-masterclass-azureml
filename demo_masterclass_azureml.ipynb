{
  "cells": [
    {
      "cell_type": "markdown",
      "metadata": {
        "nteract": {
          "transient": {
            "deleting": false
          }
        }
      },
      "source": [
        "# Setup\n",
        "> Make sure that the kernel is  `3.10 - SDK`"
      ]
    },
    {
      "cell_type": "code",
      "execution_count": 1,
      "metadata": {
        "gather": {
          "logged": 1722505135459
        },
        "jupyter": {
          "outputs_hidden": false,
          "source_hidden": false
        },
        "nteract": {
          "transient": {
            "deleting": false
          }
        }
      },
      "outputs": [
        {
          "name": "stdout",
          "output_type": "stream",
          "text": [
            "Name: azure-ai-ml\r\n",
            "Version: 1.16.1\r\n",
            "Summary: Microsoft Azure Machine Learning Client Library for Python\r\n",
            "Home-page: https://github.com/Azure/azure-sdk-for-python\r\n",
            "Author: Microsoft Corporation\r\n",
            "Author-email: azuresdkengsysadmins@microsoft.com\r\n",
            "License: MIT License\r\n",
            "Location: /anaconda/envs/azureml_py310_sdkv2/lib/python3.10/site-packages\r\n",
            "Requires: azure-common, azure-core, azure-mgmt-core, azure-storage-blob, azure-storage-file-datalake, azure-storage-file-share, colorama, isodate, jsonschema, marshmallow, msrest, opencensus-ext-azure, opencensus-ext-logging, pydash, pyjwt, pyyaml, strictyaml, tqdm, typing-extensions\r\n",
            "Required-by: \r\n",
            "Note: you may need to restart the kernel to use updated packages.\n"
          ]
        }
      ],
      "source": [
        "pip show azure-ai-ml"
      ]
    },
    {
      "cell_type": "markdown",
      "metadata": {
        "nteract": {
          "transient": {
            "deleting": false
          }
        }
      },
      "source": [
        "# Connect to the workspace"
      ]
    },
    {
      "cell_type": "code",
      "execution_count": 2,
      "metadata": {
        "gather": {
          "logged": 1722505143646
        },
        "jupyter": {
          "outputs_hidden": false,
          "source_hidden": false
        },
        "nteract": {
          "transient": {
            "deleting": false
          }
        }
      },
      "outputs": [],
      "source": [
        "from azure.identity import DefaultAzureCredential, InteractiveBrowserCredential\n",
        "from azure.ai.ml import MLClient\n",
        "\n",
        "try:\n",
        "    credential = DefaultAzureCredential()\n",
        "    # Check if given credential can get token successfully.\n",
        "    credential.get_token(\"https://management.azure.com/.default\")\n",
        "except Exception as ex:\n",
        "    # Fall back to InteractiveBrowserCredential in case DefaultAzureCredential not work\n",
        "    credential = InteractiveBrowserCredential()"
      ]
    },
    {
      "cell_type": "code",
      "execution_count": 3,
      "metadata": {
        "gather": {
          "logged": 1722505143756
        },
        "jupyter": {
          "outputs_hidden": false,
          "source_hidden": false
        },
        "nteract": {
          "transient": {
            "deleting": false
          }
        }
      },
      "outputs": [
        {
          "name": "stderr",
          "output_type": "stream",
          "text": [
            "Found the config file in: /config.json\n"
          ]
        }
      ],
      "source": [
        "# Get a handle to workspace\n",
        "ml_client = MLClient.from_config(credential=credential)"
      ]
    },
    {
      "cell_type": "markdown",
      "metadata": {
        "nteract": {
          "transient": {
            "deleting": false
          }
        }
      },
      "source": [
        "# Wait a minute...\n",
        "\n",
        "Remember the ML workflow ?"
      ]
    },
    {
      "cell_type": "markdown",
      "metadata": {
        "nteract": {
          "transient": {
            "deleting": false
          }
        }
      },
      "source": [
        "# Load the data for experimentation"
      ]
    },
    {
      "cell_type": "code",
      "execution_count": 4,
      "metadata": {
        "gather": {
          "logged": 1722505924703
        }
      },
      "outputs": [
        {
          "data": {
            "text/html": [
              "<div>\n",
              "<style scoped>\n",
              "    .dataframe tbody tr th:only-of-type {\n",
              "        vertical-align: middle;\n",
              "    }\n",
              "\n",
              "    .dataframe tbody tr th {\n",
              "        vertical-align: top;\n",
              "    }\n",
              "\n",
              "    .dataframe thead th {\n",
              "        text-align: right;\n",
              "    }\n",
              "</style>\n",
              "<table border=\"1\" class=\"dataframe\">\n",
              "  <thead>\n",
              "    <tr style=\"text-align: right;\">\n",
              "      <th></th>\n",
              "      <th>Pregnancies</th>\n",
              "      <th>Glucose</th>\n",
              "      <th>BloodPressure</th>\n",
              "      <th>SkinThickness</th>\n",
              "      <th>Insulin</th>\n",
              "      <th>BMI</th>\n",
              "      <th>DiabetesPedigreeFunction</th>\n",
              "      <th>Age</th>\n",
              "      <th>Outcome</th>\n",
              "    </tr>\n",
              "  </thead>\n",
              "  <tbody>\n",
              "    <tr>\n",
              "      <th>0</th>\n",
              "      <td>6</td>\n",
              "      <td>148</td>\n",
              "      <td>72</td>\n",
              "      <td>35</td>\n",
              "      <td>0</td>\n",
              "      <td>33.6</td>\n",
              "      <td>0.627</td>\n",
              "      <td>50</td>\n",
              "      <td>1</td>\n",
              "    </tr>\n",
              "    <tr>\n",
              "      <th>1</th>\n",
              "      <td>1</td>\n",
              "      <td>85</td>\n",
              "      <td>66</td>\n",
              "      <td>29</td>\n",
              "      <td>0</td>\n",
              "      <td>26.6</td>\n",
              "      <td>0.351</td>\n",
              "      <td>31</td>\n",
              "      <td>0</td>\n",
              "    </tr>\n",
              "    <tr>\n",
              "      <th>2</th>\n",
              "      <td>8</td>\n",
              "      <td>183</td>\n",
              "      <td>64</td>\n",
              "      <td>0</td>\n",
              "      <td>0</td>\n",
              "      <td>23.3</td>\n",
              "      <td>0.672</td>\n",
              "      <td>32</td>\n",
              "      <td>1</td>\n",
              "    </tr>\n",
              "    <tr>\n",
              "      <th>3</th>\n",
              "      <td>1</td>\n",
              "      <td>89</td>\n",
              "      <td>66</td>\n",
              "      <td>23</td>\n",
              "      <td>94</td>\n",
              "      <td>28.1</td>\n",
              "      <td>0.167</td>\n",
              "      <td>21</td>\n",
              "      <td>0</td>\n",
              "    </tr>\n",
              "    <tr>\n",
              "      <th>4</th>\n",
              "      <td>0</td>\n",
              "      <td>137</td>\n",
              "      <td>40</td>\n",
              "      <td>35</td>\n",
              "      <td>168</td>\n",
              "      <td>43.1</td>\n",
              "      <td>2.288</td>\n",
              "      <td>33</td>\n",
              "      <td>1</td>\n",
              "    </tr>\n",
              "  </tbody>\n",
              "</table>\n",
              "</div>"
            ],
            "text/plain": [
              "   Pregnancies  Glucose  BloodPressure  SkinThickness  Insulin   BMI  \\\n",
              "0            6      148             72             35        0  33.6   \n",
              "1            1       85             66             29        0  26.6   \n",
              "2            8      183             64              0        0  23.3   \n",
              "3            1       89             66             23       94  28.1   \n",
              "4            0      137             40             35      168  43.1   \n",
              "\n",
              "   DiabetesPedigreeFunction  Age  Outcome  \n",
              "0                     0.627   50        1  \n",
              "1                     0.351   31        0  \n",
              "2                     0.672   32        1  \n",
              "3                     0.167   21        0  \n",
              "4                     2.288   33        1  "
            ]
          },
          "execution_count": 4,
          "metadata": {},
          "output_type": "execute_result"
        }
      ],
      "source": [
        "#from azure.ai.ml import MLClient\n",
        "import pandas as pd\n",
        "from azure.identity import DefaultAzureCredential\n",
        "\n",
        "# If credential is not defined above\n",
        "#ml_client = MLClient.from_config(credential=DefaultAzureCredential())\n",
        "data_asset = ml_client.data.get(\"diabetes\", version=\"1\")\n",
        "\n",
        "df = pd.read_csv(data_asset.path)\n",
        "df.head()"
      ]
    },
    {
      "cell_type": "markdown",
      "metadata": {
        "nteract": {
          "transient": {
            "deleting": false
          }
        }
      },
      "source": [
        "# Audit & Explore the data"
      ]
    },
    {
      "cell_type": "code",
      "execution_count": 5,
      "metadata": {
        "gather": {
          "logged": 1722505927635
        },
        "jupyter": {
          "outputs_hidden": false,
          "source_hidden": false
        },
        "nteract": {
          "transient": {
            "deleting": false
          }
        }
      },
      "outputs": [
        {
          "name": "stdout",
          "output_type": "stream",
          "text": [
            "<class 'pandas.core.frame.DataFrame'>\n",
            "RangeIndex: 768 entries, 0 to 767\n",
            "Data columns (total 9 columns):\n",
            " #   Column                    Non-Null Count  Dtype  \n",
            "---  ------                    --------------  -----  \n",
            " 0   Pregnancies               768 non-null    int64  \n",
            " 1   Glucose                   768 non-null    int64  \n",
            " 2   BloodPressure             768 non-null    int64  \n",
            " 3   SkinThickness             768 non-null    int64  \n",
            " 4   Insulin                   768 non-null    int64  \n",
            " 5   BMI                       768 non-null    float64\n",
            " 6   DiabetesPedigreeFunction  768 non-null    float64\n",
            " 7   Age                       768 non-null    int64  \n",
            " 8   Outcome                   768 non-null    int64  \n",
            "dtypes: float64(2), int64(7)\n",
            "memory usage: 54.1 KB\n"
          ]
        }
      ],
      "source": [
        "# get data infos\n",
        "df.info()"
      ]
    },
    {
      "cell_type": "markdown",
      "metadata": {
        "nteract": {
          "transient": {
            "deleting": false
          }
        }
      },
      "source": [
        "So no missing values."
      ]
    },
    {
      "cell_type": "code",
      "execution_count": 6,
      "metadata": {
        "gather": {
          "logged": 1722505932807
        },
        "jupyter": {
          "outputs_hidden": false,
          "source_hidden": false
        },
        "nteract": {
          "transient": {
            "deleting": false
          }
        }
      },
      "outputs": [
        {
          "data": {
            "image/png": "[encoded data removed]",
            "text/plain": [
              "<Figure size 1600x900 with 9 Axes>"
            ]
          },
          "metadata": {},
          "output_type": "display_data"
        }
      ],
      "source": [
        "import matplotlib.pyplot as plt\n",
        "%matplotlib inline\n",
        "df.hist(figsize=(16, 9));"
      ]
    },
    {
      "cell_type": "markdown",
      "metadata": {
        "nteract": {
          "transient": {
            "deleting": false
          }
        }
      },
      "source": [
        "Few variable might need scaling or normalizing (looking at the distributions). but here let's just say that everything is fine (IT'S NOT!! :wink)"
      ]
    },
    {
      "cell_type": "markdown",
      "metadata": {
        "nteract": {
          "transient": {
            "deleting": false
          }
        }
      },
      "source": [
        "# Train a model baseline"
      ]
    },
    {
      "cell_type": "code",
      "execution_count": 7,
      "metadata": {
        "gather": {
          "logged": 1722505945470
        },
        "jupyter": {
          "outputs_hidden": false,
          "source_hidden": false
        },
        "nteract": {
          "transient": {
            "deleting": false
          }
        }
      },
      "outputs": [
        {
          "name": "stdout",
          "output_type": "stream",
          "text": [
            "training accuracy: 0.7703583061889251\n",
            "Model accuracy: 0.7467532467532467\n"
          ]
        }
      ],
      "source": [
        "from sklearn.model_selection import train_test_split\n",
        "from sklearn.linear_model import LogisticRegression\n",
        "from sklearn.metrics import accuracy_score\n",
        "\n",
        "# Prepare the data\n",
        "X = df.drop(\"Outcome\", axis=1)\n",
        "y = df[\"Outcome\"]\n",
        "X_train, X_test, y_train, y_test = train_test_split(X, y, test_size=0.2, random_state=42)\n",
        "\n",
        "# Train the model\n",
        "model = LogisticRegression(max_iter=1000)\n",
        "model.fit(X_train, y_train)\n",
        "\n",
        "# Make predictions\n",
        "y_pred = model.predict(X_test)\n",
        "\n",
        "# Calculate accuracy\n",
        "accuracy = accuracy_score(y_test, y_pred)\n",
        "print(f\"training accuracy: {model.score(X_train, y_train)}\")\n",
        "print(f\"Model accuracy: {accuracy}\")"
      ]
    },
    {
      "cell_type": "markdown",
      "metadata": {
        "nteract": {
          "transient": {
            "deleting": false
          }
        }
      },
      "source": [
        "# What do you think about the next steps\n",
        "\n",
        "1. How do you find these results ? What could you say about it ?\n",
        "2. What should we do next ?"
      ]
    },
    {
      "cell_type": "markdown",
      "metadata": {
        "nteract": {
          "transient": {
            "deleting": false
          }
        }
      },
      "source": [
        "# Training Pipeline v0"
      ]
    },
    {
      "cell_type": "code",
      "execution_count": null,
      "metadata": {
        "jupyter": {
          "outputs_hidden": false,
          "source_hidden": false
        },
        "nteract": {
          "transient": {
            "deleting": false
          }
        }
      },
      "outputs": [],
      "source": [
        "%%writefile diabetes_training.py\n",
        "# Import libraries\n",
        "import argparse\n",
        "import pandas as pd\n",
        "import numpy as np\n",
        "import os\n",
        "from sklearn.model_selection import train_test_split\n",
        "from sklearn.linear_model import LogisticRegression\n",
        "from sklearn.metrics import roc_auc_score, accuracy_score\n",
        "import mlflow\n",
        "import mlflow.sklearn\n",
        "\n",
        "# Parse arguments\n",
        "parser = argparse.ArgumentParser()\n",
        "parser.add_argument(\"--data\", type=str, help=\"Path to input data\")\n",
        "parser.add_argument(\"--reg_rate\", type=float, default=0.01, help=\"Regularization rate\")\n",
        "parser.add_argument(\"--registered_model_name\", type=str, help=\"Model name\")\n",
        "args = parser.parse_args()\n",
        "\n",
        "\n",
        "# Start MLflow run\n",
        "with mlflow.start_run():\n",
        "\n",
        "    # Enable autologging\n",
        "    mlflow.sklearn.autolog()\n",
        "\n",
        "    # log the regularization rate\n",
        "    mlflow.log_param(\"regularization_rate\", args.reg_rate)\n",
        "\n",
        "    # load the diabetes dataset\n",
        "    print(\"Loading Data...\")\n",
        "    diabetes = pd.read_csv(args.data)\n",
        "\n",
        "    # Separate features and labels\n",
        "    X = diabetes.drop(\"Outcome\", axis=1)\n",
        "    y = diabetes[\"Outcome\"]\n",
        "\n",
        "    # Split data into training set and test set\n",
        "    X_train, X_test, y_train, y_test = train_test_split(X, y, test_size=0.30, random_state=0)\n",
        "\n",
        "    # Train a logistic regression model\n",
        "    print('Training a logistic regression model with regularization rate of', args.reg_rate)\n",
        "    model = LogisticRegression(C=1/args.reg_rate, solver=\"liblinear\", max_iter=1000).fit(X_train, y_train)\n",
        "\n",
        "    # calculate accuracy\n",
        "    y_hat = model.predict(X_test)\n",
        "    acc = accuracy_score(y_test, y_hat)\n",
        "    print('Accuracy:', acc)\n",
        "    mlflow.log_metric(\"accuracy\", acc)\n",
        "\n",
        "    # calculate AUC\n",
        "    y_scores = model.predict_proba(X_test)\n",
        "    auc = roc_auc_score(y_test, y_scores[:,1])\n",
        "    print('AUC: ' + str(auc))\n",
        "    mlflow.log_metric(\"auc\", auc)\n",
        "\n",
        "    # Log the feature names\n",
        "    mlflow.log_param(\"features\", list(X.columns))\n",
        "\n",
        "    # Registering the model to the workspace\n",
        "    print(\"Registering the model via MLFlow\")\n",
        "    mlflow.sklearn.log_model(\n",
        "        sk_model=model,\n",
        "        registered_model_name=args.registered_model_name,\n",
        "        artifact_path=args.registered_model_name,\n",
        "    )\n",
        "\n",
        "    # Saving the model to a file\n",
        "    mlflow.sklearn.save_model(\n",
        "        sk_model=model,\n",
        "        path=os.path.join(args.registered_model_name, \"trained_model\"),\n",
        "    )\n",
        "\n",
        "print(\"Run completed. Model saved with MLflow\")"
      ]
    },
    {
      "cell_type": "code",
      "execution_count": null,
      "metadata": {
        "gather": {
          "logged": 1722464565098
        },
        "jupyter": {
          "outputs_hidden": false,
          "source_hidden": false
        },
        "nteract": {
          "transient": {
            "deleting": false
          }
        }
      },
      "outputs": [],
      "source": [
        "# Display the contents of the file\n",
        "!cat diabetes_training.py"
      ]
    },
    {
      "cell_type": "markdown",
      "metadata": {
        "nteract": {
          "transient": {
            "deleting": false
          }
        }
      },
      "source": [
        "What do you think about this script ?\n",
        "\n",
        "Once again, let's pretend it's fine..."
      ]
    },
    {
      "cell_type": "markdown",
      "metadata": {
        "nteract": {
          "transient": {
            "deleting": false
          }
        }
      },
      "source": [
        "# Training script v2"
      ]
    },
    {
      "cell_type": "code",
      "execution_count": null,
      "metadata": {
        "jupyter": {
          "outputs_hidden": false,
          "source_hidden": false
        },
        "nteract": {
          "transient": {
            "deleting": false
          }
        }
      },
      "outputs": [],
      "source": [
        "%%writefile diabetes_training_v2.py\n",
        "import os\n",
        "import argparse\n",
        "import pandas as pd\n",
        "import mlflow\n",
        "import mlflow.sklearn\n",
        "from sklearn.linear_model import LogisticRegression\n",
        "from sklearn.metrics import roc_auc_score, accuracy_score\n",
        "from sklearn.model_selection import train_test_split\n",
        "\n",
        "def main():\n",
        "    \"\"\"Main function of the script.\"\"\"\n",
        "\n",
        "    # Input arguments\n",
        "    parser = argparse.ArgumentParser()\n",
        "    parser.add_argument(\"--data\", type=str, help=\"Path to input data\")\n",
        "    parser.add_argument(\"--test_train_ratio\", type=float, required=False, default=0.30)\n",
        "    parser.add_argument(\"--reg_rate\", type=float, required=False, default=0.01, help=\"Regularization rate\")\n",
        "    parser.add_argument(\"--registered_model_name\", type=str, help=\"Model name\")\n",
        "    args = parser.parse_args()\n",
        "\n",
        "    # Start Logging\n",
        "    mlflow.start_run()\n",
        "\n",
        "    # Enable autologging\n",
        "    mlflow.sklearn.autolog()\n",
        "\n",
        "    ###################\n",
        "    # <Prepare the data>\n",
        "    ###################\n",
        "    print(\" \".join(f\"{k}={v}\" for k, v in vars(args).items()))\n",
        "    print(\"Input data:\", args.data)\n",
        "\n",
        "    # Load the diabetes dataset\n",
        "    diabetes = pd.read_csv(args.data)\n",
        "\n",
        "    mlflow.log_metric(\"num_samples\", diabetes.shape[0])\n",
        "    mlflow.log_metric(\"num_features\", diabetes.shape[1] - 1)\n",
        "\n",
        "    # Split data into training set and test set\n",
        "    train_df, test_df = train_test_split(\n",
        "        diabetes,\n",
        "        test_size=args.test_train_ratio,\n",
        "        random_state=0\n",
        "    )\n",
        "    ###################\n",
        "    # </Prepare the data>\n",
        "    ###################\n",
        "\n",
        "    ##################\n",
        "    # <Train the model>\n",
        "    ##################\n",
        "    # Extracting the label column\n",
        "    y_train = train_df.pop(\"Outcome\")\n",
        "    X_train = train_df.values\n",
        "\n",
        "    # Extracting the label column for test set\n",
        "    y_test = test_df.pop(\"Outcome\")\n",
        "    X_test = test_df.values\n",
        "\n",
        "    print(f\"Training with data of shape {X_train.shape}\")\n",
        "\n",
        "    # Train a logistic regression model\n",
        "    model = LogisticRegression(C=1/args.reg_rate, solver=\"liblinear\", max_iter=1000)\n",
        "    model.fit(X_train, y_train)\n",
        "\n",
        "    # Make predictions\n",
        "    y_hat = model.predict(X_test)\n",
        "    acc = accuracy_score(y_test, y_hat)\n",
        "    print('Accuracy:', acc)\n",
        "    mlflow.log_metric(\"accuracy\", acc)\n",
        "\n",
        "    # Calculate AUC\n",
        "    y_scores = model.predict_proba(X_test)\n",
        "    auc = roc_auc_score(y_test, y_scores[:, 1])\n",
        "    print('AUC:', auc)\n",
        "    mlflow.log_metric(\"auc\", auc)\n",
        "    ##################\n",
        "    # </Train the model>\n",
        "    ##################\n",
        "\n",
        "    ##########################\n",
        "    # <Save and register model>\n",
        "    ##########################\n",
        "    # Registering the model to the workspace\n",
        "    print(\"Registering the model via MLFlow\")\n",
        "    mlflow.sklearn.log_model(\n",
        "        sk_model=model,\n",
        "        registered_model_name=args.registered_model_name,\n",
        "        artifact_path=args.registered_model_name,\n",
        "    )\n",
        "\n",
        "    # Saving the model to a file\n",
        "    mlflow.sklearn.save_model(\n",
        "        sk_model=model,\n",
        "        path=os.path.join(args.registered_model_name, \"trained_model\"),\n",
        "    )\n",
        "    \n",
        "    # Stop Logging\n",
        "    mlflow.end_run()\n",
        "\n",
        "if __name__ == \"__main__\":\n",
        "    main()\n"
      ]
    },
    {
      "cell_type": "code",
      "execution_count": null,
      "metadata": {
        "gather": {
          "logged": 1722463275066
        },
        "jupyter": {
          "outputs_hidden": false,
          "source_hidden": false
        },
        "nteract": {
          "transient": {
            "deleting": false
          }
        }
      },
      "outputs": [],
      "source": [
        "# Display the contents of the file\n",
        "!cat diabetes_training_v2.py"
      ]
    },
    {
      "cell_type": "markdown",
      "metadata": {
        "nteract": {
          "transient": {
            "deleting": false
          }
        }
      },
      "source": [
        "How could you improve this version ?"
      ]
    },
    {
      "cell_type": "markdown",
      "metadata": {
        "nteract": {
          "transient": {
            "deleting": false
          }
        }
      },
      "source": [
        "# Launching the Script"
      ]
    },
    {
      "cell_type": "code",
      "execution_count": null,
      "metadata": {
        "gather": {
          "logged": 1722464170397
        },
        "jupyter": {
          "outputs_hidden": false,
          "source_hidden": false
        },
        "nteract": {
          "transient": {
            "deleting": false
          }
        }
      },
      "outputs": [],
      "source": [
        "# Import the libraries\n",
        "from azure.ai.ml import MLClient, command, Input\n",
        "from azure.ai.ml.entities import Environment\n",
        "from azure.identity import DefaultAzureCredential\n",
        "\n",
        "# Name the model you registered earlier in the training script\n",
        "registered_model_name = \"diabetes_model\"  # Change this to the name you used in your training script\n",
        "\n",
        "# Get the data asset\n",
        "data_asset = ml_client.data.get(\"diabetes\", version=\"1\")\n",
        "\n",
        "# Configure the command job\n",
        "job = command(\n",
        "    inputs=dict(\n",
        "        # uri_file refers to a specific file as a data asset\n",
        "        data=Input(type=\"uri_file\", path=data_asset.path),\n",
        "        test_train_ratio=0.30,  # Input variable in main.py\n",
        "        reg_rate=0.01,  # Input variable in main.py\n",
        "        registered_model_name=registered_model_name,  # Input variable in main.py\n",
        "    ),\n",
        "    code=\"./\",  # Location of source code (where your diabetes_training.py is located)\n",
        "    # The inputs/outputs are accessible in the command via the ${{ ... }} notation\n",
        "    command=\"python diabetes_training_v2.py --data ${{inputs.data}} --test_train_ratio ${{inputs.test_train_ratio}} --reg_rate ${{inputs.reg_rate}} --registered_model_name ${{inputs.registered_model_name}}\",\n",
        "    # This is the ready-made environment you are using\n",
        "    environment=\"azureml://registries/azureml/environments/sklearn-1.5/labels/latest\",  # Update to your specific environment if needed\n",
        "    # This is the compute you created earlier\n",
        "    compute=\"vmdemo\",  # Change this to your compute target name\n",
        "    # An experiment is a container for all the iterations one does on a certain project.\n",
        "    experiment_name=\"train_model_diabetes_prediction\",  # Change this to your desired experiment name\n",
        "    display_name=\"diabetes_prediction\",  # Change this to your desired display name\n",
        ")\n",
        "\n",
        "# Submit the job\n",
        "try:\n",
        "    returned_job = ml_client.jobs.create_or_update(job)\n",
        "    print(f\"Job submitted successfully: {returned_job.name}\")\n",
        "    print(f\"Monitoring URL: {returned_job.studio_url}\")\n",
        "\n",
        "    # If you want to wait for the job to complete\n",
        "    ml_client.jobs.stream(returned_job.name)\n",
        "except Exception as e:\n",
        "    print(f\"An error occurred while submitting the job: {e}\")\n"
      ]
    },
    {
      "cell_type": "markdown",
      "metadata": {
        "nteract": {
          "transient": {
            "deleting": false
          }
        }
      },
      "source": [
        "# Viewing the execution of the job\n",
        "\n",
        "You can view the result of a training job by clicking the URL generated after submitting a job (above). Alternatively, you can also click Jobs on the left navigation menu. \n",
        "\n",
        "A job is a grouping of many runs from a specified script or piece of code. Information for the run is stored under that job.\n",
        "\n",
        "1. **Overview** is where you can see the status of the job.\n",
        "2. **Metrics** would display different visualizations of the metrics you specified in the script.\n",
        "3. **Images **is where you can view any image artifacts that you have logged with MLflow.\n",
        "4. **Child** jobs contains child jobs if you added them.\n",
        "5. **Outputs + logs** contains log files you need for troubleshooting or other monitoring purposes.\n",
        "6. **Code** contains the script/code used in the job.\n",
        "7. **Explanations and Fairness** are used to see how your model performs against responsible AI standards. They are currently 8. preview features and require additional package installations.\n",
        "9. **Monitoring** is where you can view metrics for the performance of compute resources."
      ]
    },
    {
      "cell_type": "markdown",
      "metadata": {
        "nteract": {
          "transient": {
            "deleting": false
          }
        }
      },
      "source": [
        "# How to set a custom environment (using docker)"
      ]
    },
    {
      "cell_type": "code",
      "execution_count": null,
      "metadata": {
        "jupyter": {
          "outputs_hidden": false,
          "source_hidden": false
        },
        "nteract": {
          "transient": {
            "deleting": false
          }
        }
      },
      "outputs": [],
      "source": [
        "environment_yml_content = \"\"\"\n",
        "name: sklearn-env\n",
        "channels:\n",
        "  - conda-forge\n",
        "dependencies:\n",
        "  - python=3.10\n",
        "  - scikit-learn\n",
        "  - pandas\n",
        "  - pip\n",
        "  - pip:\n",
        "    - azureml-defaults\n",
        "    - azureml-core\n",
        "    - azureml-dataset-runtime\n",
        "    - azureml-mlflow\n",
        "    - mlflow\n",
        "    - joblib\n",
        "\"\"\"\n",
        "\n",
        "# Write the content to a file\n",
        "with open(\"environment.yml\", \"w\") as f:\n",
        "    f.write(environment_yml_content)\n",
        "\n",
        "print(\"environment.yml file has been created in the current directory.\")"
      ]
    },
    {
      "cell_type": "code",
      "execution_count": null,
      "metadata": {
        "gather": {
          "logged": 1722465043763
        },
        "jupyter": {
          "outputs_hidden": false,
          "source_hidden": false
        },
        "nteract": {
          "transient": {
            "deleting": false
          }
        }
      },
      "outputs": [],
      "source": [
        "# Display the contents of the file\n",
        "!cat environment.yml"
      ]
    },
    {
      "cell_type": "code",
      "execution_count": null,
      "metadata": {
        "gather": {
          "logged": 1722466184858
        },
        "jupyter": {
          "outputs_hidden": false,
          "source_hidden": false
        },
        "nteract": {
          "transient": {
            "deleting": false
          }
        }
      },
      "outputs": [],
      "source": [
        "from azure.ai.ml import MLClient, command, Input, Output\n",
        "from azure.ai.ml.entities import Environment\n",
        "from azure.identity import DefaultAzureCredential\n",
        "import os\n",
        "\n",
        "# Create a Python environment for the experiment\n",
        "sklearn_env = Environment(\n",
        "    conda_file=\"environment.yml\",\n",
        "    image=\"mcr.microsoft.com/azureml/openmpi3.1.2-ubuntu18.04:latest\"\n",
        ")\n",
        "\n",
        "# Get the compute target\n",
        "compute_target = ml_client.compute.get(\"vmdemo\")\n",
        "\n",
        "# Get the data asset\n",
        "data_asset = ml_client.data.get(\"diabetes\", version=\"1\")\n",
        "\n",
        "job = command(\n",
        "    code=\"./\",  # Local path where the code is stored\n",
        "    command=\"python diabetes_training.py --data ${{inputs.data}} --registered_model_name ${{inputs.registered_model_name}}\",  # You can pass other parameters as needed\n",
        "    environment=sklearn_env,\n",
        "    compute=compute_target.name,\n",
        "    inputs={\n",
        "        \"data\": Input(type=\"uri_file\", path=data_asset.path),\n",
        "        \"registered_model_name\": registered_model_name\n",
        "    }\n",
        ")\n",
        "\n",
        "# Submit the job\n",
        "try:\n",
        "    returned_job = ml_client.jobs.create_or_update(job)\n",
        "    print(f\"Job submitted successfully: {returned_job.name}\")\n",
        "    print(f\"Monitoring URL: {returned_job.studio_url}\")\n",
        "\n",
        "    # If you want to wait for the job to complete\n",
        "    ml_client.jobs.stream(returned_job.name)\n",
        "except Exception as e:\n",
        "    print(f\"An error occurred while submitting the job: {e}\")\n"
      ]
    },
    {
      "cell_type": "markdown",
      "metadata": {
        "nteract": {
          "transient": {
            "deleting": false
          }
        }
      },
      "source": [
        "# Deploying your model\n",
        "\n",
        "See the section 7 in in this [notebook](https://github.com/Azure/azureml-examples/blob/main/tutorials/azureml-getting-started/azureml-getting-started-studio.ipynb)\n",
        "\n",
        "You have to use the minimum VM requirement : `Standard_D2as_v4`\n"
      ]
    },
    {
      "cell_type": "markdown",
      "metadata": {
        "nteract": {
          "transient": {
            "deleting": false
          }
        }
      },
      "source": [
        "# Consuming the model\n",
        "\n",
        "You can test from the interface using the data :\n",
        "\n",
        "```json\n",
        "{\n",
        "  \"input_data\": {\n",
        "    \"columns\": [0,1,2,3,4,5,6,7],\n",
        "    \"index\": [0],\n",
        "    \"data\": [\n",
        "            [6, 148, 72, 35, 0, 33.6, 0.627, 70]\n",
        "        ]\n",
        "  }\n",
        "}\n",
        "```"
      ]
    },
    {
      "cell_type": "code",
      "execution_count": 5,
      "metadata": {
        "gather": {
          "logged": 1722468858265
        },
        "jupyter": {
          "outputs_hidden": false,
          "source_hidden": false
        },
        "nteract": {
          "transient": {
            "deleting": false
          }
        }
      },
      "outputs": [
        {
          "name": "stdout",
          "output_type": "stream",
          "text": [
            "Prediction: [1]\n"
          ]
        }
      ],
      "source": [
        "# consume with code\n",
        "endpoint = 'https://demo-azure-ml-cwlgd.westus.inference.ml.azure.com/score' #Replace with your endpoint\n",
        "key = '' #Replace with your key\n",
        "\n",
        "import json\n",
        "import requests\n",
        "\n",
        "#Features for a patient\n",
        "input_data = {\n",
        "  \"input_data\": {\n",
        "    \"columns\": [0,1,2,3,4,5,6,7],\n",
        "    \"index\": [0],\n",
        "    \"data\": [\n",
        "            [6, 148, 72, 35, 0, 33.6, 0.627, 70]\n",
        "        ]\n",
        "  }\n",
        "}\n",
        "\n",
        "#Create a \"data\" JSON object\n",
        "input_json = json.dumps(input_data)\n",
        "\n",
        "#Set the content type and authentication for the request\n",
        "headers = {\"Content-Type\":\"application/json\",\n",
        "           \"Authorization\":\"Bearer \" + key}\n",
        "\n",
        "#Send the request\n",
        "response = requests.post(endpoint, input_json, headers=headers)\n",
        "\n",
        "#If we got a valid response, display the predictions\n",
        "if response.status_code == 200:\n",
        "    y = response.json()\n",
        "    #Get the first prediction in the results\n",
        "    print(\"Prediction:\", y)\n",
        "else:\n",
        "    print(response)"
      ]
    },
    {
      "cell_type": "markdown",
      "metadata": {
        "nteract": {
          "transient": {
            "deleting": false
          }
        }
      },
      "source": [
        "With the code provided from the interface."
      ]
    },
    {
      "cell_type": "code",
      "execution_count": 6,
      "metadata": {
        "gather": {
          "logged": 1722468930993
        },
        "jupyter": {
          "outputs_hidden": false,
          "source_hidden": false
        },
        "nteract": {
          "transient": {
            "deleting": false
          }
        }
      },
      "outputs": [
        {
          "name": "stdout",
          "output_type": "stream",
          "text": [
            "b'[1]'\n"
          ]
        }
      ],
      "source": [
        "import urllib.request\n",
        "import json\n",
        "import os\n",
        "import ssl\n",
        "\n",
        "def allowSelfSignedHttps(allowed):\n",
        "    # bypass the server certificate verification on client side\n",
        "    if allowed and not os.environ.get('PYTHONHTTPSVERIFY', '') and getattr(ssl, '_create_unverified_context', None):\n",
        "        ssl._create_default_https_context = ssl._create_unverified_context\n",
        "\n",
        "allowSelfSignedHttps(True) # this line is needed if you use self-signed certificate in your scoring service.\n",
        "\n",
        "# Request data goes here\n",
        "# The example below assumes JSON formatting which may be updated\n",
        "# depending on the format your endpoint expects.\n",
        "# More information can be found here:\n",
        "# https://docs.microsoft.com/azure/machine-learning/how-to-deploy-advanced-entry-script\n",
        "data =  {\n",
        "  \"input_data\": {\n",
        "    \"columns\": [0,1,2,3,4,5,6,7],\n",
        "    \"index\": [0],\n",
        "    \"data\": [\n",
        "            [6, 148, 72, 35, 0, 33.6, 0.627, 70]\n",
        "        ]\n",
        "  },\n",
        "  \"params\": {}\n",
        "}\n",
        "\n",
        "body = str.encode(json.dumps(data))\n",
        "\n",
        "url = 'https://demo-azure-ml-cwlgd.westus.inference.ml.azure.com/score'\n",
        "# Replace this with the primary/secondary key, AMLToken, or Microsoft Entra ID token for the endpoint\n",
        "api_key = ''\n",
        "if not api_key:\n",
        "    raise Exception(\"A key should be provided to invoke the endpoint\")\n",
        "\n",
        "# The azureml-model-deployment header will force the request to go to a specific deployment.\n",
        "# Remove this header to have the request observe the endpoint traffic rules\n",
        "headers = {'Content-Type':'application/json', 'Authorization':('Bearer '+ api_key), 'azureml-model-deployment': 'diabetes-model-1' }\n",
        "\n",
        "req = urllib.request.Request(url, body, headers)\n",
        "\n",
        "try:\n",
        "    response = urllib.request.urlopen(req)\n",
        "\n",
        "    result = response.read()\n",
        "    print(result)\n",
        "except urllib.error.HTTPError as error:\n",
        "    print(\"The request failed with status code: \" + str(error.code))\n",
        "\n",
        "    # Print the headers - they include the requert ID and the timestamp, which are useful for debugging the failure\n",
        "    print(error.info())\n",
        "    print(error.read().decode(\"utf8\", 'ignore'))"
      ]
    }
  ],
  "metadata": {
    "kernel_info": {
      "name": "python310-sdkv2"
    },
    "kernelspec": {
      "display_name": "Python 3.10 - SDK v2",
      "language": "python",
      "name": "python310-sdkv2"
    },
    "language_info": {
      "codemirror_mode": {
        "name": "ipython",
        "version": 3
      },
      "file_extension": ".py",
      "mimetype": "text/x-python",
      "name": "python",
      "nbconvert_exporter": "python",
      "pygments_lexer": "ipython3",
      "version": "3.10.14"
    },
    "microsoft": {
      "host": {
        "AzureML": {
          "notebookHasBeenCompleted": true
        }
      },
      "ms_spell_check": {
        "ms_spell_check_language": "en"
      }
    },
    "nteract": {
      "version": "nteract-front-end@1.0.0"
    }
  },
  "nbformat": 4,
  "nbformat_minor": 2
}
