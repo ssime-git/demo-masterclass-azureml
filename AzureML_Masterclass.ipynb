{
  "cells": [
    {
      "cell_type": "markdown",
      "source": [
        "# Environment Setup\n",
        "\n",
        "> Make sure to use the  **3.10 - SDK v2** kernel"
      ],
      "metadata": {
        "nteract": {
          "transient": {
            "deleting": false
          }
        }
      }
    },
    {
      "cell_type": "code",
      "source": [
        "pip show azure-ai-ml"
      ],
      "outputs": [
        {
          "output_type": "stream",
          "name": "stdout",
          "text": "Name: azure-ai-ml\r\nVersion: 1.16.1\r\nSummary: Microsoft Azure Machine Learning Client Library for Python\r\nHome-page: https://github.com/Azure/azure-sdk-for-python\r\nAuthor: Microsoft Corporation\r\nAuthor-email: azuresdkengsysadmins@microsoft.com\r\nLicense: MIT License\r\nLocation: /anaconda/envs/azureml_py310_sdkv2/lib/python3.10/site-packages\r\nRequires: azure-common, azure-core, azure-mgmt-core, azure-storage-blob, azure-storage-file-datalake, azure-storage-file-share, colorama, isodate, jsonschema, marshmallow, msrest, opencensus-ext-azure, opencensus-ext-logging, pydash, pyjwt, pyyaml, strictyaml, tqdm, typing-extensions\r\nRequired-by: \r\nNote: you may need to restart the kernel to use updated packages.\n"
        }
      ],
      "execution_count": 1,
      "metadata": {
        "jupyter": {
          "source_hidden": false,
          "outputs_hidden": false
        },
        "nteract": {
          "transient": {
            "deleting": false
          }
        },
        "gather": {
          "logged": 1726186680005
        }
      }
    },
    {
      "cell_type": "markdown",
      "source": [
        "# Connect to the workspace"
      ],
      "metadata": {
        "nteract": {
          "transient": {
            "deleting": false
          }
        }
      }
    },
    {
      "cell_type": "code",
      "source": [
        "from azure.identity import DefaultAzureCredential, InteractiveBrowserCredential\n",
        "from azure.ai.ml import MLClient\n",
        "\n",
        "try:\n",
        "    credential = DefaultAzureCredential()\n",
        "    # Check if given credential can get token successfully.\n",
        "    credential.get_token(\"https://management.azure.com/.default\")\n",
        "except Exception as ex:\n",
        "    # Fall back to InteractiveBrowserCredential in case DefaultAzureCredential not work\n",
        "    credential = InteractiveBrowserCredential()"
      ],
      "outputs": [],
      "execution_count": 2,
      "metadata": {
        "jupyter": {
          "source_hidden": false,
          "outputs_hidden": false
        },
        "nteract": {
          "transient": {
            "deleting": false
          }
        },
        "gather": {
          "logged": 1726186736700
        }
      }
    },
    {
      "cell_type": "code",
      "source": [
        "# Get a handle to workspace\n",
        "ml_client = MLClient.from_config(credential=credential)"
      ],
      "outputs": [
        {
          "output_type": "stream",
          "name": "stderr",
          "text": "Found the config file in: /config.json\n"
        }
      ],
      "execution_count": 3,
      "metadata": {
        "jupyter": {
          "source_hidden": false,
          "outputs_hidden": false
        },
        "nteract": {
          "transient": {
            "deleting": false
          }
        },
        "gather": {
          "logged": 1726186738631
        }
      }
    },
    {
      "cell_type": "markdown",
      "source": [
        "# Wait a minute...\n",
        "\n",
        "Remember the ML workflow ?"
      ],
      "metadata": {
        "nteract": {
          "transient": {
            "deleting": false
          }
        }
      }
    },
    {
      "cell_type": "markdown",
      "source": [
        "The typical machine learning workflow in Azure Machine Learning (Azure ML) consists of the following key steps:\n",
        "\n",
        "1. **Data Preparation**:\n",
        "   - Gather and preprocess the data required for your machine learning tasks.\n",
        "   - This may involve tasks like data cleaning, feature engineering, and data transformation.\n",
        "   - The data can be stored in the workspace blob store or other supported data sources.\n",
        "\n",
        "2. **Experiment Creation**:\n",
        "   - Define your machine learning experiment, including the algorithm, hyperparameters, and other configurations.\n",
        "   - Create a training script that encapsulates the model training logic.\n",
        "   - Set up the compute target (e.g., virtual machine, Azure Kubernetes Service) where the experiment will be run.\n",
        "\n",
        "3. **Model Training**:\n",
        "   - Submit the experiment to the selected compute target for training.\n",
        "   - The training script is executed, and the model is trained on the prepared data.\n",
        "   - The trained model is registered in the Azure ML model registry.\n",
        "\n",
        "4. **Model Evaluation**:\n",
        "   - Evaluate the performance of the trained model using appropriate metrics and techniques.\n",
        "   - This may involve tasks like model validation, hyperparameter tuning, and model comparison.\n",
        "   - The evaluation results are stored in the artifact store.\n",
        "\n",
        "5. **Model Deployment**:\n",
        "   - Package the trained model for deployment as a web service or other deployment target.\n",
        "   - Deploy the model to a compute target (e.g., Azure Container Instances, Azure Kubernetes Service) for real-time inference or batch processing.\n",
        "   - Configure the deployment to handle incoming requests and provide predictions.\n",
        "\n",
        "6. **Monitoring and Retraining**:\n",
        "   - Monitor the deployed model's performance and track any drift or degradation in its accuracy.\n",
        "   - Retrain the model periodically using new data or updated algorithms to maintain its performance.\n",
        "   - The retrained model can be registered and redeployed, following the same workflow.\n",
        "\n",
        "Throughout this workflow, Azure ML provides various tools, services, and capabilities to streamline the process, such as:\n",
        "- Experiment management and tracking\n",
        "- Automated machine learning (AutoML)\n",
        "- Model management and deployment\n",
        "- Monitoring and logging\n",
        "- Collaboration and sharing\n",
        "\n",
        "The specific steps and tools used may vary depending on the complexity of the machine learning problem and the requirements of your project."
      ],
      "metadata": {
        "nteract": {
          "transient": {
            "deleting": false
          }
        }
      }
    },
    {
      "cell_type": "markdown",
      "source": [
        "# Load the data for experimentation"
      ],
      "metadata": {
        "nteract": {
          "transient": {
            "deleting": false
          }
        }
      }
    },
    {
      "cell_type": "markdown",
      "source": [
        ">You can get the code below, from the data asset tab."
      ],
      "metadata": {
        "nteract": {
          "transient": {
            "deleting": false
          }
        }
      }
    },
    {
      "cell_type": "code",
      "source": [
        "#from azure.ai.ml import MLClient\n",
        "import pandas as pd\n",
        "from azure.identity import DefaultAzureCredential\n",
        "\n",
        "# If credential is not defined above\n",
        "data_asset = ml_client.data.get(\"diabetes\", version=\"1\")\n",
        "\n",
        "df = pd.read_csv(data_asset.path)\n",
        "df.head()"
      ],
      "outputs": [
        {
          "output_type": "execute_result",
          "execution_count": 18,
          "data": {
            "text/plain": "   Pregnancies  Glucose  BloodPressure  SkinThickness  Insulin   BMI  \\\n0            6      148             72             35        0  33.6   \n1            1       85             66             29        0  26.6   \n2            8      183             64              0        0  23.3   \n3            1       89             66             23       94  28.1   \n4            0      137             40             35      168  43.1   \n\n   DiabetesPedigreeFunction  Age  Outcome  \n0                     0.627   50        1  \n1                     0.351   31        0  \n2                     0.672   32        1  \n3                     0.167   21        0  \n4                     2.288   33        1  ",
            "text/html": "<div>\n<style scoped>\n    .dataframe tbody tr th:only-of-type {\n        vertical-align: middle;\n    }\n\n    .dataframe tbody tr th {\n        vertical-align: top;\n    }\n\n    .dataframe thead th {\n        text-align: right;\n    }\n</style>\n<table border=\"1\" class=\"dataframe\">\n  <thead>\n    <tr style=\"text-align: right;\">\n      <th></th>\n      <th>Pregnancies</th>\n      <th>Glucose</th>\n      <th>BloodPressure</th>\n      <th>SkinThickness</th>\n      <th>Insulin</th>\n      <th>BMI</th>\n      <th>DiabetesPedigreeFunction</th>\n      <th>Age</th>\n      <th>Outcome</th>\n    </tr>\n  </thead>\n  <tbody>\n    <tr>\n      <th>0</th>\n      <td>6</td>\n      <td>148</td>\n      <td>72</td>\n      <td>35</td>\n      <td>0</td>\n      <td>33.6</td>\n      <td>0.627</td>\n      <td>50</td>\n      <td>1</td>\n    </tr>\n    <tr>\n      <th>1</th>\n      <td>1</td>\n      <td>85</td>\n      <td>66</td>\n      <td>29</td>\n      <td>0</td>\n      <td>26.6</td>\n      <td>0.351</td>\n      <td>31</td>\n      <td>0</td>\n    </tr>\n    <tr>\n      <th>2</th>\n      <td>8</td>\n      <td>183</td>\n      <td>64</td>\n      <td>0</td>\n      <td>0</td>\n      <td>23.3</td>\n      <td>0.672</td>\n      <td>32</td>\n      <td>1</td>\n    </tr>\n    <tr>\n      <th>3</th>\n      <td>1</td>\n      <td>89</td>\n      <td>66</td>\n      <td>23</td>\n      <td>94</td>\n      <td>28.1</td>\n      <td>0.167</td>\n      <td>21</td>\n      <td>0</td>\n    </tr>\n    <tr>\n      <th>4</th>\n      <td>0</td>\n      <td>137</td>\n      <td>40</td>\n      <td>35</td>\n      <td>168</td>\n      <td>43.1</td>\n      <td>2.288</td>\n      <td>33</td>\n      <td>1</td>\n    </tr>\n  </tbody>\n</table>\n</div>"
          },
          "metadata": {}
        }
      ],
      "execution_count": 18,
      "metadata": {
        "gather": {
          "logged": 1726189830608
        }
      }
    },
    {
      "cell_type": "markdown",
      "source": [
        "# Audit & Explore the data"
      ],
      "metadata": {
        "nteract": {
          "transient": {
            "deleting": false
          }
        }
      }
    },
    {
      "cell_type": "code",
      "source": [
        "# get data infos\n",
        "df.info()"
      ],
      "outputs": [
        {
          "output_type": "stream",
          "name": "stdout",
          "text": "<class 'pandas.core.frame.DataFrame'>\nRangeIndex: 768 entries, 0 to 767\nData columns (total 9 columns):\n #   Column                    Non-Null Count  Dtype  \n---  ------                    --------------  -----  \n 0   Pregnancies               768 non-null    int64  \n 1   Glucose                   768 non-null    int64  \n 2   BloodPressure             768 non-null    int64  \n 3   SkinThickness             768 non-null    int64  \n 4   Insulin                   768 non-null    int64  \n 5   BMI                       768 non-null    float64\n 6   DiabetesPedigreeFunction  768 non-null    float64\n 7   Age                       768 non-null    int64  \n 8   Outcome                   768 non-null    int64  \ndtypes: float64(2), int64(7)\nmemory usage: 54.1 KB\n"
        }
      ],
      "execution_count": 5,
      "metadata": {
        "jupyter": {
          "source_hidden": false,
          "outputs_hidden": false
        },
        "nteract": {
          "transient": {
            "deleting": false
          }
        },
        "gather": {
          "logged": 1726185007098
        }
      }
    },
    {
      "cell_type": "markdown",
      "source": [
        "### Questions :\n",
        "\n",
        "1. Do we need dome data preparation ?\n",
        "2. What should we do next ?"
      ],
      "metadata": {
        "nteract": {
          "transient": {
            "deleting": false
          }
        }
      }
    },
    {
      "cell_type": "code",
      "source": [
        "import matplotlib.pyplot as plt\n",
        "%matplotlib inline\n",
        "df.hist(figsize=(16, 9));"
      ],
      "outputs": [
        {
          "output_type": "display_data",
          "data": {
            "text/plain": "<Figure size 1600x900 with 9 Axes>",
            "image/png": "[encoded data removed]"
          },
          "metadata": {}
        }
      ],
      "execution_count": 6,
      "metadata": {
        "jupyter": {
          "source_hidden": false,
          "outputs_hidden": false
        },
        "nteract": {
          "transient": {
            "deleting": false
          }
        },
        "gather": {
          "logged": 1726185117338
        }
      }
    },
    {
      "cell_type": "markdown",
      "source": [
        "### Questions:\n",
        "1. What do you see ?\n",
        "2. how do you interpret these graphs (from an ML point of view) ?"
      ],
      "metadata": {
        "nteract": {
          "transient": {
            "deleting": false
          }
        }
      }
    },
    {
      "cell_type": "markdown",
      "source": [
        "\n",
        "Each histogram shows the frequency distribution of the respective variable across the dataset. From a machine learning perspective, these graphs provide valuable insights:\n",
        "\n",
        "- **Feature distributions**: The histograms show the distribution of each feature, which is crucial for understanding the dataset and potential preprocessing needs.\n",
        "\n",
        "- **Imbalanced features**: Some features like `Insulin` and `Glucose` show highly skewed distributions, which might require normalization or transformation before model training.\n",
        "\n",
        "- **Potential correlations**: Features like `BMI`, `Glucose`, and `Blood Pressure` show distributions that might correlate with diabetes risk.\n",
        "\n",
        "- **Age distribution**: The age histogram shows a right-skewed distribution, with most subjects being younger and fewer older subjects.\n",
        "\n",
        "- **Preprocessing needs**: Features like `Skin Thickness` and `Insulin` have many zero values, which might indicate missing data that needs handling.\n",
        "\n",
        "- **Feature engineering opportunities**: The Diabetes Pedigree Function could be a engineered feature combining family history information.\n",
        "\n",
        "| Aspect | Description |\n",
        "|--------|-------------|\n",
        "| Definition | A synthetic feature quantifying genetic influence on diabetes risk |\n",
        "| Purpose | Condense complex familial diabetes information into a single numeric value |\n",
        "| Calculation Factors | - Number of relatives with diabetes<br>- Degree of relation (e.g., parent, sibling)<br>- Age of onset in affected relatives<br>- Possibly severity of diabetes in family members |\n",
        "| Distribution | Right-skewed; most individuals have lower values, with a long tail for higher genetic risk |\n",
        "| ML Implications | - Likely high predictive power<br>- May have non-linear relationships with outcome<br>- Might benefit from normalization or log-transformation |\n",
        "| Feature Engineering Example | Demonstrates distillation of complex, multi-faceted information into a single feature |\n",
        "| Potential for Exploration | - Investigate exact calculation method<br>- Identify significant risk thresholds |\n",
        "| Limitations | - Needs validation to avoid unintended biases<br>- May not capture all aspects of genetic risk |\n",
        "| Value for ML | Encapsulates domain expertise, providing a template for quantifying complex risk factors |\n",
        "\n",
        "- **Outlier detection**: Some features (e.g., Pregnancies, Glucose) show potential outliers that might need investigation.\n",
        "\n",
        "These insights would guide the data preprocessing, feature engineering, and model selection stages in a machine learning pipeline for predicting diabetes risk or related health outcomes."
      ],
      "metadata": {
        "nteract": {
          "transient": {
            "deleting": false
          }
        }
      }
    },
    {
      "cell_type": "markdown",
      "source": [
        "Few variables might need scaling or normalizing (looking at the distributions). \n",
        "\n",
        "**But here let's just pretend that everything is fine (NO IT'S NOT!! :wink)**"
      ],
      "metadata": {
        "nteract": {
          "transient": {
            "deleting": false
          }
        }
      }
    },
    {
      "cell_type": "markdown",
      "source": [
        "# Train a model baseline"
      ],
      "metadata": {
        "nteract": {
          "transient": {
            "deleting": false
          }
        }
      }
    },
    {
      "cell_type": "code",
      "source": [
        "from sklearn.model_selection import train_test_split\n",
        "from sklearn.linear_model import LogisticRegression\n",
        "from sklearn.metrics import accuracy_score\n",
        "\n",
        "# Prepare the data\n",
        "X = df.drop(\"Outcome\", axis=1)\n",
        "y = df[\"Outcome\"]\n",
        "X_train, X_test, y_train, y_test = train_test_split(X, y, test_size=0.2, random_state=42)\n",
        "\n",
        "# Train the model\n",
        "model = LogisticRegression(max_iter=1000)\n",
        "model.fit(X_train, y_train)\n",
        "\n",
        "# Make predictions\n",
        "y_pred = model.predict(X_test)\n",
        "\n",
        "# Calculate accuracy\n",
        "accuracy = accuracy_score(y_test, y_pred)\n",
        "print(f\"training accuracy: {model.score(X_train, y_train)}\")\n",
        "print(f\"Model accuracy: {accuracy}\")"
      ],
      "outputs": [
        {
          "output_type": "stream",
          "name": "stdout",
          "text": "training accuracy: 0.7703583061889251\nModel accuracy: 0.7467532467532467\n"
        }
      ],
      "execution_count": 5,
      "metadata": {
        "jupyter": {
          "source_hidden": false,
          "outputs_hidden": false
        },
        "nteract": {
          "transient": {
            "deleting": false
          }
        },
        "gather": {
          "logged": 1726186860627
        }
      }
    },
    {
      "cell_type": "markdown",
      "source": [
        "After training a logistic regression model using scikit-learn, you can extract the coefficients (or weights) of the features and use them to plot the feature importance. Here's how:\n",
        "\n",
        "**Method 1: Using coef_ attribute**\n",
        "\n",
        "In scikit-learn, the coefficients of the features are stored in the `coef_` attribute of the logistic regression object.\n",
        "\n",
        "```python\n",
        "from sklearn.linear_model import LogisticRegression\n",
        "\n",
        "# Train a logistic regression model\n",
        "X = ...  # your feature matrix\n",
        "y = ...  # your target vector\n",
        "logreg = LogisticRegression()\n",
        "logreg.fit(X, y)\n",
        "\n",
        "# Get the coefficients (weights) of the features\n",
        "coefficients = logreg.coef_\n",
        "\n",
        "# Plot the feature importance\n",
        "import matplotlib.pyplot as plt\n",
        "\n",
        "plt.bar(range(len(coefficients[0])), abs(coefficients[0]))\n",
        "plt.xlabel('Feature Index')\n",
        "plt.ylabel('Absolute Weight')\n",
        "plt.title('Feature Importance')\n",
        "plt.show()\n",
        "```\n",
        "\n",
        "This will plot a bar chart with the absolute values of the coefficients on the y-axis and the feature indices on the x-axis. The features with larger weights (coefficients) are more important.\n",
        "\n",
        "**Method 2: Using permutation importance**\n",
        "\n",
        "Another way to estimate feature importance is by using permutation importance, which measures how much the model's performance changes when a feature is randomly shuffled.\n",
        "\n",
        "```python\n",
        "from sklearn.inspection import permutation_importance\n",
        "\n",
        "# Train a logistic regression model\n",
        "X = ...  # your feature matrix\n",
        "y = ...  # your target vector\n",
        "logreg = LogisticRegression()\n",
        "logreg.fit(X, y)\n",
        "\n",
        "# Calculate permutation importance for each feature\n",
        "importances = permutation_importance(logreg, X, y, n_repeats=10, random_state=42).importances_mean\n",
        "\n",
        "# Plot the feature importance\n",
        "plt.bar(range(len(importances)), importances)\n",
        "plt.xlabel('Feature Index')\n",
        "plt.ylabel('Importance Score')\n",
        "plt.title('Feature Importance')\n",
        "plt.show()\n",
        "```\n",
        "\n",
        "Both methods can give you an idea of which features are most important in your logistic regression model. However, keep in mind that the permutation importance method can be computationally expensive for large datasets."
      ],
      "metadata": {
        "nteract": {
          "transient": {
            "deleting": false
          }
        }
      }
    },
    {
      "cell_type": "code",
      "source": [
        "# Plot the feature importance\n",
        "import matplotlib.pyplot as plt\n",
        "\n",
        "# Challenge for later - plot the feature importance\n",
        "# Get the coefficients (weights) of the features\n",
        "coefficients = model.coef_\n",
        "\n",
        "plt.bar(X_train.columns.tolist(), abs(coefficients[0]))\n",
        "plt.xlabel('Feature Index')\n",
        "plt.ylabel('Absolute Weight')\n",
        "plt.title('Feature Importance')\n",
        "plt.xticks(rotation=90)\n",
        "plt.show()"
      ],
      "outputs": [
        {
          "output_type": "display_data",
          "data": {
            "text/plain": "<Figure size 640x480 with 1 Axes>",
            "image/png": "[encoded data removed]"
          },
          "metadata": {}
        }
      ],
      "execution_count": 9,
      "metadata": {
        "jupyter": {
          "source_hidden": false,
          "outputs_hidden": false
        },
        "nteract": {
          "transient": {
            "deleting": false
          }
        },
        "gather": {
          "logged": 1726187437320
        }
      }
    },
    {
      "cell_type": "markdown",
      "source": [
        "# What do you think about the next steps\n",
        "\n",
        "1. How do you find these results ? What could you say about it ?\n",
        "2. What should we do next ?"
      ],
      "metadata": {
        "nteract": {
          "transient": {
            "deleting": false
          }
        }
      }
    },
    {
      "cell_type": "markdown",
      "source": [
        "# Training Pipeline v0"
      ],
      "metadata": {
        "nteract": {
          "transient": {
            "deleting": false
          }
        }
      }
    },
    {
      "cell_type": "code",
      "source": [
        "%%writefile diabetes_training.py\n",
        "# Import libraries\n",
        "import argparse\n",
        "import pandas as pd\n",
        "import numpy as np\n",
        "import os\n",
        "from sklearn.model_selection import train_test_split\n",
        "from sklearn.linear_model import LogisticRegression\n",
        "from sklearn.metrics import roc_auc_score, accuracy_score\n",
        "import mlflow\n",
        "import mlflow.sklearn\n",
        "\n",
        "# Parse arguments\n",
        "parser = argparse.ArgumentParser()\n",
        "parser.add_argument(\"--data\", type=str, help=\"Path to input data\")\n",
        "parser.add_argument(\"--reg_rate\", type=float, default=0.01, help=\"Regularization rate\")\n",
        "parser.add_argument(\"--registered_model_name\", type=str, help=\"Model name\")\n",
        "args = parser.parse_args()\n",
        "\n",
        "\n",
        "# Start MLflow run\n",
        "with mlflow.start_run():\n",
        "\n",
        "    # Enable autologging\n",
        "    mlflow.sklearn.autolog()\n",
        "\n",
        "    # log the regularization rate\n",
        "    mlflow.log_param(\"regularization_rate\", args.reg_rate)\n",
        "\n",
        "    # load the diabetes dataset\n",
        "    print(\"Loading Data...\")\n",
        "    diabetes = pd.read_csv(args.data)\n",
        "\n",
        "    # Separate features and labels\n",
        "    X = diabetes.drop(\"Outcome\", axis=1)\n",
        "    y = diabetes[\"Outcome\"]\n",
        "\n",
        "    # Split data into training set and test set\n",
        "    X_train, X_test, y_train, y_test = train_test_split(X, y, test_size=0.30, random_state=0)\n",
        "\n",
        "    # Train a logistic regression model\n",
        "    print('Training a logistic regression model with regularization rate of', args.reg_rate)\n",
        "    model = LogisticRegression(C=1/args.reg_rate, solver=\"liblinear\", max_iter=1000).fit(X_train, y_train)\n",
        "\n",
        "    # calculate accuracy\n",
        "    y_hat = model.predict(X_test)\n",
        "    acc = accuracy_score(y_test, y_hat)\n",
        "    print('Accuracy:', acc)\n",
        "    mlflow.log_metric(\"accuracy\", acc)\n",
        "\n",
        "    # calculate AUC\n",
        "    y_scores = model.predict_proba(X_test)\n",
        "    auc = roc_auc_score(y_test, y_scores[:,1])\n",
        "    print('AUC: ' + str(auc))\n",
        "    mlflow.log_metric(\"auc\", auc)\n",
        "\n",
        "    # Log the feature names\n",
        "    mlflow.log_param(\"features\", list(X.columns))\n",
        "\n",
        "    # Registering the model to the workspace\n",
        "    print(\"Registering the model via MLFlow\")\n",
        "    mlflow.sklearn.log_model(\n",
        "        sk_model=model,\n",
        "        registered_model_name=args.registered_model_name,\n",
        "        artifact_path=args.registered_model_name,\n",
        "    )\n",
        "\n",
        "    # Saving the model to a file\n",
        "    mlflow.sklearn.save_model(\n",
        "        sk_model=model,\n",
        "        path=os.path.join(args.registered_model_name, \"trained_model\"),\n",
        "    )\n",
        "\n",
        "print(\"Run completed. Model saved with MLflow\")"
      ],
      "outputs": [
        {
          "output_type": "stream",
          "name": "stdout",
          "text": "Writing diabetes_training.py\n"
        }
      ],
      "execution_count": 10,
      "metadata": {
        "jupyter": {
          "source_hidden": false,
          "outputs_hidden": false
        },
        "nteract": {
          "transient": {
            "deleting": false
          }
        }
      }
    },
    {
      "cell_type": "code",
      "source": [
        "# Display the contents of the file\n",
        "!cat diabetes_training.py"
      ],
      "outputs": [
        {
          "output_type": "stream",
          "name": "stdout",
          "text": "# Import libraries\r\nimport argparse\r\nimport pandas as pd\r\nimport numpy as np\r\nimport os\r\nfrom sklearn.model_selection import train_test_split\r\nfrom sklearn.linear_model import LogisticRegression\r\nfrom sklearn.metrics import roc_auc_score, accuracy_score\r\nimport mlflow\r\nimport mlflow.sklearn\r\n\r\n# Parse arguments\r\nparser = argparse.ArgumentParser()\r\nparser.add_argument(\"--data\", type=str, help=\"Path to input data\")\r\nparser.add_argument(\"--reg_rate\", type=float, default=0.01, help=\"Regularization rate\")\r\nparser.add_argument(\"--registered_model_name\", type=str, help=\"Model name\")\r\nargs = parser.parse_args()\r\n\r\n\r\n# Start MLflow run\r\nwith mlflow.start_run():\r\n\r\n    # Enable autologging\r\n    mlflow.sklearn.autolog()\r\n\r\n    # log the regularization rate\r\n    mlflow.log_param(\"regularization_rate\", args.reg_rate)\r\n\r\n    # load the diabetes dataset\r\n    print(\"Loading Data...\")\r\n    diabetes = pd.read_csv(args.data)\r\n\r\n    # Separate features and labels\r\n    X = diabetes.drop(\"Outcome\", axis=1)\r\n    y = diabetes[\"Outcome\"]\r\n\r\n    # Split data into training set and test set\r\n    X_train, X_test, y_train, y_test = train_test_split(X, y, test_size=0.30, random_state=0)\r\n\r\n    # Train a logistic regression model\r\n    print('Training a logistic regression model with regularization rate of', args.reg_rate)\r\n    model = LogisticRegression(C=1/args.reg_rate, solver=\"liblinear\", max_iter=1000).fit(X_train, y_train)\r\n\r\n    # calculate accuracy\r\n    y_hat = model.predict(X_test)\r\n    acc = accuracy_score(y_test, y_hat)\r\n    print('Accuracy:', acc)\r\n    mlflow.log_metric(\"accuracy\", acc)\r\n\r\n    # calculate AUC\r\n    y_scores = model.predict_proba(X_test)\r\n    auc = roc_auc_score(y_test, y_scores[:,1])\r\n    print('AUC: ' + str(auc))\r\n    mlflow.log_metric(\"auc\", auc)\r\n\r\n    # Log the feature names\r\n    mlflow.log_param(\"features\", list(X.columns))\r\n\r\n    # Registering the model to the workspace\r\n    print(\"Registering the model via MLFlow\")\r\n    mlflow.sklearn.log_model(\r\n        sk_model=model,\r\n        registered_model_name=args.registered_model_name,\r\n        artifact_path=args.registered_model_name,\r\n    )\r\n\r\n    # Saving the model to a file\r\n    mlflow.sklearn.save_model(\r\n        sk_model=model,\r\n        path=os.path.join(args.registered_model_name, \"trained_model\"),\r\n    )\r\n\r\nprint(\"Run completed. Model saved with MLflow\")\r\n"
        }
      ],
      "execution_count": 11,
      "metadata": {
        "jupyter": {
          "source_hidden": false,
          "outputs_hidden": false
        },
        "nteract": {
          "transient": {
            "deleting": false
          }
        },
        "gather": {
          "logged": 1726187499447
        }
      }
    },
    {
      "cell_type": "markdown",
      "source": [
        "What do you think about this script ?\n",
        "\n",
        "Once again, let's pretend it's fine..."
      ],
      "metadata": {
        "nteract": {
          "transient": {
            "deleting": false
          }
        }
      }
    },
    {
      "cell_type": "markdown",
      "source": [
        "# Training script v2"
      ],
      "metadata": {
        "nteract": {
          "transient": {
            "deleting": false
          }
        }
      }
    },
    {
      "cell_type": "markdown",
      "source": [
        "Far from best using a function."
      ],
      "metadata": {
        "nteract": {
          "transient": {
            "deleting": false
          }
        }
      }
    },
    {
      "cell_type": "code",
      "source": [
        "%%writefile diabetes_training_v2.py\n",
        "import os\n",
        "import argparse\n",
        "import pandas as pd\n",
        "import mlflow\n",
        "import mlflow.sklearn\n",
        "from sklearn.linear_model import LogisticRegression\n",
        "from sklearn.metrics import roc_auc_score, accuracy_score\n",
        "from sklearn.model_selection import train_test_split\n",
        "\n",
        "def main():\n",
        "    \"\"\"Main function of the script.\"\"\"\n",
        "\n",
        "    # Input arguments\n",
        "    parser = argparse.ArgumentParser()\n",
        "    parser.add_argument(\"--data\", type=str, help=\"Path to input data\")\n",
        "    parser.add_argument(\"--test_train_ratio\", type=float, required=False, default=0.30)\n",
        "    parser.add_argument(\"--reg_rate\", type=float, required=False, default=0.01, help=\"Regularization rate\")\n",
        "    parser.add_argument(\"--registered_model_name\", type=str, help=\"Model name\")\n",
        "    args = parser.parse_args()\n",
        "\n",
        "    # Start Logging\n",
        "    mlflow.start_run()\n",
        "\n",
        "    # Enable autologging\n",
        "    mlflow.sklearn.autolog()\n",
        "\n",
        "    ###################\n",
        "    # <Prepare the data>\n",
        "    ###################\n",
        "    print(\" \".join(f\"{k}={v}\" for k, v in vars(args).items()))\n",
        "    print(\"Input data:\", args.data)\n",
        "\n",
        "    # Load the diabetes dataset\n",
        "    diabetes = pd.read_csv(args.data)\n",
        "\n",
        "    mlflow.log_metric(\"num_samples\", diabetes.shape[0])\n",
        "    mlflow.log_metric(\"num_features\", diabetes.shape[1] - 1)\n",
        "\n",
        "    # Split data into training set and test set\n",
        "    train_df, test_df = train_test_split(\n",
        "        diabetes,\n",
        "        test_size=args.test_train_ratio,\n",
        "        random_state=0\n",
        "    )\n",
        "    ###################\n",
        "    # </Prepare the data>\n",
        "    ###################\n",
        "\n",
        "    ##################\n",
        "    # <Train the model>\n",
        "    ##################\n",
        "    # Extracting the label column\n",
        "    y_train = train_df.pop(\"Outcome\")\n",
        "    X_train = train_df.values\n",
        "\n",
        "    # Extracting the label column for test set\n",
        "    y_test = test_df.pop(\"Outcome\")\n",
        "    X_test = test_df.values\n",
        "\n",
        "    print(f\"Training with data of shape {X_train.shape}\")\n",
        "\n",
        "    # Train a logistic regression model\n",
        "    model = LogisticRegression(C=1/args.reg_rate, solver=\"liblinear\", max_iter=1000)\n",
        "    model.fit(X_train, y_train)\n",
        "\n",
        "    # Make predictions\n",
        "    y_hat = model.predict(X_test)\n",
        "    acc = accuracy_score(y_test, y_hat)\n",
        "    print('Accuracy:', acc)\n",
        "    mlflow.log_metric(\"accuracy\", acc)\n",
        "\n",
        "    # Calculate AUC\n",
        "    y_scores = model.predict_proba(X_test)\n",
        "    auc = roc_auc_score(y_test, y_scores[:, 1])\n",
        "    print('AUC:', auc)\n",
        "    mlflow.log_metric(\"auc\", auc)\n",
        "    ##################\n",
        "    # </Train the model>\n",
        "    ##################\n",
        "\n",
        "    ##########################\n",
        "    # <Save and register model>\n",
        "    ##########################\n",
        "    # Registering the model to the workspace\n",
        "    print(\"Registering the model via MLFlow\")\n",
        "    mlflow.sklearn.log_model(\n",
        "        sk_model=model,\n",
        "        registered_model_name=args.registered_model_name,\n",
        "        artifact_path=args.registered_model_name,\n",
        "    )\n",
        "\n",
        "    # Saving the model to a file\n",
        "    mlflow.sklearn.save_model(\n",
        "        sk_model=model,\n",
        "        path=os.path.join(args.registered_model_name, \"trained_model\"),\n",
        "    )\n",
        "    \n",
        "    # Stop Logging\n",
        "    mlflow.end_run()\n",
        "\n",
        "if __name__ == \"__main__\":\n",
        "    main()\n"
      ],
      "outputs": [
        {
          "output_type": "stream",
          "name": "stdout",
          "text": "Writing diabetes_training_v2.py\n"
        }
      ],
      "execution_count": 12,
      "metadata": {
        "jupyter": {
          "source_hidden": false,
          "outputs_hidden": false
        },
        "nteract": {
          "transient": {
            "deleting": false
          }
        }
      }
    },
    {
      "cell_type": "code",
      "source": [
        "# Display the contents of the file\n",
        "!cat diabetes_training_v2.py"
      ],
      "outputs": [
        {
          "output_type": "stream",
          "name": "stdout",
          "text": "import os\r\nimport argparse\r\nimport pandas as pd\r\nimport mlflow\r\nimport mlflow.sklearn\r\nfrom sklearn.linear_model import LogisticRegression\r\nfrom sklearn.metrics import roc_auc_score, accuracy_score\r\nfrom sklearn.model_selection import train_test_split\r\n\r\ndef main():\r\n    \"\"\"Main function of the script.\"\"\"\r\n\r\n    # Input arguments\r\n    parser = argparse.ArgumentParser()\r\n    parser.add_argument(\"--data\", type=str, help=\"Path to input data\")\r\n    parser.add_argument(\"--test_train_ratio\", type=float, required=False, default=0.30)\r\n    parser.add_argument(\"--reg_rate\", type=float, required=False, default=0.01, help=\"Regularization rate\")\r\n    parser.add_argument(\"--registered_model_name\", type=str, help=\"Model name\")\r\n    args = parser.parse_args()\r\n\r\n    # Start Logging\r\n    mlflow.start_run()\r\n\r\n    # Enable autologging\r\n    mlflow.sklearn.autolog()\r\n\r\n    ###################\r\n    # <Prepare the data>\r\n    ###################\r\n    print(\" \".join(f\"{k}={v}\" for k, v in vars(args).items()))\r\n    print(\"Input data:\", args.data)\r\n\r\n    # Load the diabetes dataset\r\n    diabetes = pd.read_csv(args.data)\r\n\r\n    mlflow.log_metric(\"num_samples\", diabetes.shape[0])\r\n    mlflow.log_metric(\"num_features\", diabetes.shape[1] - 1)\r\n\r\n    # Split data into training set and test set\r\n    train_df, test_df = train_test_split(\r\n        diabetes,\r\n        test_size=args.test_train_ratio,\r\n        random_state=0\r\n    )\r\n    ###################\r\n    # </Prepare the data>\r\n    ###################\r\n\r\n    ##################\r\n    # <Train the model>\r\n    ##################\r\n    # Extracting the label column\r\n    y_train = train_df.pop(\"Outcome\")\r\n    X_train = train_df.values\r\n\r\n    # Extracting the label column for test set\r\n    y_test = test_df.pop(\"Outcome\")\r\n    X_test = test_df.values\r\n\r\n    print(f\"Training with data of shape {X_train.shape}\")\r\n\r\n    # Train a logistic regression model\r\n    model = LogisticRegression(C=1/args.reg_rate, solver=\"liblinear\", max_iter=1000)\r\n    model.fit(X_train, y_train)\r\n\r\n    # Make predictions\r\n    y_hat = model.predict(X_test)\r\n    acc = accuracy_score(y_test, y_hat)\r\n    print('Accuracy:', acc)\r\n    mlflow.log_metric(\"accuracy\", acc)\r\n\r\n    # Calculate AUC\r\n    y_scores = model.predict_proba(X_test)\r\n    auc = roc_auc_score(y_test, y_scores[:, 1])\r\n    print('AUC:', auc)\r\n    mlflow.log_metric(\"auc\", auc)\r\n    ##################\r\n    # </Train the model>\r\n    ##################\r\n\r\n    ##########################\r\n    # <Save and register model>\r\n    ##########################\r\n    # Registering the model to the workspace\r\n    print(\"Registering the model via MLFlow\")\r\n    mlflow.sklearn.log_model(\r\n        sk_model=model,\r\n        registered_model_name=args.registered_model_name,\r\n        artifact_path=args.registered_model_name,\r\n    )\r\n\r\n    # Saving the model to a file\r\n    mlflow.sklearn.save_model(\r\n        sk_model=model,\r\n        path=os.path.join(args.registered_model_name, \"trained_model\"),\r\n    )\r\n    \r\n    # Stop Logging\r\n    mlflow.end_run()\r\n\r\nif __name__ == \"__main__\":\r\n    main()\r\n"
        }
      ],
      "execution_count": 13,
      "metadata": {
        "jupyter": {
          "source_hidden": false,
          "outputs_hidden": false
        },
        "nteract": {
          "transient": {
            "deleting": false
          }
        },
        "gather": {
          "logged": 1726187555981
        }
      }
    },
    {
      "cell_type": "markdown",
      "source": [
        "### Question :\n",
        "How could you improve this version ?"
      ],
      "metadata": {
        "nteract": {
          "transient": {
            "deleting": false
          }
        }
      }
    },
    {
      "cell_type": "markdown",
      "source": [
        "# Launching the Script"
      ],
      "metadata": {
        "nteract": {
          "transient": {
            "deleting": false
          }
        }
      }
    },
    {
      "cell_type": "code",
      "source": [
        "# Import the libraries\n",
        "from azure.ai.ml import MLClient, command, Input\n",
        "from azure.ai.ml.entities import Environment\n",
        "from azure.identity import DefaultAzureCredential\n",
        "\n",
        "# Name the model you registered earlier in the training script\n",
        "registered_model_name = \"diabetes_model\"  # Change this to the name you used in your training script\n",
        "\n",
        "# Get the data asset\n",
        "data_asset = ml_client.data.get(\"diabetes\", version=\"1\")\n",
        "\n",
        "# Configure the command job\n",
        "job = command(\n",
        "    inputs=dict(\n",
        "        # uri_file refers to a specific file as a data asset\n",
        "        data=Input(type=\"uri_file\", path=data_asset.path),\n",
        "        test_train_ratio=0.30,  # Input variable in main.py\n",
        "        reg_rate=0.01,  # Input variable in main.py\n",
        "        registered_model_name=registered_model_name,  # Input variable in main.py\n",
        "    ),\n",
        "    code=\"./\",  # Location of source code (where your diabetes_training.py is located)\n",
        "    # The inputs/outputs are accessible in the command via the ${{ ... }} notation\n",
        "    command=\"python diabetes_training_v2.py --data ${{inputs.data}} --test_train_ratio ${{inputs.test_train_ratio}} --reg_rate ${{inputs.reg_rate}} --registered_model_name ${{inputs.registered_model_name}}\",\n",
        "    # This is the ready-made environment you are using\n",
        "    environment=\"azureml://registries/azureml/environments/sklearn-1.5/labels/latest\",  # Update to your specific environment if needed\n",
        "    # This is the compute you created earlier\n",
        "    compute=\"vmdemo\",  # Change this to your compute target name\n",
        "    # An experiment is a container for all the iterations one does on a certain project.\n",
        "    experiment_name=\"train_model_diabetes_prediction\",  # Change this to your desired experiment name\n",
        "    display_name=\"diabetes_prediction\",  # Change this to your desired display name\n",
        ")\n",
        "\n",
        "# Submit the job\n",
        "try:\n",
        "    returned_job = ml_client.jobs.create_or_update(job)\n",
        "    print(f\"Job submitted successfully: {returned_job.name}\")\n",
        "    print(f\"Monitoring URL: {returned_job.studio_url}\")\n",
        "\n",
        "    # If you want to wait for the job to complete\n",
        "    ml_client.jobs.stream(returned_job.name)\n",
        "except Exception as e:\n",
        "    print(f\"An error occurred while submitting the job: {e}\")\n"
      ],
      "outputs": [
        {
          "output_type": "stream",
          "name": "stderr",
          "text": "Class AutoDeleteSettingSchema: This is an experimental class, and may change at any time. Please see https://aka.ms/azuremlexperimental for more information.\nClass AutoDeleteConditionSchema: This is an experimental class, and may change at any time. Please see https://aka.ms/azuremlexperimental for more information.\nClass BaseAutoDeleteSettingSchema: This is an experimental class, and may change at any time. Please see https://aka.ms/azuremlexperimental for more information.\nClass IntellectualPropertySchema: This is an experimental class, and may change at any time. Please see https://aka.ms/azuremlexperimental for more information.\nClass ProtectionLevelSchema: This is an experimental class, and may change at any time. Please see https://aka.ms/azuremlexperimental for more information.\nClass BaseIntellectualPropertySchema: This is an experimental class, and may change at any time. Please see https://aka.ms/azuremlexperimental for more information.\n\u001b[32mUploading demo-masterclass-azureml (0.32 MBs): 100%|██████████| 319910/319910 [00:00<00:00, 1355309.52it/s]\n\u001b[39m\n\n"
        },
        {
          "output_type": "stream",
          "name": "stdout",
          "text": "Job submitted successfully: frosty_fly_dcmph07l49\nMonitoring URL: https://ml.azure.com/runs/frosty_fly_dcmph07l49?wsid=/subscriptions/d183dd89-7b11-4131-a265-eaadb46dbc76/resourcegroups/demo-azure-ml/workspaces/demo-azure-ml&tid=ff6009d9-13f3-41da-a7ed-2578f352bd66\nRunId: frosty_fly_dcmph07l49\nWeb View: https://ml.azure.com/runs/frosty_fly_dcmph07l49?wsid=/subscriptions/d183dd89-7b11-4131-a265-eaadb46dbc76/resourcegroups/demo-azure-ml/workspaces/demo-azure-ml\n\nExecution Summary\n=================\nRunId: frosty_fly_dcmph07l49\nWeb View: https://ml.azure.com/runs/frosty_fly_dcmph07l49?wsid=/subscriptions/d183dd89-7b11-4131-a265-eaadb46dbc76/resourcegroups/demo-azure-ml/workspaces/demo-azure-ml\n\n"
        }
      ],
      "execution_count": 14,
      "metadata": {
        "jupyter": {
          "source_hidden": false,
          "outputs_hidden": false
        },
        "nteract": {
          "transient": {
            "deleting": false
          }
        },
        "gather": {
          "logged": 1726187973461
        }
      }
    },
    {
      "cell_type": "markdown",
      "source": [
        "# Viewing the execution of the job\n",
        "\n",
        "You can view the result of a training job by clicking the URL generated after submitting a job (above). Alternatively, you can also click Jobs on the left navigation menu. \n",
        "\n",
        "A job is a grouping of many runs from a specified script or piece of code. Information for the run is stored under that job.\n",
        "\n",
        "1. **Overview** is where you can see the status of the job.\n",
        "2. **Metrics** would display different visualizations of the metrics you specified in the script.\n",
        "3. **Images **is where you can view any image artifacts that you have logged with MLflow.\n",
        "4. **Child** jobs contains child jobs if you added them.\n",
        "5. **Outputs + logs** contains log files you need for troubleshooting or other monitoring purposes.\n",
        "6. **Code** contains the script/code used in the job.\n",
        "7. **Explanations and Fairness** are used to see how your model performs against responsible AI standards. They are currently \n",
        "8. preview features and require additional package installations.\n",
        "9. **Monitoring** is where you can view metrics for the performance of compute resources."
      ],
      "metadata": {
        "nteract": {
          "transient": {
            "deleting": false
          }
        }
      }
    },
    {
      "cell_type": "markdown",
      "source": [
        "# How to set a custom environment (using docker)"
      ],
      "metadata": {
        "nteract": {
          "transient": {
            "deleting": false
          }
        }
      }
    },
    {
      "cell_type": "code",
      "source": [
        "environment_yml_content = \"\"\"\n",
        "name: sklearn-env\n",
        "channels:\n",
        "  - conda-forge\n",
        "dependencies:\n",
        "  - python=3.10\n",
        "  - scikit-learn\n",
        "  - pandas\n",
        "  - pip\n",
        "  - pip:\n",
        "    - azureml-defaults\n",
        "    - azureml-core\n",
        "    - azureml-dataset-runtime\n",
        "    - azureml-mlflow\n",
        "    - mlflow\n",
        "    - joblib\n",
        "\"\"\"\n",
        "\n",
        "# Write the content to a file\n",
        "with open(\"environment.yml\", \"w\") as f:\n",
        "    f.write(environment_yml_content)\n",
        "\n",
        "print(\"environment.yml file has been created in the current directory.\")"
      ],
      "outputs": [
        {
          "output_type": "stream",
          "name": "stdout",
          "text": "environment.yml file has been created in the current directory.\n"
        }
      ],
      "execution_count": 15,
      "metadata": {
        "jupyter": {
          "source_hidden": false,
          "outputs_hidden": false
        },
        "nteract": {
          "transient": {
            "deleting": false
          }
        },
        "gather": {
          "logged": 1726188290820
        }
      }
    },
    {
      "cell_type": "code",
      "source": [
        "# Display the contents of the file\n",
        "!cat environment.yml"
      ],
      "outputs": [
        {
          "output_type": "stream",
          "name": "stdout",
          "text": "\r\nname: sklearn-env\r\nchannels:\r\n  - conda-forge\r\ndependencies:\r\n  - python=3.10\r\n  - scikit-learn\r\n  - pandas\r\n  - pip\r\n  - pip:\r\n    - azureml-defaults\r\n    - azureml-core\r\n    - azureml-dataset-runtime\r\n    - azureml-mlflow\r\n    - mlflow\r\n    - joblib\r\n"
        }
      ],
      "execution_count": 16,
      "metadata": {
        "jupyter": {
          "source_hidden": false,
          "outputs_hidden": false
        },
        "nteract": {
          "transient": {
            "deleting": false
          }
        },
        "gather": {
          "logged": 1726188294537
        }
      }
    },
    {
      "cell_type": "code",
      "source": [
        "from azure.ai.ml import MLClient, command, Input, Output\n",
        "from azure.ai.ml.entities import Environment\n",
        "from azure.identity import DefaultAzureCredential\n",
        "import os\n",
        "\n",
        "# Create a Python environment for the experiment\n",
        "sklearn_env = Environment(\n",
        "    conda_file=\"environment.yml\",\n",
        "    image=\"mcr.microsoft.com/azureml/openmpi3.1.2-ubuntu18.04:latest\"\n",
        ")\n",
        "\n",
        "# Get the compute target\n",
        "compute_target = ml_client.compute.get(\"vmdemo\")\n",
        "\n",
        "# Get the data asset\n",
        "data_asset = ml_client.data.get(\"diabetes\", version=\"1\")\n",
        "\n",
        "# Name the model you registered earlier in the training script\n",
        "registered_model_name = \"diabetes_model_v0\"\n",
        "\n",
        "job = command(\n",
        "    code=\"./\",  # Local path where the code is stored\n",
        "    command=\"python diabetes_training.py --data ${{inputs.data}} --registered_model_name ${{inputs.registered_model_name}}\",  # You can pass other parameters as needed\n",
        "    environment=sklearn_env,\n",
        "    compute=compute_target.name,\n",
        "    inputs={\n",
        "        \"data\": Input(type=\"uri_file\", path=data_asset.path),\n",
        "        \"registered_model_name\": registered_model_name\n",
        "    }\n",
        ")\n",
        "\n",
        "# Submit the job\n",
        "try:\n",
        "    returned_job = ml_client.jobs.create_or_update(job)\n",
        "    print(f\"Job submitted successfully: {returned_job.name}\")\n",
        "    print(f\"Monitoring URL: {returned_job.studio_url}\")\n",
        "\n",
        "    # If you want to wait for the job to complete\n",
        "    ml_client.jobs.stream(returned_job.name)\n",
        "except Exception as e:\n",
        "    print(f\"An error occurred while submitting the job: {e}\")\n"
      ],
      "outputs": [
        {
          "output_type": "stream",
          "name": "stderr",
          "text": "\r\u001b[32mUploading demo-masterclass-azureml (0.32 MBs):   0%|          | 0/322992 [00:00<?, ?it/s]\r\u001b[32mUploading demo-masterclass-azureml (0.32 MBs):   4%|▍         | 14383/322992 [00:00<00:02, 139481.38it/s]\r\u001b[32mUploading demo-masterclass-azureml (0.32 MBs):  98%|█████████▊| 317514/322992 [00:00<00:00, 1726245.89it/s]\r\u001b[32mUploading demo-masterclass-azureml (0.32 MBs): 100%|██████████| 322992/322992 [00:00<00:00, 1487497.71it/s]\n\u001b[39m\n\n"
        },
        {
          "output_type": "stream",
          "name": "stdout",
          "text": "Job submitted successfully: good_ghost_jkjt505npy\nMonitoring URL: https://ml.azure.com/runs/good_ghost_jkjt505npy?wsid=/subscriptions/d183dd89-7b11-4131-a265-eaadb46dbc76/resourcegroups/demo-azure-ml/workspaces/demo-azure-ml&tid=ff6009d9-13f3-41da-a7ed-2578f352bd66\nRunId: good_ghost_jkjt505npy\nWeb View: https://ml.azure.com/runs/good_ghost_jkjt505npy?wsid=/subscriptions/d183dd89-7b11-4131-a265-eaadb46dbc76/resourcegroups/demo-azure-ml/workspaces/demo-azure-ml\n\nStreaming azureml-logs/20_image_build_log.txt\n=============================================\n\n======Starting Image Build on Serverless Compute======\nThe run ID for the image build on serverless compute is imgbldrun_2fcfad7\nAdditional logs for the run: https://ml.azure.com/experiments/id/prepare_image/runs/imgbldrun_2fcfad7?wsid=/subscriptions/d183dd89-7b11-4131-a265-eaadb46dbc76/resourcegroups/demo-azure-ml/workspaces/demo-azure-ml&tid=ff6009d9-13f3-41da-a7ed-2578f352bd66\n2024-09-13T00:53:25: Logging into Docker registry: 24c1e8123e0d4901917bbca1e94d02f2.azurecr.io\n2024-09-13T00:53:25: WARNING! Using --password via the CLI is insecure. Use --password-stdin.\n2024-09-13T00:53:25: WARNING! Your password will be stored unencrypted in /root/.docker/config.json.\n2024-09-13T00:53:25: Configure a credential helper to remove this warning. See\n2024-09-13T00:53:25: https://docs.docker.com/engine/reference/commandline/login/#credentials-store\n\n2024-09-13T00:53:25: Login Succeeded\n\n\n2024-09-13T00:53:25: Running: ['docker', 'build', '-f', 'azureml-environment-setup/Dockerfile', '.', '-t', '24c1e8123e0d4901917bbca1e94d02f2.azurecr.io/azureml/azureml_42e0348eba75918bf9c155a8edab94f1', '-t', '24c1e8123e0d4901917bbca1e94d02f2.azurecr.io/azureml/azureml_42e0348eba75918bf9c155a8edab94f1:1']\n2024-09-13T00:53:25: DEPRECATED: The legacy builder is deprecated and will be removed in a future release.\n2024-09-13T00:53:25:             Install the buildx component to build images with BuildKit:\n2024-09-13T00:53:25:             https://docs.docker.com/go/buildx/\n\n2024-09-13T00:53:25: Sending build context to Docker daemon  71.17kB\n2024-09-13T00:53:25: Step 1/17 : FROM mcr.microsoft.com/azureml/openmpi3.1.2-ubuntu18.04:latest@sha256:ef6728e7a83b30cff73b3bf8d7add9851e878877adeb4e9353a67ea19c9933eb\n2024-09-13T00:53:25: mcr.microsoft.com/azureml/openmpi3.1.2-ubuntu18.04:latest@sha256:ef6728e7a83b30cff73b3bf8d7add9851e878877adeb4e9353a67ea19c9933eb: Pulling from azureml/openmpi3.1.2-ubuntu18.04\n2024-09-13T00:53:25: 456d651ccb27: Pulling fs layer\n2024-09-13T00:53:25: ff68c96a27bf: Pulling fs layer\n2024-09-13T00:53:25: 82c42f50cbcf: Pulling fs layer\n2024-09-13T00:53:25: 2dc2d9ff1378: Pulling fs layer\n2024-09-13T00:53:25: d6d7c5170286: Pulling fs layer\n2024-09-13T00:53:25: 34216b94d364: Pulling fs layer\n2024-09-13T00:53:25: 3cab299da123: Pulling fs layer\n2024-09-13T00:53:25: 1c429f51569a: Pulling fs layer\n2024-09-13T00:53:25: 6a207c9c2a76: Pulling fs layer\n2024-09-13T00:53:25: d3e61ef89dcb: Pulling fs layer\n2024-09-13T00:53:25: 2dc2d9ff1378: Waiting\n2024-09-13T00:53:25: d6d7c5170286: Waiting\n2024-09-13T00:53:25: 34216b94d364: Waiting\n2024-09-13T00:53:25: 3cab299da123: Waiting\n2024-09-13T00:53:25: 1c429f51569a: Waiting\n2024-09-13T00:53:25: 6a207c9c2a76: Waiting\n2024-09-13T00:53:25: d3e61ef89dcb: Waiting\n2024-09-13T00:53:26: 82c42f50cbcf: Verifying Checksum\n2024-09-13T00:53:26: 82c42f50cbcf: Download complete\n2024-09-13T00:53:26: 2dc2d9ff1378: Verifying Checksum\n2024-09-13T00:53:26: 2dc2d9ff1378: Download complete\n2024-09-13T00:53:26: 456d651ccb27: Verifying Checksum\n2024-09-13T00:53:26: 456d651ccb27: Download complete\n2024-09-13T00:53:26: d6d7c5170286: Verifying Checksum\n2024-09-13T00:53:26: d6d7c5170286: Download complete\n2024-09-13T00:53:26: 3cab299da123: Verifying Checksum\n2024-09-13T00:53:26: 3cab299da123: Download complete\n2024-09-13T00:53:26: 34216b94d364: Verifying Checksum\n2024-09-13T00:53:26: 34216b94d364: Download complete\n2024-09-13T00:53:26: 1c429f51569a: Verifying Checksum\n2024-09-13T00:53:26: 1c429f51569a: Download complete\n2024-09-13T00:53:26: ff68c96a27bf: Verifying Checksum\n2024-09-13T00:53:26: ff68c96a27bf: Download complete\n2024-09-13T00:53:26: d3e61ef89dcb: Download complete\n2024-09-13T00:53:26: 6a207c9c2a76: Verifying Checksum\n2024-09-13T00:53:26: 6a207c9c2a76: Download complete\n2024-09-13T00:53:27: 456d651ccb27: Pull complete\n2024-09-13T00:53:36: ff68c96a27bf: Pull complete\n2024-09-13T00:53:36: 82c42f50cbcf: Pull complete\n2024-09-13T00:53:36: 2dc2d9ff1378: Pull complete\n2024-09-13T00:53:36: d6d7c5170286: Pull complete\n2024-09-13T00:53:40: 34216b94d364: Pull complete\n2024-09-13T00:53:41: 3cab299da123: Pull complete\n2024-09-13T00:53:42: 1c429f51569a: Pull complete\n2024-09-13T00:53:42: 6a207c9c2a76: Pull complete\n2024-09-13T00:53:42: d3e61ef89dcb: Pull complete\n2024-09-13T00:53:42: Digest: sha256:ef6728e7a83b30cff73b3bf8d7add9851e878877adeb4e9353a67ea19c9933eb\n2024-09-13T00:53:42: Status: Downloaded newer image for mcr.microsoft.com/azureml/openmpi3.1.2-ubuntu18.04:latest@sha256:ef6728e7a83b30cff73b3bf8d7add9851e878877adeb4e9353a67ea19c9933eb\n2024-09-13T00:53:42:  ---> a79caa0393e2\n2024-09-13T00:53:42: Step 2/17 : USER root\n2024-09-13T00:53:42:  ---> Running in a160d4bb46f1\n2024-09-13T00:53:43: Removing intermediate container a160d4bb46f1\n2024-09-13T00:53:43:  ---> 0a75691efaf1\n2024-09-13T00:53:43: Step 3/17 : RUN mkdir -p $HOME/.cache\n2024-09-13T00:53:43:  ---> Running in ec77fb8b3745\n2024-09-13T00:53:44: Removing intermediate container ec77fb8b3745\n2024-09-13T00:53:44:  ---> 9ef2a895585d\n2024-09-13T00:53:44: Step 4/17 : WORKDIR /\n2024-09-13T00:53:44:  ---> Running in bf92280e5ca3\n2024-09-13T00:53:45: Removing intermediate container bf92280e5ca3\n2024-09-13T00:53:45:  ---> 2de93beb71a2\n2024-09-13T00:53:45: Step 5/17 : COPY azureml-environment-setup/99brokenproxy /etc/apt/apt.conf.d/\n2024-09-13T00:53:46:  ---> 94af2d77f42b\n2024-09-13T00:53:46: Step 6/17 : RUN if dpkg --compare-versions `conda --version | grep -oE '[^ ]+$'` lt 4.4.11; then conda install conda==4.4.11; fi\n2024-09-13T00:53:46:  ---> Running in 1ea7db0b3044\n2024-09-13T00:53:48: Removing intermediate container 1ea7db0b3044\n2024-09-13T00:53:48:  ---> b9f04e31b558\n2024-09-13T00:53:48: Step 7/17 : COPY azureml-environment-setup/mutated_conda_dependencies.yml azureml-environment-setup/mutated_conda_dependencies.yml\n2024-09-13T00:53:49:  ---> e5eb096e76ee\n2024-09-13T00:53:49: Step 8/17 : RUN ldconfig /usr/local/cuda/lib64/stubs && conda env create -p /azureml-envs/azureml_520ca019ed23d5f05b5e97c2ce64fbd8 -f azureml-environment-setup/mutated_conda_dependencies.yml && rm -rf \"$HOME/.cache/pip\" && conda clean -aqy && CONDA_ROOT_DIR=$(conda info --root) && rm -rf \"$CONDA_ROOT_DIR/pkgs\" && find \"$CONDA_ROOT_DIR\" -type d -name __pycache__ -exec rm -rf {} + && ldconfig\n2024-09-13T00:53:49:  ---> Running in e880bee0fbcf\n2024-09-13T00:53:50: Retrieving notices: ...working... done\n2024-09-13T00:55:43: Collecting package metadata (repodata.json): ...working... done\n2024-09-13T01:00:12: Solving environment: ...working... done\n2024-09-13T01:00:12: \u001b[91m\n\n2024-09-13T01:00:12: ==> WARNING: A newer version of conda exists. <==\n2024-09-13T01:00:12:   current version: 23.1.0\n2024-09-13T01:00:12:   latest version: 24.7.1\n\n2024-09-13T01:00:12: Please update conda by running\n\n2024-09-13T01:00:12:     $ conda update -n base -c conda-forge conda\n\n2024-09-13T01:00:12: Or to minimize the number of packages updated during conda update use\n\n2024-09-13T01:00:12:      conda install conda=24.7.1\n\n\n2024-09-13T01:00:12: \u001b[0m\n2024-09-13T01:00:12: Downloading and Extracting Packages\n2024-09-13T01:00:12: pytz-2024.2          | 183 KB    |            |   0% \n2024-09-13T01:00:12: scikit-learn-1.5.2   | 8.8 MB    |            |   0% \u001b[A\n\n2024-09-13T01:00:12: ncurses-6.5          | 868 KB    |            |   0% \u001b[A\u001b[A\n\n\n2024-09-13T01:00:12: libffi-3.4.2         | 57 KB     |            |   0% \u001b[A\u001b[A\u001b[A\n\n\n\n2024-09-13T01:00:12: libopenblas-0.3.27   | 5.3 MB    |            |   0% \u001b[A\u001b[A\u001b[A\u001b[A\n\n\n\n\n2024-09-13T01:00:12: ca-certificates-2024 | 155 KB    |            |   0% \u001b[A\u001b[A\u001b[A\u001b[A\u001b[A\n\n\n\n\n\n2024-09-13T01:00:12: _openmp_mutex-4.5    | 23 KB     |            |   0% \u001b[A\u001b[A\u001b[A\u001b[A\u001b[A\u001b[A\n\n\n\n\n\n\n2024-09-13T01:00:12: python-tzdata-2024.1 | 141 KB    |            |   0% \u001b[A\u001b[A\u001b[A\u001b[A\u001b[A\u001b[A\u001b[A\n\n\n\n\n\n\n\n2024-09-13T01:00:12: ld_impl_linux-64-2.4 | 691 KB    |            |   0% \u001b[A\u001b[A\u001b[A\u001b[A\u001b[A\u001b[A\u001b[A\u001b[A\n\n\n\n\n\n\n\n\n2024-09-13T01:00:12: _libgcc_mutex-0.1    | 3 KB      |            |   0% \u001b[A\u001b[A\u001b[A\u001b[A\u001b[A\u001b[A\u001b[A\u001b[A\u001b[A\n\n\n\n\n\n\n\n\n\n2024-09-13T01:00:12: libnsl-2.0.1         | 33 KB     |            |   0% \u001b[A\u001b[A\u001b[A\u001b[A\u001b[A\u001b[A\u001b[A\u001b[A\u001b[A\u001b[A\n\n\n\n\n\n\n\n\n\n\n2024-09-13T01:00:12: readline-8.2         | 275 KB    |            |   0% \u001b[A\u001b[A\u001b[A\u001b[A\u001b[A\u001b[A\u001b[A\u001b[A\u001b[A\u001b[A\u001b[A\n\n\n\n\n\n\n\n\n\n\n\n2024-09-13T01:00:12: pandas-2.2.2         | 12.4 MB   |            |   0% \u001b[A\u001b[A\u001b[A\u001b[A\u001b[A\u001b[A\u001b[A\u001b[A\u001b[A\u001b[A\u001b[A\u001b[A\n\n\n\n\n\n\n\n\n\n\n\n\n2024-09-13T01:00:12: libgcc-ng-14.1.0     | 51 KB     |            |   0% \u001b[A\u001b[A\u001b[A\u001b[A\u001b[A\u001b[A\u001b[A\u001b[A\u001b[A\u001b[A\u001b[A\u001b[A\u001b[A\n\n\n\n\n\n\n\n\n\n\n\n\n\n2024-09-13T01:00:12: libgfortran5-14.1.0  | 1.4 MB    |            |   0% \u001b[A\u001b[A\u001b[A\u001b[A\u001b[A\u001b[A\u001b[A\u001b[A\u001b[A\u001b[A\u001b[A\u001b[A\u001b[A\u001b[A\n\n\n\n\n\n\n\n\n\n\n\n\n\n\n2024-09-13T01:00:12: libcblas-3.9.0       | 14 KB     |            |   0% \u001b[A\u001b[A\u001b[A\u001b[A\u001b[A\u001b[A\u001b[A\u001b[A\u001b[A\u001b[A\u001b[A\u001b[A\u001b[A\u001b[A\u001b[A\n\n\n\n\n\n\n\n\n\n\n\n\n\n\n\n2024-09-13T01:00:12: libgfortran-14.1.0   | 51 KB     |            |   0% \u001b[A\u001b[A\u001b[A\u001b[A\u001b[A\u001b[A\u001b[A\u001b[A\u001b[A\u001b[A\u001b[A\u001b[A\u001b[A\u001b[A\u001b[A\u001b[A\n\n\n\n\n\n\n\n\n\n\n\n\n\n\n\n\n2024-09-13T01:00:12: tzdata-2024a         | 121 KB    |            |   0% \u001b[A\u001b[A\u001b[A\u001b[A\u001b[A\u001b[A\u001b[A\u001b[A\u001b[A\u001b[A\u001b[A\u001b[A\u001b[A\u001b[A\u001b[A\u001b[A\u001b[A\n\n\n\n\n\n\n\n\n\n\n\n\n\n\n\n\n\n2024-09-13T01:00:12: python_abi-3.10      | 6 KB      |            |   0% \u001b[A\u001b[A\u001b[A\u001b[A\u001b[A\u001b[A\u001b[A\u001b[A\u001b[A\u001b[A\u001b[A\u001b[A\u001b[A\u001b[A\u001b[A\u001b[A\u001b[A\u001b[A\n\n\n\n\n\n\n\n\n\n\n\n\n\n\n\n\n\n\n2024-09-13T01:00:12:  ... (more hidden) ...\u001b[A\u001b[A\u001b[A\u001b[A\u001b[A\u001b[A\u001b[A\u001b[A\u001b[A\u001b[A\u001b[A\u001b[A\u001b[A\u001b[A\u001b[A\u001b[A\u001b[A\u001b[A\u001b[A\n\n\n\n2024-09-13T01:00:12: libopenblas-0.3.27   | 5.3 MB    |            |   0% \u001b[A\u001b[A\u001b[A\u001b[A\n2024-09-13T01:00:12: scikit-learn-1.5.2   | 8.8 MB    |            |   0% \u001b[A\n\n2024-09-13T01:00:12: pytz-2024.2          | 183 KB    | 8          |   9% \n\n\n2024-09-13T01:00:12: libffi-3.4.2         | 57 KB     | ##8        |  28% \u001b[A\u001b[A\u001b[A\n\n\n\n\n2024-09-13T01:00:12: ca-certificates-2024 | 155 KB    | #          |  10% \u001b[A\u001b[A\u001b[A\u001b[A\u001b[A\n\n\n\n\n\n2024-09-13T01:00:12: _openmp_mutex-4.5    | 23 KB     | ######9    |  69% \u001b[A\u001b[A\u001b[A\u001b[A\u001b[A\u001b[A\n\n\n\n2024-09-13T01:00:12: libopenblas-0.3.27   | 5.3 MB    | ###8       |  39% \u001b[A\u001b[A\u001b[A\u001b[A\n2024-09-13T01:00:12: pytz-2024.2          | 183 KB    | ########## | 100% \n\n\n\n\n\n\n\n\n2024-09-13T01:00:12: _libgcc_mutex-0.1    | 3 KB      | ########## | 100% \u001b[A\u001b[A\u001b[A\u001b[A\u001b[A\u001b[A\u001b[A\u001b[A\u001b[A\n\n\n2024-09-13T01:00:12: libffi-3.4.2         | 57 KB     | ########## | 100% \u001b[A\u001b[A\u001b[A\n\n\n\n\n\n\n2024-09-13T01:00:12: python-tzdata-2024.1 | 141 KB    | #1         |  11% \u001b[A\u001b[A\u001b[A\u001b[A\u001b[A\u001b[A\u001b[A\n\n\n2024-09-13T01:00:12: libffi-3.4.2         | 57 KB     | ########## | 100% \u001b[A\u001b[A\u001b[A\n\n\n\n\n\n\n\n2024-09-13T01:00:12: ld_impl_linux-64-2.4 | 691 KB    | 2          |   2% \u001b[A\u001b[A\u001b[A\u001b[A\u001b[A\u001b[A\u001b[A\u001b[A\n\n\n\n\n\n2024-09-13T01:00:12: _openmp_mutex-4.5    | 23 KB     | ########## | 100% \u001b[A\u001b[A\u001b[A\u001b[A\u001b[A\u001b[A\n\n\n\n\n2024-09-13T01:00:13: ca-certificates-2024 | 155 KB    | ########## | 100% \u001b[A\u001b[A\u001b[A\u001b[A\u001b[A\n2024-09-13T01:00:13: scikit-learn-1.5.2   | 8.8 MB    | #####6     |  57% \u001b[A\n\n\n\n2024-09-13T01:00:13: libopenblas-0.3.27   | 5.3 MB    | #########7 |  97% \u001b[A\u001b[A\u001b[A\u001b[A\n\n\n\n\n\n\n\n\n\n\n2024-09-13T01:00:13: readline-8.2         | 275 KB    | 5          |   6% \u001b[A\u001b[A\u001b[A\u001b[A\u001b[A\u001b[A\u001b[A\u001b[A\u001b[A\u001b[A\u001b[A\n\n\n\n\n\n\n\n\n\n\n\n2024-09-13T01:00:13: pandas-2.2.2         | 12.4 MB   |            |   0% \u001b[A\u001b[A\u001b[A\u001b[A\u001b[A\u001b[A\u001b[A\u001b[A\u001b[A\u001b[A\u001b[A\u001b[A\n\n\n\n\n\n\n\n\n\n2024-09-13T01:00:13: libnsl-2.0.1         | 33 KB     | ####9      |  49% \u001b[A\u001b[A\u001b[A\u001b[A\u001b[A\u001b[A\u001b[A\u001b[A\u001b[A\u001b[A\n\n\n\n\n\n\n\n\n\n\n\n\n2024-09-13T01:00:13: libgcc-ng-14.1.0     | 51 KB     | ###1       |  31% \u001b[A\u001b[A\u001b[A\u001b[A\u001b[A\u001b[A\u001b[A\u001b[A\u001b[A\u001b[A\u001b[A\u001b[A\u001b[A\n\n\n\n\n\n\n\n\n\n\n\n\n\n\n2024-09-13T01:00:13: libcblas-3.9.0       | 14 KB     | ########## | 100% \u001b[A\u001b[A\u001b[A\u001b[A\u001b[A\u001b[A\u001b[A\u001b[A\u001b[A\u001b[A\u001b[A\u001b[A\u001b[A\u001b[A\u001b[A\n\n2024-09-13T01:00:13: ncurses-6.5          | 868 KB    | ########## | 100% \u001b[A\u001b[A\n\n2024-09-13T01:00:13: ncurses-6.5          | 868 KB    | ########## | 100% \u001b[A\u001b[A\n\n\n\n\n\n\n\n\n\n\n\n\n\n2024-09-13T01:00:13: libgfortran5-14.1.0  | 1.4 MB    | 1          |   1% \u001b[A\u001b[A\u001b[A\u001b[A\u001b[A\u001b[A\u001b[A\u001b[A\u001b[A\u001b[A\u001b[A\u001b[A\u001b[A\u001b[A\n\n\n\n\n\n\n\n\n\n\n\n2024-09-13T01:00:13: pandas-2.2.2         | 12.4 MB   | ###9       |  40% \u001b[A\u001b[A\u001b[A\u001b[A\u001b[A\u001b[A\u001b[A\u001b[A\u001b[A\u001b[A\u001b[A\u001b[A\n\n\n\n\n\n\n\n\n2024-09-13T01:00:13: _libgcc_mutex-0.1    | 3 KB      | ########## | 100% \u001b[A\u001b[A\u001b[A\u001b[A\u001b[A\u001b[A\u001b[A\u001b[A\u001b[A\n\n\n\n\n\n\n\n\n\n\n\n\n\n\n\n\n\n2024-09-13T01:00:13: python_abi-3.10      | 6 KB      | ########## | 100% \u001b[A\u001b[A\u001b[A\u001b[A\u001b[A\u001b[A\u001b[A\u001b[A\u001b[A\u001b[A\u001b[A\u001b[A\u001b[A\u001b[A\u001b[A\u001b[A\u001b[A\u001b[A\n\n\n\n\n\n\n\n\n\n\n\n\n\n\n\n2024-09-13T01:00:13: libgfortran-14.1.0   | 51 KB     | ###1       |  31% \u001b[A\u001b[A\u001b[A\u001b[A\u001b[A\u001b[A\u001b[A\u001b[A\u001b[A\u001b[A\u001b[A\u001b[A\u001b[A\u001b[A\u001b[A\u001b[A\n\n\n\n\n\n\n\n\n\n\n\n\n\n\n\n\n2024-09-13T01:00:13: tzdata-2024a         | 121 KB    | #3         |  13% \u001b[A\u001b[A\u001b[A\u001b[A\u001b[A\u001b[A\u001b[A\u001b[A\u001b[A\u001b[A\u001b[A\u001b[A\u001b[A\u001b[A\u001b[A\u001b[A\u001b[A\n\n\n\n\n\n\n2024-09-13T01:00:13: python-tzdata-2024.1 | 141 KB    | ########## | 100% \u001b[A\u001b[A\u001b[A\u001b[A\u001b[A\u001b[A\u001b[A\n\n\n\n\n\n\n2024-09-13T01:00:13: python-tzdata-2024.1 | 141 KB    | ########## | 100% \u001b[A\u001b[A\u001b[A\u001b[A\u001b[A\u001b[A\u001b[A\n\n\n\n\n\n\n\n\n\n\n\n\n\n\n\n\n\n\n2024-09-13T01:00:13:  ... (more hidden) ...\u001b[A\u001b[A\u001b[A\u001b[A\u001b[A\u001b[A\u001b[A\u001b[A\u001b[A\u001b[A\u001b[A\u001b[A\u001b[A\u001b[A\u001b[A\u001b[A\u001b[A\u001b[A\u001b[A\n\n\n\n\n\n\n\n2024-09-13T01:00:13: ld_impl_linux-64-2.4 | 691 KB    | ########## | 100% \u001b[A\u001b[A\u001b[A\u001b[A\u001b[A\u001b[A\u001b[A\u001b[A\n\n\n\n\n\n\n\n2024-09-13T01:00:13: ld_impl_linux-64-2.4 | 691 KB    | ########## | 100% \u001b[A\u001b[A\u001b[A\u001b[A\u001b[A\u001b[A\u001b[A\u001b[A\n\n\n\n\n\n\n\n\n\n\n\n2024-09-13T01:00:13: pandas-2.2.2         | 12.4 MB   | ######2    |  62% \u001b[A\u001b[A\u001b[A\u001b[A\u001b[A\u001b[A\u001b[A\u001b[A\u001b[A\u001b[A\u001b[A\u001b[A\n\n\n\n\n\n\n\n\n\n2024-09-13T01:00:13: libnsl-2.0.1         | 33 KB     | ########## | 100% \u001b[A\u001b[A\u001b[A\u001b[A\u001b[A\u001b[A\u001b[A\u001b[A\u001b[A\u001b[A\n\n\n\n\n\n\n\n\n\n2024-09-13T01:00:13: libnsl-2.0.1         | 33 KB     | ########## | 100% \u001b[A\u001b[A\u001b[A\u001b[A\u001b[A\u001b[A\u001b[A\u001b[A\u001b[A\u001b[A\n\n\n\n2024-09-13T01:00:13: libopenblas-0.3.27   | 5.3 MB    | ########## | 100% \u001b[A\u001b[A\u001b[A\u001b[A\n\n\n\n\n\n\n\n\n\n\n\n2024-09-13T01:00:13: pandas-2.2.2         | 12.4 MB   | ########3  |  83% \u001b[A\u001b[A\u001b[A\u001b[A\u001b[A\u001b[A\u001b[A\u001b[A\u001b[A\u001b[A\u001b[A\u001b[A\n\n\n\n\n\n\n\n\n\n\n2024-09-13T01:00:13: readline-8.2         | 275 KB    | ########## | 100% \u001b[A\u001b[A\u001b[A\u001b[A\u001b[A\u001b[A\u001b[A\u001b[A\u001b[A\u001b[A\u001b[A\n\n\n\n\n\n\n\n\n\n\n2024-09-13T01:00:13: readline-8.2         | 275 KB    | ########## | 100% \u001b[A\u001b[A\u001b[A\u001b[A\u001b[A\u001b[A\u001b[A\u001b[A\u001b[A\u001b[A\u001b[A\n\n\n\n\n\n\n\n\n\n\n\n\n2024-09-13T01:00:13: libgcc-ng-14.1.0     | 51 KB     | ########## | 100% \u001b[A\u001b[A\u001b[A\u001b[A\u001b[A\u001b[A\u001b[A\u001b[A\u001b[A\u001b[A\u001b[A\u001b[A\u001b[A\n\n\n\n\n\n\n\n\n\n\n\n\n2024-09-13T01:00:13: libgcc-ng-14.1.0     | 51 KB     | ########## | 100% \u001b[A\u001b[A\u001b[A\u001b[A\u001b[A\u001b[A\u001b[A\u001b[A\u001b[A\u001b[A\u001b[A\u001b[A\u001b[A\n\n\n\n\n\n\n\n\n\n\n\n\n\n\n2024-09-13T01:00:13: libcblas-3.9.0       | 14 KB     | ########## | 100% \u001b[A\u001b[A\u001b[A\u001b[A\u001b[A\u001b[A\u001b[A\u001b[A\u001b[A\u001b[A\u001b[A\u001b[A\u001b[A\u001b[A\u001b[A\n2024-09-13T01:00:13: scikit-learn-1.5.2   | 8.8 MB    | ########## | 100% \u001b[A\n2024-09-13T01:00:13: scikit-learn-1.5.2   | 8.8 MB    | ########## | 100% \u001b[A\n\n\n\n\n\n\n\n\n\n\n\n\n\n\n\n\n\n2024-09-13T01:00:13: python_abi-3.10      | 6 KB      | ########## | 100% \u001b[A\u001b[A\u001b[A\u001b[A\u001b[A\u001b[A\u001b[A\u001b[A\u001b[A\u001b[A\u001b[A\u001b[A\u001b[A\u001b[A\u001b[A\u001b[A\u001b[A\u001b[A\n\n\n\n\n\n\n\n\n\n\n\n\n\n\n\n2024-09-13T01:00:13: libgfortran-14.1.0   | 51 KB     | ########## | 100% \u001b[A\u001b[A\u001b[A\u001b[A\u001b[A\u001b[A\u001b[A\u001b[A\u001b[A\u001b[A\u001b[A\u001b[A\u001b[A\u001b[A\u001b[A\u001b[A\n\n\n\n\n\n\n\n\n\n\n\n\n\n\n\n2024-09-13T01:00:14: libgfortran-14.1.0   | 51 KB     | ########## | 100% \u001b[A\u001b[A\u001b[A\u001b[A\u001b[A\u001b[A\u001b[A\u001b[A\u001b[A\u001b[A\u001b[A\u001b[A\u001b[A\u001b[A\u001b[A\u001b[A\n\n\n\n\n\n\n\n\n\n\n\n\n\n\n\n\n2024-09-13T01:00:14: tzdata-2024a         | 121 KB    | ########## | 100% \u001b[A\u001b[A\u001b[A\u001b[A\u001b[A\u001b[A\u001b[A\u001b[A\u001b[A\u001b[A\u001b[A\u001b[A\u001b[A\u001b[A\u001b[A\u001b[A\u001b[A\n\n\n\n\n\n\n\n\n\n\n\n\n\n\n\n\n2024-09-13T01:00:14: tzdata-2024a         | 121 KB    | ########## | 100% \u001b[A\u001b[A\u001b[A\u001b[A\u001b[A\u001b[A\u001b[A\u001b[A\u001b[A\u001b[A\u001b[A\u001b[A\u001b[A\u001b[A\u001b[A\u001b[A\u001b[A\n\n\n\n\n\n\n\n\n\n\n\n\n\n2024-09-13T01:00:14: libgfortran5-14.1.0  | 1.4 MB    | ########## | 100% \u001b[A\u001b[A\u001b[A\u001b[A\u001b[A\u001b[A\u001b[A\u001b[A\u001b[A\u001b[A\u001b[A\u001b[A\u001b[A\u001b[A\n\n\n\n\n\n\n\n\n\n\n\n\n\n2024-09-13T01:00:14: libgfortran5-14.1.0  | 1.4 MB    | ########## | 100% \u001b[A\u001b[A\u001b[A\u001b[A\u001b[A\u001b[A\u001b[A\u001b[A\u001b[A\u001b[A\u001b[A\u001b[A\u001b[A\u001b[A\n\n\n\n\n\n\n\n\n\n\n\n\n\n\n\n\n\n\n2024-09-13T01:00:14:  ... (more hidden) ...\u001b[A\u001b[A\u001b[A\u001b[A\u001b[A\u001b[A\u001b[A\u001b[A\u001b[A\u001b[A\u001b[A\u001b[A\u001b[A\u001b[A\u001b[A\u001b[A\u001b[A\u001b[A\u001b[A\n\n\n\n\n\n\n\n\n\n\n\n\n\n\n\n\n\n\n2024-09-13T01:00:14:  ... (more hidden) ...\u001b[A\u001b[A\u001b[A\u001b[A\u001b[A\u001b[A\u001b[A\u001b[A\u001b[A\u001b[A\u001b[A\u001b[A\u001b[A\u001b[A\u001b[A\u001b[A\u001b[A\u001b[A\u001b[A\n\n\n\n\n\n\n\n\n\n\n\n2024-09-13T01:00:16: pandas-2.2.2         | 12.4 MB   | ########## | 100% \u001b[A\u001b[A\u001b[A\u001b[A\u001b[A\u001b[A\u001b[A\u001b[A\u001b[A\u001b[A\u001b[A\u001b[A\n\n\n\n\n\n\n\n\n\n\n\n\n\n\n\n\n\n\n2024-09-13T01:00:16:                                                      \n2024-09-13T01:00:16:                                                      \u001b[A\n\n2024-09-13T01:00:16:                                                      \u001b[A\u001b[A\n\n\n2024-09-13T01:00:16:                                                      \u001b[A\u001b[A\u001b[A\n\n\n\n2024-09-13T01:00:16:                                                      \u001b[A\u001b[A\u001b[A\u001b[A\n\n\n\n\n2024-09-13T01:00:16:                                                      \u001b[A\u001b[A\u001b[A\u001b[A\u001b[A\n\n\n\n\n\n2024-09-13T01:00:16:                                                      \u001b[A\u001b[A\u001b[A\u001b[A\u001b[A\u001b[A\n\n\n\n\n\n\n2024-09-13T01:00:16:                                                      \u001b[A\u001b[A\u001b[A\u001b[A\u001b[A\u001b[A\u001b[A\n\n\n\n\n\n\n\n2024-09-13T01:00:16:                                                      \u001b[A\u001b[A\u001b[A\u001b[A\u001b[A\u001b[A\u001b[A\u001b[A\n\n\n\n\n\n\n\n\n2024-09-13T01:00:16:                                                      \u001b[A\u001b[A\u001b[A\u001b[A\u001b[A\u001b[A\u001b[A\u001b[A\u001b[A\n\n\n\n\n\n\n\n\n\n2024-09-13T01:00:16:                                                      \u001b[A\u001b[A\u001b[A\u001b[A\u001b[A\u001b[A\u001b[A\u001b[A\u001b[A\u001b[A\n\n\n\n\n\n\n\n\n\n\n2024-09-13T01:00:16:                                                      \u001b[A\u001b[A\u001b[A\u001b[A\u001b[A\u001b[A\u001b[A\u001b[A\u001b[A\u001b[A\u001b[A\n\n\n\n\n\n\n\n\n\n\n\n2024-09-13T01:00:16:                                                      \u001b[A\u001b[A\u001b[A\u001b[A\u001b[A\u001b[A\u001b[A\u001b[A\u001b[A\u001b[A\u001b[A\u001b[A\n\n\n\n\n\n\n\n\n\n\n\n\n2024-09-13T01:00:16:                                                      \u001b[A\u001b[A\u001b[A\u001b[A\u001b[A\u001b[A\u001b[A\u001b[A\u001b[A\u001b[A\u001b[A\u001b[A\u001b[A\n\n\n\n\n\n\n\n\n\n\n\n\n\n2024-09-13T01:00:16:                                                      \u001b[A\u001b[A\u001b[A\u001b[A\u001b[A\u001b[A\u001b[A\u001b[A\u001b[A\u001b[A\u001b[A\u001b[A\u001b[A\u001b[A\n\n\n\n\n\n\n\n\n\n\n\n\n\n\n2024-09-13T01:00:16:                                                      \u001b[A\u001b[A\u001b[A\u001b[A\u001b[A\u001b[A\u001b[A\u001b[A\u001b[A\u001b[A\u001b[A\u001b[A\u001b[A\u001b[A\u001b[A\n\n\n\n\n\n\n\n\n\n\n\n\n\n\n\n2024-09-13T01:00:16:                                                      \u001b[A\u001b[A\u001b[A\u001b[A\u001b[A\u001b[A\u001b[A\u001b[A\u001b[A\u001b[A\u001b[A\u001b[A\u001b[A\u001b[A\u001b[A\u001b[A\n\n\n\n\n\n\n\n\n\n\n\n\n\n\n\n\n2024-09-13T01:00:16:                                                      \u001b[A\u001b[A\u001b[A\u001b[A\u001b[A\u001b[A\u001b[A\u001b[A\u001b[A\u001b[A\u001b[A\u001b[A\u001b[A\u001b[A\u001b[A\u001b[A\u001b[A\n\n\n\n\n\n\n\n\n\n\n\n\n\n\n\n\n\n2024-09-13T01:00:16:                                                      \u001b[A\u001b[A\u001b[A\u001b[A\u001b[A\u001b[A\u001b[A\u001b[A\u001b[A\u001b[A\u001b[A\u001b[A\u001b[A\u001b[A\u001b[A\u001b[A\u001b[A\u001b[A\n2024-09-13T01:00:16: \u001b[A\n\n2024-09-13T01:00:16: \u001b[A\u001b[A\n\n\n2024-09-13T01:00:16: \u001b[A\u001b[A\u001b[A\n\n\n\n2024-09-13T01:00:16: \u001b[A\u001b[A\u001b[A\u001b[A\n\n\n\n\n2024-09-13T01:00:16: \u001b[A\u001b[A\u001b[A\u001b[A\u001b[A\n\n\n\n\n\n2024-09-13T01:00:16: \u001b[A\u001b[A\u001b[A\u001b[A\u001b[A\u001b[A\n\n\n\n\n\n\n2024-09-13T01:00:16: \u001b[A\u001b[A\u001b[A\u001b[A\u001b[A\u001b[A\u001b[A\n\n\n\n\n\n\n\n2024-09-13T01:00:16: \u001b[A\u001b[A\u001b[A\u001b[A\u001b[A\u001b[A\u001b[A\u001b[A\n\n\n\n\n\n\n\n\n2024-09-13T01:00:16: \u001b[A\u001b[A\u001b[A\u001b[A\u001b[A\u001b[A\u001b[A\u001b[A\u001b[A\n\n\n\n\n\n\n\n\n\n2024-09-13T01:00:16: \u001b[A\u001b[A\u001b[A\u001b[A\u001b[A\u001b[A\u001b[A\u001b[A\u001b[A\u001b[A\n\n\n\n\n\n\n\n\n\n\n2024-09-13T01:00:16: \u001b[A\u001b[A\u001b[A\u001b[A\u001b[A\u001b[A\u001b[A\u001b[A\u001b[A\u001b[A\u001b[A\n\n\n\n\n\n\n\n\n\n\n\n2024-09-13T01:00:16: \u001b[A\u001b[A\u001b[A\u001b[A\u001b[A\u001b[A\u001b[A\u001b[A\u001b[A\u001b[A\u001b[A\u001b[A\n\n\n\n\n\n\n\n\n\n\n\n\n2024-09-13T01:00:16: \u001b[A\u001b[A\u001b[A\u001b[A\u001b[A\u001b[A\u001b[A\u001b[A\u001b[A\u001b[A\u001b[A\u001b[A\u001b[A\n\n\n\n\n\n\n\n\n\n\n\n\n\n2024-09-13T01:00:16: \u001b[A\u001b[A\u001b[A\u001b[A\u001b[A\u001b[A\u001b[A\u001b[A\u001b[A\u001b[A\u001b[A\u001b[A\u001b[A\u001b[A\n\n\n\n\n\n\n\n\n\n\n\n\n\n\n2024-09-13T01:00:16: \u001b[A\u001b[A\u001b[A\u001b[A\u001b[A\u001b[A\u001b[A\u001b[A\u001b[A\u001b[A\u001b[A\u001b[A\u001b[A\u001b[A\u001b[A\n\n\n\n\n\n\n\n\n\n\n\n\n\n\n\n2024-09-13T01:00:16: \u001b[A\u001b[A\u001b[A\u001b[A\u001b[A\u001b[A\u001b[A\u001b[A\u001b[A\u001b[A\u001b[A\u001b[A\u001b[A\u001b[A\u001b[A\u001b[A\n\n\n\n\n\n\n\n\n\n\n\n\n\n\n\n\n2024-09-13T01:00:16: \u001b[A\u001b[A\u001b[A\u001b[A\u001b[A\u001b[A\u001b[A\u001b[A\u001b[A\u001b[A\u001b[A\u001b[A\u001b[A\u001b[A\u001b[A\u001b[A\u001b[A\n\n\n\n\n\n\n\n\n\n\n\n\n\n\n\n\n\n2024-09-13T01:00:16: \u001b[A\u001b[A\u001b[A\u001b[A\u001b[A\u001b[A\u001b[A\u001b[A\u001b[A\u001b[A\u001b[A\u001b[A\u001b[A\u001b[A\u001b[A\u001b[A\u001b[A\u001b[A\n2024-09-13T01:00:16: \u001b[A\n\n2024-09-13T01:00:16: \u001b[A\u001b[A\n\n\n2024-09-13T01:00:16: \u001b[A\u001b[A\u001b[A\n\n\n\n2024-09-13T01:00:16: \u001b[A\u001b[A\u001b[A\u001b[A\n\n\n\n\n2024-09-13T01:00:16: \u001b[A\u001b[A\u001b[A\u001b[A\u001b[A\n2024-09-13T01:00:19: Preparing transaction: ...working... done\n2024-09-13T01:00:20: Verifying transaction: ...working... done\n2024-09-13T01:00:24: Executing transaction: ...working... done\n2024-09-13T01:01:14: Installing pip dependencies: ...working... Ran pip subprocess with arguments:\n2024-09-13T01:01:14: ['/azureml-envs/azureml_520ca019ed23d5f05b5e97c2ce64fbd8/bin/python', '-m', 'pip', 'install', '-U', '-r', '/azureml-environment-setup/condaenv.wds0j4hu.requirements.txt', '--exists-action=b']\n2024-09-13T01:01:14: Pip subprocess output:\n2024-09-13T01:01:14: Collecting azureml-defaults (from -r /azureml-environment-setup/condaenv.wds0j4hu.requirements.txt (line 1))\n2024-09-13T01:01:14:   Downloading azureml_defaults-1.57.0-py3-none-any.whl.metadata (734 bytes)\n2024-09-13T01:01:14: Collecting azureml-core (from -r /azureml-environment-setup/condaenv.wds0j4hu.requirements.txt (line 2))\n2024-09-13T01:01:14:   Downloading azureml_core-1.57.0.post1-py3-none-any.whl.metadata (3.1 kB)\n2024-09-13T01:01:14: Collecting azureml-dataset-runtime (from -r /azureml-environment-setup/condaenv.wds0j4hu.requirements.txt (line 3))\n2024-09-13T01:01:14:   Downloading azureml_dataset_runtime-1.57.0-py3-none-any.whl.metadata (1.2 kB)\n2024-09-13T01:01:14: Collecting azureml-mlflow (from -r /azureml-environment-setup/condaenv.wds0j4hu.requirements.txt (line 4))\n2024-09-13T01:01:14:   Downloading azureml_mlflow-1.57.0.post1-py3-none-any.whl.metadata (2.5 kB)\n2024-09-13T01:01:14: Collecting mlflow (from -r /azureml-environment-setup/condaenv.wds0j4hu.requirements.txt (line 5))\n2024-09-13T01:01:14:   Downloading mlflow-2.16.0-py3-none-any.whl.metadata (29 kB)\n2024-09-13T01:01:14: Requirement already satisfied: joblib in /azureml-envs/azureml_520ca019ed23d5f05b5e97c2ce64fbd8/lib/python3.10/site-packages (from -r /azureml-environment-setup/condaenv.wds0j4hu.requirements.txt (line 6)) (1.4.2)\n2024-09-13T01:01:14: Collecting azureml-inference-server-http~=1.2.1 (from azureml-defaults->-r /azureml-environment-setup/condaenv.wds0j4hu.requirements.txt (line 1))\n2024-09-13T01:01:14:   Downloading azureml_inference_server_http-1.2.2-py3-none-any.whl.metadata (9.8 kB)\n2024-09-13T01:01:14: Requirement already satisfied: pytz in /azureml-envs/azureml_520ca019ed23d5f05b5e97c2ce64fbd8/lib/python3.10/site-packages (from azureml-core->-r /azureml-environment-setup/condaenv.wds0j4hu.requirements.txt (line 2)) (2024.2)\n2024-09-13T01:01:14: Collecting backports.tempfile (from azureml-core->-r /azureml-environment-setup/condaenv.wds0j4hu.requirements.txt (line 2))\n2024-09-13T01:01:14:   Downloading backports.tempfile-1.0-py2.py3-none-any.whl.metadata (2.3 kB)\n2024-09-13T01:01:14: Collecting pathspec<1.0.0 (from azureml-core->-r /azureml-environment-setup/condaenv.wds0j4hu.requirements.txt (line 2))\n2024-09-13T01:01:14:   Downloading pathspec-0.12.1-py3-none-any.whl.metadata (21 kB)\n2024-09-13T01:01:14: Collecting requests<3.0.0,>=2.19.1 (from requests[socks]<3.0.0,>=2.19.1->azureml-core->-r /azureml-environment-setup/condaenv.wds0j4hu.requirements.txt (line 2))\n2024-09-13T01:01:14:   Downloading requests-2.32.3-py3-none-any.whl.metadata (4.6 kB)\n2024-09-13T01:01:14: Collecting msal<2.0.0,>=1.15.0 (from azureml-core->-r /azureml-environment-setup/condaenv.wds0j4hu.requirements.txt (line 2))\n2024-09-13T01:01:14:   Downloading msal-1.31.0-py3-none-any.whl.metadata (11 kB)\n2024-09-13T01:01:14: Collecting msal-extensions<=2.0.0,>=0.3.0 (from azureml-core->-r /azureml-environment-setup/condaenv.wds0j4hu.requirements.txt (line 2))\n2024-09-13T01:01:14:   Downloading msal_extensions-1.2.0-py3-none-any.whl.metadata (7.6 kB)\n2024-09-13T01:01:14: Collecting knack<0.12.0 (from azureml-core->-r /azureml-environment-setup/condaenv.wds0j4hu.requirements.txt (line 2))\n2024-09-13T01:01:14:   Downloading knack-0.11.0-py3-none-any.whl.metadata (5.2 kB)\n2024-09-13T01:01:14: Collecting azure-core<2.0.0 (from azureml-core->-r /azureml-environment-setup/condaenv.wds0j4hu.requirements.txt (line 2))\n2024-09-13T01:01:14:   Downloading azure_core-1.31.0-py3-none-any.whl.metadata (39 kB)\n2024-09-13T01:01:14: Collecting pkginfo (from azureml-core->-r /azureml-environment-setup/condaenv.wds0j4hu.requirements.txt (line 2))\n2024-09-13T01:01:14:   Downloading pkginfo-1.11.1-py3-none-any.whl.metadata (11 kB)\n2024-09-13T01:01:14: Collecting argcomplete<4 (from azureml-core->-r /azureml-environment-setup/condaenv.wds0j4hu.requirements.txt (line 2))\n2024-09-13T01:01:14:   Downloading argcomplete-3.5.0-py3-none-any.whl.metadata (16 kB)\n2024-09-13T01:01:14: Collecting humanfriendly<11.0,>=4.7 (from azureml-core->-r /azureml-environment-setup/condaenv.wds0j4hu.requirements.txt (line 2))\n2024-09-13T01:01:14:   Downloading humanfriendly-10.0-py2.py3-none-any.whl.metadata (9.2 kB)\n2024-09-13T01:01:14: Collecting paramiko<4.0.0,>=2.0.8 (from azureml-core->-r /azureml-environment-setup/condaenv.wds0j4hu.requirements.txt (line 2))\n2024-09-13T01:01:14:   Downloading paramiko-3.4.1-py3-none-any.whl.metadata (4.4 kB)\n2024-09-13T01:01:14: Collecting azure-mgmt-resource<=24.0.0,>=15.0.0 (from azureml-core->-r /azureml-environment-setup/condaenv.wds0j4hu.requirements.txt (line 2))\n2024-09-13T01:01:14:   Downloading azure_mgmt_resource-23.1.1-py3-none-any.whl.metadata (37 kB)\n2024-09-13T01:01:14: Collecting azure-mgmt-containerregistry<11,>=8.2.0 (from azureml-core->-r /azureml-environment-setup/condaenv.wds0j4hu.requirements.txt (line 2))\n2024-09-13T01:01:14:   Downloading azure_mgmt_containerregistry-10.3.0-py3-none-any.whl.metadata (23 kB)\n2024-09-13T01:01:14: Collecting azure-mgmt-storage<=22.0.0,>=16.0.0 (from azureml-core->-r /azureml-environment-setup/condaenv.wds0j4hu.requirements.txt (line 2))\n2024-09-13T01:01:14:   Downloading azure_mgmt_storage-21.2.1-py3-none-any.whl.metadata (31 kB)\n2024-09-13T01:01:14: Collecting azure-mgmt-keyvault<11.0.0,>=0.40.0 (from azureml-core->-r /azureml-environment-setup/condaenv.wds0j4hu.requirements.txt (line 2))\n2024-09-13T01:01:14:   Downloading azure_mgmt_keyvault-10.3.1-py3-none-any.whl.metadata (15 kB)\n2024-09-13T01:01:14: Collecting azure-mgmt-authorization<5,>=0.40.0 (from azureml-core->-r /azureml-environment-setup/condaenv.wds0j4hu.requirements.txt (line 2))\n2024-09-13T01:01:14:   Downloading azure_mgmt_authorization-4.0.0-py3-none-any.whl.metadata (18 kB)\n2024-09-13T01:01:14: Collecting azure-mgmt-network<=26.0.0 (from azureml-core->-r /azureml-environment-setup/condaenv.wds0j4hu.requirements.txt (line 2))\n2024-09-13T01:01:14:   Downloading azure_mgmt_network-26.0.0-py3-none-any.whl.metadata (84 kB)\n2024-09-13T01:01:14: Collecting azure-graphrbac<1.0.0,>=0.40.0 (from azureml-core->-r /azureml-environment-setup/condaenv.wds0j4hu.requirements.txt (line 2))\n2024-09-13T01:01:14:   Downloading azure_graphrbac-0.61.1-py2.py3-none-any.whl.metadata (10 kB)\n2024-09-13T01:01:14: Collecting azure-common<2.0.0,>=1.1.12 (from azureml-core->-r /azureml-environment-setup/condaenv.wds0j4hu.requirements.txt (line 2))\n2024-09-13T01:01:14:   Downloading azure_common-1.1.28-py2.py3-none-any.whl.metadata (5.0 kB)\n2024-09-13T01:01:14: Collecting msrest<=0.7.1,>=0.5.1 (from azureml-core->-r /azureml-environment-setup/condaenv.wds0j4hu.requirements.txt (line 2))\n2024-09-13T01:01:14:   Downloading msrest-0.7.1-py3-none-any.whl.metadata (21 kB)\n2024-09-13T01:01:14: Collecting msrestazure<=0.7,>=0.4.33 (from azureml-core->-r /azureml-environment-setup/condaenv.wds0j4hu.requirements.txt (line 2))\n2024-09-13T01:01:14:   Downloading msrestazure-0.6.4.post1-py2.py3-none-any.whl.metadata (15 kB)\n2024-09-13T01:01:14: Collecting urllib3<3.0.0,>1.26.17 (from azureml-core->-r /azureml-environment-setup/condaenv.wds0j4hu.requirements.txt (line 2))\n2024-09-13T01:01:14:   Downloading urllib3-2.2.3-py3-none-any.whl.metadata (6.5 kB)\n2024-09-13T01:01:14: Collecting packaging<=25.0,>=20.0 (from azureml-core->-r /azureml-environment-setup/condaenv.wds0j4hu.requirements.txt (line 2))\n2024-09-13T01:01:14:   Downloading packaging-24.1-py3-none-any.whl.metadata (3.2 kB)\n2024-09-13T01:01:14: Requirement already satisfied: python-dateutil<3.0.0,>=2.7.3 in /azureml-envs/azureml_520ca019ed23d5f05b5e97c2ce64fbd8/lib/python3.10/site-packages (from azureml-core->-r /azureml-environment-setup/condaenv.wds0j4hu.requirements.txt (line 2)) (2.9.0)\n2024-09-13T01:01:14: Collecting ndg-httpsclient<=0.5.1 (from azureml-core->-r /azureml-environment-setup/condaenv.wds0j4hu.requirements.txt (line 2))\n2024-09-13T01:01:14:   Downloading ndg_httpsclient-0.5.1-py3-none-any.whl.metadata (6.2 kB)\n2024-09-13T01:01:14: Collecting SecretStorage<4.0.0 (from azureml-core->-r /azureml-environment-setup/condaenv.wds0j4hu.requirements.txt (line 2))\n2024-09-13T01:01:14:   Downloading SecretStorage-3.3.3-py3-none-any.whl.metadata (4.0 kB)\n2024-09-13T01:01:14: Collecting jsonpickle<4.0.0 (from azureml-core->-r /azureml-environment-setup/condaenv.wds0j4hu.requirements.txt (line 2))\n2024-09-13T01:01:14:   Downloading jsonpickle-3.3.0-py3-none-any.whl.metadata (8.3 kB)\n2024-09-13T01:01:14: Collecting contextlib2<22.0.0 (from azureml-core->-r /azureml-environment-setup/condaenv.wds0j4hu.requirements.txt (line 2))\n2024-09-13T01:01:14:   Downloading contextlib2-21.6.0-py2.py3-none-any.whl.metadata (4.1 kB)\n2024-09-13T01:01:14: Collecting docker<8.0.0 (from azureml-core->-r /azureml-environment-setup/condaenv.wds0j4hu.requirements.txt (line 2))\n2024-09-13T01:01:14:   Downloading docker-7.1.0-py3-none-any.whl.metadata (3.8 kB)\n2024-09-13T01:01:14: Collecting PyJWT<3.0.0 (from azureml-core->-r /azureml-environment-setup/condaenv.wds0j4hu.requirements.txt (line 2))\n2024-09-13T01:01:14:   Downloading PyJWT-2.9.0-py3-none-any.whl.metadata (3.0 kB)\n2024-09-13T01:01:14: Collecting adal<=1.2.7,>=1.2.0 (from azureml-core->-r /azureml-environment-setup/condaenv.wds0j4hu.requirements.txt (line 2))\n2024-09-13T01:01:14:   Downloading adal-1.2.7-py2.py3-none-any.whl.metadata (6.9 kB)\n2024-09-13T01:01:14: Collecting pyopenssl<25.0.0 (from azureml-core->-r /azureml-environment-setup/condaenv.wds0j4hu.requirements.txt (line 2))\n2024-09-13T01:01:14:   Downloading pyOpenSSL-24.2.1-py3-none-any.whl.metadata (13 kB)\n2024-09-13T01:01:14: Collecting jmespath<2.0.0 (from azureml-core->-r /azureml-environment-setup/condaenv.wds0j4hu.requirements.txt (line 2))\n2024-09-13T01:01:14:   Downloading jmespath-1.0.1-py3-none-any.whl.metadata (7.6 kB)\n2024-09-13T01:01:14: Collecting azureml-dataprep<5.2.0a,>=5.1.0a (from azureml-dataset-runtime->-r /azureml-environment-setup/condaenv.wds0j4hu.requirements.txt (line 3))\n2024-09-13T01:01:14:   Downloading azureml_dataprep-5.1.6-py3-none-any.whl.metadata (2.2 kB)\n2024-09-13T01:01:14: Collecting pyarrow>=0.17.0 (from azureml-dataset-runtime->-r /azureml-environment-setup/condaenv.wds0j4hu.requirements.txt (line 3))\n2024-09-13T01:01:14:   Downloading pyarrow-17.0.0-cp310-cp310-manylinux_2_17_x86_64.manylinux2014_x86_64.whl.metadata (3.3 kB)\n2024-09-13T01:01:14: Collecting numpy!=1.19.3,<1.24 (from azureml-dataset-runtime->-r /azureml-environment-setup/condaenv.wds0j4hu.requirements.txt (line 3))\n2024-09-13T01:01:14:   Downloading numpy-1.23.5-cp310-cp310-manylinux_2_17_x86_64.manylinux2014_x86_64.whl.metadata (2.3 kB)\n2024-09-13T01:01:14: Collecting mlflow-skinny (from azureml-mlflow->-r /azureml-environment-setup/condaenv.wds0j4hu.requirements.txt (line 4))\n2024-09-13T01:01:14:   Downloading mlflow_skinny-2.16.0-py3-none-any.whl.metadata (30 kB)\n2024-09-13T01:01:14: Collecting azure-identity (from azureml-mlflow->-r /azureml-environment-setup/condaenv.wds0j4hu.requirements.txt (line 4))\n2024-09-13T01:01:14:   Downloading azure_identity-1.17.1-py3-none-any.whl.metadata (79 kB)\n2024-09-13T01:01:14: Collecting azure-mgmt-core<2.0.0,>=1.2.0 (from azureml-mlflow->-r /azureml-environment-setup/condaenv.wds0j4hu.requirements.txt (line 4))\n2024-09-13T01:01:14:   Downloading azure_mgmt_core-1.4.0-py3-none-any.whl.metadata (4.1 kB)\n2024-09-13T01:01:14: Collecting azure-storage-blob<=12.19.0,>=12.5.0 (from azureml-mlflow->-r /azureml-environment-setup/condaenv.wds0j4hu.requirements.txt (line 4))\n2024-09-13T01:01:14:   Downloading azure_storage_blob-12.19.0-py3-none-any.whl.metadata (26 kB)\n2024-09-13T01:01:14: Collecting cryptography (from azureml-mlflow->-r /azureml-environment-setup/condaenv.wds0j4hu.requirements.txt (line 4))\n2024-09-13T01:01:14:   Downloading cryptography-43.0.1-cp39-abi3-manylinux_2_17_x86_64.manylinux2014_x86_64.whl.metadata (5.4 kB)\n2024-09-13T01:01:14: Collecting Flask<4 (from mlflow->-r /azureml-environment-setup/condaenv.wds0j4hu.requirements.txt (line 5))\n2024-09-13T01:01:14:   Downloading flask-3.0.3-py3-none-any.whl.metadata (3.2 kB)\n2024-09-13T01:01:14: Collecting alembic!=1.10.0,<2 (from mlflow->-r /azureml-environment-setup/condaenv.wds0j4hu.requirements.txt (line 5))\n2024-09-13T01:01:14:   Downloading alembic-1.13.2-py3-none-any.whl.metadata (7.4 kB)\n2024-09-13T01:01:14: Collecting graphene<4 (from mlflow->-r /azureml-environment-setup/condaenv.wds0j4hu.requirements.txt (line 5))\n2024-09-13T01:01:14:   Downloading graphene-3.3-py2.py3-none-any.whl.metadata (7.7 kB)\n2024-09-13T01:01:14: Collecting markdown<4,>=3.3 (from mlflow->-r /azureml-environment-setup/condaenv.wds0j4hu.requirements.txt (line 5))\n2024-09-13T01:01:14:   Downloading Markdown-3.7-py3-none-any.whl.metadata (7.0 kB)\n2024-09-13T01:01:14: Collecting matplotlib<4 (from mlflow->-r /azureml-environment-setup/condaenv.wds0j4hu.requirements.txt (line 5))\n2024-09-13T01:01:14:   Downloading matplotlib-3.9.2-cp310-cp310-manylinux_2_17_x86_64.manylinux2014_x86_64.whl.metadata (11 kB)\n2024-09-13T01:01:14: Requirement already satisfied: pandas<3 in /azureml-envs/azureml_520ca019ed23d5f05b5e97c2ce64fbd8/lib/python3.10/site-packages (from mlflow->-r /azureml-environment-setup/condaenv.wds0j4hu.requirements.txt (line 5)) (2.2.2)\n2024-09-13T01:01:14: Requirement already satisfied: scikit-learn<2 in /azureml-envs/azureml_520ca019ed23d5f05b5e97c2ce64fbd8/lib/python3.10/site-packages (from mlflow->-r /azureml-environment-setup/condaenv.wds0j4hu.requirements.txt (line 5)) (1.5.2)\n2024-09-13T01:01:14: Requirement already satisfied: scipy<2 in /azureml-envs/azureml_520ca019ed23d5f05b5e97c2ce64fbd8/lib/python3.10/site-packages (from mlflow->-r /azureml-environment-setup/condaenv.wds0j4hu.requirements.txt (line 5)) (1.14.1)\n2024-09-13T01:01:14: Collecting sqlalchemy<3,>=1.4.0 (from mlflow->-r /azureml-environment-setup/condaenv.wds0j4hu.requirements.txt (line 5))\n2024-09-13T01:01:14:   Downloading SQLAlchemy-2.0.34-cp310-cp310-manylinux_2_17_x86_64.manylinux2014_x86_64.whl.metadata (9.6 kB)\n2024-09-13T01:01:14: Collecting Jinja2<4,>=2.11 (from mlflow->-r /azureml-environment-setup/condaenv.wds0j4hu.requirements.txt (line 5))\n2024-09-13T01:01:14:   Downloading jinja2-3.1.4-py3-none-any.whl.metadata (2.6 kB)\n2024-09-13T01:01:14: Collecting gunicorn<24 (from mlflow->-r /azureml-environment-setup/condaenv.wds0j4hu.requirements.txt (line 5))\n2024-09-13T01:01:14:   Downloading gunicorn-23.0.0-py3-none-any.whl.metadata (4.4 kB)\n2024-09-13T01:01:14: Collecting cachetools<6,>=5.0.0 (from mlflow-skinny->azureml-mlflow->-r /azureml-environment-setup/condaenv.wds0j4hu.requirements.txt (line 4))\n2024-09-13T01:01:14:   Downloading cachetools-5.5.0-py3-none-any.whl.metadata (5.3 kB)\n2024-09-13T01:01:14: Collecting click<9,>=7.0 (from mlflow-skinny->azureml-mlflow->-r /azureml-environment-setup/condaenv.wds0j4hu.requirements.txt (line 4))\n2024-09-13T01:01:14:   Downloading click-8.1.7-py3-none-any.whl.metadata (3.0 kB)\n2024-09-13T01:01:14: Collecting cloudpickle<4 (from mlflow-skinny->azureml-mlflow->-r /azureml-environment-setup/condaenv.wds0j4hu.requirements.txt (line 4))\n2024-09-13T01:01:14:   Downloading cloudpickle-3.0.0-py3-none-any.whl.metadata (7.0 kB)\n2024-09-13T01:01:14: Collecting databricks-sdk<1,>=0.20.0 (from mlflow-skinny->azureml-mlflow->-r /azureml-environment-setup/condaenv.wds0j4hu.requirements.txt (line 4))\n2024-09-13T01:01:14:   Downloading databricks_sdk-0.32.1-py3-none-any.whl.metadata (37 kB)\n2024-09-13T01:01:14: Collecting gitpython<4,>=3.1.9 (from mlflow-skinny->azureml-mlflow->-r /azureml-environment-setup/condaenv.wds0j4hu.requirements.txt (line 4))\n2024-09-13T01:01:14:   Downloading GitPython-3.1.43-py3-none-any.whl.metadata (13 kB)\n2024-09-13T01:01:14: Collecting importlib-metadata!=4.7.0,<9,>=3.7.0 (from mlflow-skinny->azureml-mlflow->-r /azureml-environment-setup/condaenv.wds0j4hu.requirements.txt (line 4))\n2024-09-13T01:01:14:   Downloading importlib_metadata-8.5.0-py3-none-any.whl.metadata (4.8 kB)\n2024-09-13T01:01:14: Collecting opentelemetry-api<3,>=1.9.0 (from mlflow-skinny->azureml-mlflow->-r /azureml-environment-setup/condaenv.wds0j4hu.requirements.txt (line 4))\n2024-09-13T01:01:14:   Downloading opentelemetry_api-1.27.0-py3-none-any.whl.metadata (1.4 kB)\n2024-09-13T01:01:14: Collecting opentelemetry-sdk<3,>=1.9.0 (from mlflow-skinny->azureml-mlflow->-r /azureml-environment-setup/condaenv.wds0j4hu.requirements.txt (line 4))\n2024-09-13T01:01:14:   Downloading opentelemetry_sdk-1.27.0-py3-none-any.whl.metadata (1.5 kB)\n2024-09-13T01:01:14: Collecting protobuf<6,>=3.12.0 (from mlflow-skinny->azureml-mlflow->-r /azureml-environment-setup/condaenv.wds0j4hu.requirements.txt (line 4))\n2024-09-13T01:01:14:   Downloading protobuf-5.28.1-cp38-abi3-manylinux2014_x86_64.whl.metadata (592 bytes)\n2024-09-13T01:01:14: Collecting pyyaml<7,>=5.1 (from mlflow-skinny->azureml-mlflow->-r /azureml-environment-setup/condaenv.wds0j4hu.requirements.txt (line 4))\n2024-09-13T01:01:14:   Downloading PyYAML-6.0.2-cp310-cp310-manylinux_2_17_x86_64.manylinux2014_x86_64.whl.metadata (2.1 kB)\n2024-09-13T01:01:14: Collecting sqlparse<1,>=0.4.0 (from mlflow-skinny->azureml-mlflow->-r /azureml-environment-setup/condaenv.wds0j4hu.requirements.txt (line 4))\n2024-09-13T01:01:14:   Downloading sqlparse-0.5.1-py3-none-any.whl.metadata (3.9 kB)\n2024-09-13T01:01:14: Collecting Mako (from alembic!=1.10.0,<2->mlflow->-r /azureml-environment-setup/condaenv.wds0j4hu.requirements.txt (line 5))\n2024-09-13T01:01:14:   Downloading Mako-1.3.5-py3-none-any.whl.metadata (2.9 kB)\n2024-09-13T01:01:14: Collecting typing-extensions>=4 (from alembic!=1.10.0,<2->mlflow->-r /azureml-environment-setup/condaenv.wds0j4hu.requirements.txt (line 5))\n2024-09-13T01:01:14:   Downloading typing_extensions-4.12.2-py3-none-any.whl.metadata (3.0 kB)\n2024-09-13T01:01:14: Requirement already satisfied: six>=1.11.0 in /azureml-envs/azureml_520ca019ed23d5f05b5e97c2ce64fbd8/lib/python3.10/site-packages (from azure-core<2.0.0->azureml-core->-r /azureml-environment-setup/condaenv.wds0j4hu.requirements.txt (line 2)) (1.16.0)\n2024-09-13T01:01:14: Collecting isodate<1.0.0,>=0.6.1 (from azure-mgmt-authorization<5,>=0.40.0->azureml-core->-r /azureml-environment-setup/condaenv.wds0j4hu.requirements.txt (line 2))\n2024-09-13T01:01:14:   Downloading isodate-0.6.1-py2.py3-none-any.whl.metadata (9.6 kB)\n2024-09-13T01:01:14: Collecting azureml-dataprep-native<42.0.0,>=41.0.0 (from azureml-dataprep<5.2.0a,>=5.1.0a->azureml-dataset-runtime->-r /azureml-environment-setup/condaenv.wds0j4hu.requirements.txt (line 3))\n2024-09-13T01:01:14:   Downloading azureml_dataprep_native-41.0.0-cp310-cp310-manylinux1_x86_64.whl.metadata (1.3 kB)\n2024-09-13T01:01:14: Collecting azureml-dataprep-rslex~=2.22.2dev0 (from azureml-dataprep<5.2.0a,>=5.1.0a->azureml-dataset-runtime->-r /azureml-environment-setup/condaenv.wds0j4hu.requirements.txt (line 3))\n2024-09-13T01:01:14:   Downloading azureml_dataprep_rslex-2.22.4-cp310-cp310-manylinux1_x86_64.whl.metadata (1.6 kB)\n2024-09-13T01:01:14: Collecting cloudpickle<4 (from mlflow-skinny->azureml-mlflow->-r /azureml-environment-setup/condaenv.wds0j4hu.requirements.txt (line 4))\n2024-09-13T01:01:14:   Downloading cloudpickle-2.2.1-py3-none-any.whl.metadata (6.9 kB)\n2024-09-13T01:01:14: Collecting jsonschema (from azureml-dataprep<5.2.0a,>=5.1.0a->azureml-dataset-runtime->-r /azureml-environment-setup/condaenv.wds0j4hu.requirements.txt (line 3))\n2024-09-13T01:01:14:   Downloading jsonschema-4.23.0-py3-none-any.whl.metadata (7.9 kB)\n2024-09-13T01:01:14: Collecting fusepy<4.0.0,>=3.0.1 (from azureml-dataset-runtime[fuse]~=1.57.0->azureml-defaults->-r /azureml-environment-setup/condaenv.wds0j4hu.requirements.txt (line 1))\n2024-09-13T01:01:14:   Downloading fusepy-3.0.1.tar.gz (11 kB)\n2024-09-13T01:01:14:   Preparing metadata (setup.py): started\n2024-09-13T01:01:14:   Preparing metadata (setup.py): finished with status 'done'\n2024-09-13T01:01:14: Collecting Flask<4 (from mlflow->-r /azureml-environment-setup/condaenv.wds0j4hu.requirements.txt (line 5))\n2024-09-13T01:01:14:   Downloading Flask-2.3.2-py3-none-any.whl.metadata (3.7 kB)\n2024-09-13T01:01:14: Collecting flask-cors~=3.0.1 (from azureml-inference-server-http~=1.2.1->azureml-defaults->-r /azureml-environment-setup/condaenv.wds0j4hu.requirements.txt (line 1))\n2024-09-13T01:01:14:   Downloading Flask_Cors-3.0.10-py2.py3-none-any.whl.metadata (5.4 kB)\n2024-09-13T01:01:14: Collecting inference-schema~=1.7.0 (from azureml-inference-server-http~=1.2.1->azureml-defaults->-r /azureml-environment-setup/condaenv.wds0j4hu.requirements.txt (line 1))\n2024-09-13T01:01:14:   Downloading inference_schema-1.7.2-py3-none-any.whl.metadata (2.5 kB)\n2024-09-13T01:01:14: Collecting opencensus-ext-azure~=1.1.0 (from azureml-inference-server-http~=1.2.1->azureml-defaults->-r /azureml-environment-setup/condaenv.wds0j4hu.requirements.txt (line 1))\n2024-09-13T01:01:14:   Downloading opencensus_ext_azure-1.1.13-py2.py3-none-any.whl.metadata (16 kB)\n2024-09-13T01:01:14: Collecting pydantic~=2.0 (from azureml-inference-server-http~=1.2.1->azureml-defaults->-r /azureml-environment-setup/condaenv.wds0j4hu.requirements.txt (line 1))\n2024-09-13T01:01:14:   Downloading pydantic-2.9.1-py3-none-any.whl.metadata (146 kB)\n2024-09-13T01:01:14: Collecting pydantic-settings (from azureml-inference-server-http~=1.2.1->azureml-defaults->-r /azureml-environment-setup/condaenv.wds0j4hu.requirements.txt (line 1))\n2024-09-13T01:01:14:   Downloading pydantic_settings-2.5.2-py3-none-any.whl.metadata (3.5 kB)\n2024-09-13T01:01:14: Collecting werkzeug>=3.0.3 (from azureml-inference-server-http~=1.2.1->azureml-defaults->-r /azureml-environment-setup/condaenv.wds0j4hu.requirements.txt (line 1))\n2024-09-13T01:01:14:   Downloading werkzeug-3.0.4-py3-none-any.whl.metadata (3.7 kB)\n2024-09-13T01:01:14: Collecting gunicorn<24 (from mlflow->-r /azureml-environment-setup/condaenv.wds0j4hu.requirements.txt (line 5))\n2024-09-13T01:01:14:   Downloading gunicorn-22.0.0-py3-none-any.whl.metadata (4.4 kB)\n2024-09-13T01:01:14: Collecting cffi>=1.12 (from cryptography->azureml-mlflow->-r /azureml-environment-setup/condaenv.wds0j4hu.requirements.txt (line 4))\n2024-09-13T01:01:14:   Downloading cffi-1.17.1-cp310-cp310-manylinux_2_17_x86_64.manylinux2014_x86_64.whl.metadata (1.5 kB)\n2024-09-13T01:01:14: Collecting itsdangerous>=2.1.2 (from Flask<4->mlflow->-r /azureml-environment-setup/condaenv.wds0j4hu.requirements.txt (line 5))\n2024-09-13T01:01:14:   Downloading itsdangerous-2.2.0-py3-none-any.whl.metadata (1.9 kB)\n2024-09-13T01:01:14: Collecting blinker>=1.6.2 (from Flask<4->mlflow->-r /azureml-environment-setup/condaenv.wds0j4hu.requirements.txt (line 5))\n2024-09-13T01:01:14:   Downloading blinker-1.8.2-py3-none-any.whl.metadata (1.6 kB)\n2024-09-13T01:01:14: Collecting graphql-core<3.3,>=3.1 (from graphene<4->mlflow->-r /azureml-environment-setup/condaenv.wds0j4hu.requirements.txt (line 5))\n2024-09-13T01:01:14:   Downloading graphql_core-3.2.4-py3-none-any.whl.metadata (10 kB)\n2024-09-13T01:01:14: Collecting graphql-relay<3.3,>=3.1 (from graphene<4->mlflow->-r /azureml-environment-setup/condaenv.wds0j4hu.requirements.txt (line 5))\n2024-09-13T01:01:14:   Downloading graphql_relay-3.2.0-py3-none-any.whl.metadata (12 kB)\n2024-09-13T01:01:14: Collecting aniso8601<10,>=8 (from graphene<4->mlflow->-r /azureml-environment-setup/condaenv.wds0j4hu.requirements.txt (line 5))\n2024-09-13T01:01:14:   Downloading aniso8601-9.0.1-py2.py3-none-any.whl.metadata (23 kB)\n2024-09-13T01:01:14: Collecting MarkupSafe>=2.0 (from Jinja2<4,>=2.11->mlflow->-r /azureml-environment-setup/condaenv.wds0j4hu.requirements.txt (line 5))\n2024-09-13T01:01:14:   Downloading MarkupSafe-2.1.5-cp310-cp310-manylinux_2_17_x86_64.manylinux2014_x86_64.whl.metadata (3.0 kB)\n2024-09-13T01:01:14: Collecting pygments (from knack<0.12.0->azureml-core->-r /azureml-environment-setup/condaenv.wds0j4hu.requirements.txt (line 2))\n2024-09-13T01:01:14:   Downloading pygments-2.18.0-py3-none-any.whl.metadata (2.5 kB)\n2024-09-13T01:01:14: Collecting tabulate (from knack<0.12.0->azureml-core->-r /azureml-environment-setup/condaenv.wds0j4hu.requirements.txt (line 2))\n2024-09-13T01:01:14:   Downloading tabulate-0.9.0-py3-none-any.whl.metadata (34 kB)\n2024-09-13T01:01:14: Collecting contourpy>=1.0.1 (from matplotlib<4->mlflow->-r /azureml-environment-setup/condaenv.wds0j4hu.requirements.txt (line 5))\n2024-09-13T01:01:14:   Downloading contourpy-1.3.0-cp310-cp310-manylinux_2_17_x86_64.manylinux2014_x86_64.whl.metadata (5.4 kB)\n2024-09-13T01:01:14: Collecting cycler>=0.10 (from matplotlib<4->mlflow->-r /azureml-environment-setup/condaenv.wds0j4hu.requirements.txt (line 5))\n2024-09-13T01:01:14:   Downloading cycler-0.12.1-py3-none-any.whl.metadata (3.8 kB)\n2024-09-13T01:01:14: Collecting fonttools>=4.22.0 (from matplotlib<4->mlflow->-r /azureml-environment-setup/condaenv.wds0j4hu.requirements.txt (line 5))\n2024-09-13T01:01:14:   Downloading fonttools-4.53.1-cp310-cp310-manylinux_2_17_x86_64.manylinux2014_x86_64.whl.metadata (162 kB)\n2024-09-13T01:01:14: Collecting kiwisolver>=1.3.1 (from matplotlib<4->mlflow->-r /azureml-environment-setup/condaenv.wds0j4hu.requirements.txt (line 5))\n2024-09-13T01:01:14:   Downloading kiwisolver-1.4.7-cp310-cp310-manylinux_2_12_x86_64.manylinux2010_x86_64.whl.metadata (6.3 kB)\n2024-09-13T01:01:14: Collecting pillow>=8 (from matplotlib<4->mlflow->-r /azureml-environment-setup/condaenv.wds0j4hu.requirements.txt (line 5))\n2024-09-13T01:01:14:   Downloading pillow-10.4.0-cp310-cp310-manylinux_2_17_x86_64.manylinux2014_x86_64.whl.metadata (9.2 kB)\n2024-09-13T01:01:14: Collecting pyparsing>=2.3.1 (from matplotlib<4->mlflow->-r /azureml-environment-setup/condaenv.wds0j4hu.requirements.txt (line 5))\n2024-09-13T01:01:14:   Downloading pyparsing-3.1.4-py3-none-any.whl.metadata (5.1 kB)\n2024-09-13T01:01:14: Collecting portalocker<3,>=1.4 (from msal-extensions<=2.0.0,>=0.3.0->azureml-core->-r /azureml-environment-setup/condaenv.wds0j4hu.requirements.txt (line 2))\n2024-09-13T01:01:14:   Downloading portalocker-2.10.1-py3-none-any.whl.metadata (8.5 kB)\n2024-09-13T01:01:14: Collecting certifi>=2017.4.17 (from msrest<=0.7.1,>=0.5.1->azureml-core->-r /azureml-environment-setup/condaenv.wds0j4hu.requirements.txt (line 2))\n2024-09-13T01:01:14:   Downloading certifi-2024.8.30-py3-none-any.whl.metadata (2.2 kB)\n2024-09-13T01:01:14: Collecting requests-oauthlib>=0.5.0 (from msrest<=0.7.1,>=0.5.1->azureml-core->-r /azureml-environment-setup/condaenv.wds0j4hu.requirements.txt (line 2))\n2024-09-13T01:01:14:   Downloading requests_oauthlib-2.0.0-py2.py3-none-any.whl.metadata (11 kB)\n2024-09-13T01:01:14: Collecting pyasn1>=0.1.1 (from ndg-httpsclient<=0.5.1->azureml-core->-r /azureml-environment-setup/condaenv.wds0j4hu.requirements.txt (line 2))\n2024-09-13T01:01:14:   Downloading pyasn1-0.6.1-py3-none-any.whl.metadata (8.4 kB)\n2024-09-13T01:01:14: Requirement already satisfied: tzdata>=2022.7 in /azureml-envs/azureml_520ca019ed23d5f05b5e97c2ce64fbd8/lib/python3.10/site-packages (from pandas<3->mlflow->-r /azureml-environment-setup/condaenv.wds0j4hu.requirements.txt (line 5)) (2024.1)\n2024-09-13T01:01:14: Collecting bcrypt>=3.2 (from paramiko<4.0.0,>=2.0.8->azureml-core->-r /azureml-environment-setup/condaenv.wds0j4hu.requirements.txt (line 2))\n2024-09-13T01:01:14:   Downloading bcrypt-4.2.0-cp39-abi3-manylinux_2_17_x86_64.manylinux2014_x86_64.whl.metadata (9.6 kB)\n2024-09-13T01:01:14: Collecting pynacl>=1.5 (from paramiko<4.0.0,>=2.0.8->azureml-core->-r /azureml-environment-setup/condaenv.wds0j4hu.requirements.txt (line 2))\n2024-09-13T01:01:14:   Downloading PyNaCl-1.5.0-cp36-abi3-manylinux_2_17_x86_64.manylinux2014_x86_64.manylinux_2_24_x86_64.whl.metadata (8.6 kB)\n2024-09-13T01:01:14: Collecting charset-normalizer<4,>=2 (from requests<3.0.0,>=2.19.1->requests[socks]<3.0.0,>=2.19.1->azureml-core->-r /azureml-environment-setup/condaenv.wds0j4hu.requirements.txt (line 2))\n2024-09-13T01:01:14:   Downloading charset_normalizer-3.3.2-cp310-cp310-manylinux_2_17_x86_64.manylinux2014_x86_64.whl.metadata (33 kB)\n2024-09-13T01:01:14: Collecting idna<4,>=2.5 (from requests<3.0.0,>=2.19.1->requests[socks]<3.0.0,>=2.19.1->azureml-core->-r /azureml-environment-setup/condaenv.wds0j4hu.requirements.txt (line 2))\n2024-09-13T01:01:14:   Downloading idna-3.8-py3-none-any.whl.metadata (9.9 kB)\n2024-09-13T01:01:14: Collecting PySocks!=1.5.7,>=1.5.6 (from requests[socks]<3.0.0,>=2.19.1->azureml-core->-r /azureml-environment-setup/condaenv.wds0j4hu.requirements.txt (line 2))\n2024-09-13T01:01:14:   Downloading PySocks-1.7.1-py3-none-any.whl.metadata (13 kB)\n2024-09-13T01:01:14: Requirement already satisfied: threadpoolctl>=3.1.0 in /azureml-envs/azureml_520ca019ed23d5f05b5e97c2ce64fbd8/lib/python3.10/site-packages (from scikit-learn<2->mlflow->-r /azureml-environment-setup/condaenv.wds0j4hu.requirements.txt (line 5)) (3.5.0)\n2024-09-13T01:01:14: Collecting jeepney>=0.6 (from SecretStorage<4.0.0->azureml-core->-r /azureml-environment-setup/condaenv.wds0j4hu.requirements.txt (line 2))\n2024-09-13T01:01:14:   Downloading jeepney-0.8.0-py3-none-any.whl.metadata (1.3 kB)\n2024-09-13T01:01:14: Collecting greenlet!=0.4.17 (from sqlalchemy<3,>=1.4.0->mlflow->-r /azureml-environment-setup/condaenv.wds0j4hu.requirements.txt (line 5))\n2024-09-13T01:01:14:   Downloading greenlet-3.1.0-cp310-cp310-manylinux_2_24_x86_64.manylinux_2_28_x86_64.whl.metadata (3.8 kB)\n2024-09-13T01:01:14: Collecting backports.weakref (from backports.tempfile->azureml-core->-r /azureml-environment-setup/condaenv.wds0j4hu.requirements.txt (line 2))\n2024-09-13T01:01:14:   Downloading backports.weakref-1.0.post1-py2.py3-none-any.whl.metadata (2.3 kB)\n2024-09-13T01:01:14: Collecting pycparser (from cffi>=1.12->cryptography->azureml-mlflow->-r /azureml-environment-setup/condaenv.wds0j4hu.requirements.txt (line 4))\n2024-09-13T01:01:14:   Downloading pycparser-2.22-py3-none-any.whl.metadata (943 bytes)\n2024-09-13T01:01:14: Collecting google-auth~=2.0 (from databricks-sdk<1,>=0.20.0->mlflow-skinny->azureml-mlflow->-r /azureml-environment-setup/condaenv.wds0j4hu.requirements.txt (line 4))\n2024-09-13T01:01:14:   Downloading google_auth-2.34.0-py2.py3-none-any.whl.metadata (4.7 kB)\n2024-09-13T01:01:14: Collecting gitdb<5,>=4.0.1 (from gitpython<4,>=3.1.9->mlflow-skinny->azureml-mlflow->-r /azureml-environment-setup/condaenv.wds0j4hu.requirements.txt (line 4))\n2024-09-13T01:01:14:   Downloading gitdb-4.0.11-py3-none-any.whl.metadata (1.2 kB)\n2024-09-13T01:01:14: Collecting zipp>=3.20 (from importlib-metadata!=4.7.0,<9,>=3.7.0->mlflow-skinny->azureml-mlflow->-r /azureml-environment-setup/condaenv.wds0j4hu.requirements.txt (line 4))\n2024-09-13T01:01:14:   Downloading zipp-3.20.1-py3-none-any.whl.metadata (3.7 kB)\n2024-09-13T01:01:14: Collecting wrapt<=1.16.0,>=1.14.0 (from inference-schema~=1.7.0->azureml-inference-server-http~=1.2.1->azureml-defaults->-r /azureml-environment-setup/condaenv.wds0j4hu.requirements.txt (line 1))\n2024-09-13T01:01:14:   Downloading wrapt-1.16.0-cp310-cp310-manylinux_2_5_x86_64.manylinux1_x86_64.manylinux_2_17_x86_64.manylinux2014_x86_64.whl.metadata (6.6 kB)\n2024-09-13T01:01:14: Collecting opencensus<1.0.0,>=0.11.4 (from opencensus-ext-azure~=1.1.0->azureml-inference-server-http~=1.2.1->azureml-defaults->-r /azureml-environment-setup/condaenv.wds0j4hu.requirements.txt (line 1))\n2024-09-13T01:01:14:   Downloading opencensus-0.11.4-py2.py3-none-any.whl.metadata (12 kB)\n2024-09-13T01:01:14: Collecting psutil>=5.6.3 (from opencensus-ext-azure~=1.1.0->azureml-inference-server-http~=1.2.1->azureml-defaults->-r /azureml-environment-setup/condaenv.wds0j4hu.requirements.txt (line 1))\n2024-09-13T01:01:14:   Downloading psutil-6.0.0-cp36-abi3-manylinux_2_12_x86_64.manylinux2010_x86_64.manylinux_2_17_x86_64.manylinux2014_x86_64.whl.metadata (21 kB)\n2024-09-13T01:01:14: Collecting deprecated>=1.2.6 (from opentelemetry-api<3,>=1.9.0->mlflow-skinny->azureml-mlflow->-r /azureml-environment-setup/condaenv.wds0j4hu.requirements.txt (line 4))\n2024-09-13T01:01:14:   Downloading Deprecated-1.2.14-py2.py3-none-any.whl.metadata (5.4 kB)\n2024-09-13T01:01:14: Collecting importlib-metadata!=4.7.0,<9,>=3.7.0 (from mlflow-skinny->azureml-mlflow->-r /azureml-environment-setup/condaenv.wds0j4hu.requirements.txt (line 4))\n2024-09-13T01:01:14:   Downloading importlib_metadata-8.4.0-py3-none-any.whl.metadata (4.7 kB)\n2024-09-13T01:01:14: Collecting opentelemetry-semantic-conventions==0.48b0 (from opentelemetry-sdk<3,>=1.9.0->mlflow-skinny->azureml-mlflow->-r /azureml-environment-setup/condaenv.wds0j4hu.requirements.txt (line 4))\n2024-09-13T01:01:14:   Downloading opentelemetry_semantic_conventions-0.48b0-py3-none-any.whl.metadata (2.4 kB)\n2024-09-13T01:01:14: Collecting annotated-types>=0.6.0 (from pydantic~=2.0->azureml-inference-server-http~=1.2.1->azureml-defaults->-r /azureml-environment-setup/condaenv.wds0j4hu.requirements.txt (line 1))\n2024-09-13T01:01:14:   Downloading annotated_types-0.7.0-py3-none-any.whl.metadata (15 kB)\n2024-09-13T01:01:14: Collecting pydantic-core==2.23.3 (from pydantic~=2.0->azureml-inference-server-http~=1.2.1->azureml-defaults->-r /azureml-environment-setup/condaenv.wds0j4hu.requirements.txt (line 1))\n2024-09-13T01:01:14:   Downloading pydantic_core-2.23.3-cp310-cp310-manylinux_2_17_x86_64.manylinux2014_x86_64.whl.metadata (6.6 kB)\n2024-09-13T01:01:14: Collecting oauthlib>=3.0.0 (from requests-oauthlib>=0.5.0->msrest<=0.7.1,>=0.5.1->azureml-core->-r /azureml-environment-setup/condaenv.wds0j4hu.requirements.txt (line 2))\n2024-09-13T01:01:14:   Downloading oauthlib-3.2.2-py3-none-any.whl.metadata (7.5 kB)\n2024-09-13T01:01:14: Collecting attrs>=22.2.0 (from jsonschema->azureml-dataprep<5.2.0a,>=5.1.0a->azureml-dataset-runtime->-r /azureml-environment-setup/condaenv.wds0j4hu.requirements.txt (line 3))\n2024-09-13T01:01:14:   Downloading attrs-24.2.0-py3-none-any.whl.metadata (11 kB)\n2024-09-13T01:01:14: Collecting jsonschema-specifications>=2023.03.6 (from jsonschema->azureml-dataprep<5.2.0a,>=5.1.0a->azureml-dataset-runtime->-r /azureml-environment-setup/condaenv.wds0j4hu.requirements.txt (line 3))\n2024-09-13T01:01:14:   Downloading jsonschema_specifications-2023.12.1-py3-none-any.whl.metadata (3.0 kB)\n2024-09-13T01:01:14: Collecting referencing>=0.28.4 (from jsonschema->azureml-dataprep<5.2.0a,>=5.1.0a->azureml-dataset-runtime->-r /azureml-environment-setup/condaenv.wds0j4hu.requirements.txt (line 3))\n2024-09-13T01:01:14:   Downloading referencing-0.35.1-py3-none-any.whl.metadata (2.8 kB)\n2024-09-13T01:01:14: Collecting rpds-py>=0.7.1 (from jsonschema->azureml-dataprep<5.2.0a,>=5.1.0a->azureml-dataset-runtime->-r /azureml-environment-setup/condaenv.wds0j4hu.requirements.txt (line 3))\n2024-09-13T01:01:14:   Downloading rpds_py-0.20.0-cp310-cp310-manylinux_2_17_x86_64.manylinux2014_x86_64.whl.metadata (4.2 kB)\n2024-09-13T01:01:14: Collecting python-dotenv>=0.21.0 (from pydantic-settings->azureml-inference-server-http~=1.2.1->azureml-defaults->-r /azureml-environment-setup/condaenv.wds0j4hu.requirements.txt (line 1))\n2024-09-13T01:01:14:   Downloading python_dotenv-1.0.1-py3-none-any.whl.metadata (23 kB)\n2024-09-13T01:01:14: Collecting smmap<6,>=3.0.1 (from gitdb<5,>=4.0.1->gitpython<4,>=3.1.9->mlflow-skinny->azureml-mlflow->-r /azureml-environment-setup/condaenv.wds0j4hu.requirements.txt (line 4))\n2024-09-13T01:01:14:   Downloading smmap-5.0.1-py3-none-any.whl.metadata (4.3 kB)\n2024-09-13T01:01:14: Collecting pyasn1-modules>=0.2.1 (from google-auth~=2.0->databricks-sdk<1,>=0.20.0->mlflow-skinny->azureml-mlflow->-r /azureml-environment-setup/condaenv.wds0j4hu.requirements.txt (line 4))\n2024-09-13T01:01:14:   Downloading pyasn1_modules-0.4.1-py3-none-any.whl.metadata (3.5 kB)\n2024-09-13T01:01:14: Collecting rsa<5,>=3.1.4 (from google-auth~=2.0->databricks-sdk<1,>=0.20.0->mlflow-skinny->azureml-mlflow->-r /azureml-environment-setup/condaenv.wds0j4hu.requirements.txt (line 4))\n2024-09-13T01:01:14:   Downloading rsa-4.9-py3-none-any.whl.metadata (4.2 kB)\n2024-09-13T01:01:14: Collecting opencensus-context>=0.1.3 (from opencensus<1.0.0,>=0.11.4->opencensus-ext-azure~=1.1.0->azureml-inference-server-http~=1.2.1->azureml-defaults->-r /azureml-environment-setup/condaenv.wds0j4hu.requirements.txt (line 1))\n2024-09-13T01:01:14:   Downloading opencensus_context-0.1.3-py2.py3-none-any.whl.metadata (3.3 kB)\n2024-09-13T01:01:14: Collecting google-api-core<3.0.0,>=1.0.0 (from opencensus<1.0.0,>=0.11.4->opencensus-ext-azure~=1.1.0->azureml-inference-server-http~=1.2.1->azureml-defaults->-r /azureml-environment-setup/condaenv.wds0j4hu.requirements.txt (line 1))\n2024-09-13T01:01:14:   Downloading google_api_core-2.19.2-py3-none-any.whl.metadata (2.7 kB)\n2024-09-13T01:01:14: Collecting googleapis-common-protos<2.0.dev0,>=1.56.2 (from google-api-core<3.0.0,>=1.0.0->opencensus<1.0.0,>=0.11.4->opencensus-ext-azure~=1.1.0->azureml-inference-server-http~=1.2.1->azureml-defaults->-r /azureml-environment-setup/condaenv.wds0j4hu.requirements.txt (line 1))\n2024-09-13T01:01:14:   Downloading googleapis_common_protos-1.65.0-py2.py3-none-any.whl.metadata (1.5 kB)\n2024-09-13T01:01:14: Collecting proto-plus<2.0.0dev,>=1.22.3 (from google-api-core<3.0.0,>=1.0.0->opencensus<1.0.0,>=0.11.4->opencensus-ext-azure~=1.1.0->azureml-inference-server-http~=1.2.1->azureml-defaults->-r /azureml-environment-setup/condaenv.wds0j4hu.requirements.txt (line 1))\n2024-09-13T01:01:14:   Downloading proto_plus-1.24.0-py3-none-any.whl.metadata (2.2 kB)\n2024-09-13T01:01:14: Downloading azureml_defaults-1.57.0-py3-none-any.whl (2.0 kB)\n2024-09-13T01:01:14: Downloading azureml_core-1.57.0.post1-py3-none-any.whl (3.3 MB)\n2024-09-13T01:01:14:    ━━━━━━━━━━━━━━━━━━━━━━━━━━━━━━━━━━━━━━━━ 3.3/3.3 MB 82.3 MB/s eta 0:00:00\n2024-09-13T01:01:14: Downloading azureml_dataset_runtime-1.57.0-py3-none-any.whl (2.2 kB)\n2024-09-13T01:01:14: Downloading azureml_mlflow-1.57.0.post1-py3-none-any.whl (1.0 MB)\n2024-09-13T01:01:14:    ━━━━━━━━━━━━━━━━━━━━━━━━━━━━━━━━━━━━━━━━ 1.0/1.0 MB 29.9 MB/s eta 0:00:00\n2024-09-13T01:01:14: Downloading mlflow-2.16.0-py3-none-any.whl (26.6 MB)\n2024-09-13T01:01:14:    ━━━━━━━━━━━━━━━━━━━━━━━━━━━━━━━━━━━━━━━━ 26.6/26.6 MB 89.2 MB/s eta 0:00:00\n2024-09-13T01:01:14: Downloading mlflow_skinny-2.16.0-py3-none-any.whl (5.6 MB)\n2024-09-13T01:01:14:    ━━━━━━━━━━━━━━━━━━━━━━━━━━━━━━━━━━━━━━━━ 5.6/5.6 MB 110.1 MB/s eta 0:00:00\n2024-09-13T01:01:14: Downloading adal-1.2.7-py2.py3-none-any.whl (55 kB)\n2024-09-13T01:01:14: Downloading alembic-1.13.2-py3-none-any.whl (232 kB)\n2024-09-13T01:01:14: Downloading argcomplete-3.5.0-py3-none-any.whl (43 kB)\n2024-09-13T01:01:14: Downloading azure_common-1.1.28-py2.py3-none-any.whl (14 kB)\n2024-09-13T01:01:14: Downloading azure_core-1.31.0-py3-none-any.whl (197 kB)\n2024-09-13T01:01:14: Downloading azure_graphrbac-0.61.1-py2.py3-none-any.whl (141 kB)\n2024-09-13T01:01:14: Downloading azure_mgmt_authorization-4.0.0-py3-none-any.whl (1.1 MB)\n2024-09-13T01:01:14:    ━━━━━━━━━━━━━━━━━━━━━━━━━━━━━━━━━━━━━━━━ 1.1/1.1 MB 37.9 MB/s eta 0:00:00\n2024-09-13T01:01:14: Downloading azure_mgmt_containerregistry-10.3.0-py3-none-any.whl (2.3 MB)\n2024-09-13T01:01:14:    ━━━━━━━━━━━━━━━━━━━━━━━━━━━━━━━━━━━━━━━━ 2.3/2.3 MB 79.1 MB/s eta 0:00:00\n2024-09-13T01:01:14: Downloading azure_mgmt_core-1.4.0-py3-none-any.whl (27 kB)\n2024-09-13T01:01:14: Downloading azure_mgmt_keyvault-10.3.1-py3-none-any.whl (901 kB)\n2024-09-13T01:01:14:    ━━━━━━━━━━━━━━━━━━━━━━━━━━━━━━━━━━━━━━━━ 901.4/901.4 kB 34.7 MB/s eta 0:00:00\n2024-09-13T01:01:14: Downloading azure_mgmt_network-26.0.0-py3-none-any.whl (617 kB)\n2024-09-13T01:01:14:    ━━━━━━━━━━━━━━━━━━━━━━━━━━━━━━━━━━━━━━━━ 617.4/617.4 kB 18.0 MB/s eta 0:00:00\n2024-09-13T01:01:14: Downloading azure_mgmt_resource-23.1.1-py3-none-any.whl (2.6 MB)\n2024-09-13T01:01:14:    ━━━━━━━━━━━━━━━━━━━━━━━━━━━━━━━━━━━━━━━━ 2.6/2.6 MB 81.8 MB/s eta 0:00:00\n2024-09-13T01:01:14: Downloading azure_mgmt_storage-21.2.1-py3-none-any.whl (3.2 MB)\n2024-09-13T01:01:14:    ━━━━━━━━━━━━━━━━━━━━━━━━━━━━━━━━━━━━━━━━ 3.2/3.2 MB 73.0 MB/s eta 0:00:00\n2024-09-13T01:01:14: Downloading azure_storage_blob-12.19.0-py3-none-any.whl (394 kB)\n2024-09-13T01:01:14: Downloading azureml_dataprep-5.1.6-py3-none-any.whl (252 kB)\n2024-09-13T01:01:14: Downloading azure_identity-1.17.1-py3-none-any.whl (173 kB)\n2024-09-13T01:01:14: Downloading azureml_inference_server_http-1.2.2-py3-none-any.whl (42 kB)\n2024-09-13T01:01:14: Downloading gunicorn-22.0.0-py3-none-any.whl (84 kB)\n2024-09-13T01:01:14: Downloading contextlib2-21.6.0-py2.py3-none-any.whl (13 kB)\n2024-09-13T01:01:14: Downloading cryptography-43.0.1-cp39-abi3-manylinux_2_17_x86_64.manylinux2014_x86_64.whl (4.0 MB)\n2024-09-13T01:01:14:    ━━━━━━━━━━━━━━━━━━━━━━━━━━━━━━━━━━━━━━━━ 4.0/4.0 MB 102.8 MB/s eta 0:00:00\n2024-09-13T01:01:14: Downloading docker-7.1.0-py3-none-any.whl (147 kB)\n2024-09-13T01:01:14: Downloading Flask-2.3.2-py3-none-any.whl (96 kB)\n2024-09-13T01:01:14: Downloading graphene-3.3-py2.py3-none-any.whl (128 kB)\n2024-09-13T01:01:14: Downloading humanfriendly-10.0-py2.py3-none-any.whl (86 kB)\n2024-09-13T01:01:14: Downloading jinja2-3.1.4-py3-none-any.whl (133 kB)\n2024-09-13T01:01:14: Downloading jmespath-1.0.1-py3-none-any.whl (20 kB)\n2024-09-13T01:01:14: Downloading jsonpickle-3.3.0-py3-none-any.whl (42 kB)\n2024-09-13T01:01:14: Downloading knack-0.11.0-py3-none-any.whl (60 kB)\n2024-09-13T01:01:14: Downloading Markdown-3.7-py3-none-any.whl (106 kB)\n2024-09-13T01:01:14: Downloading matplotlib-3.9.2-cp310-cp310-manylinux_2_17_x86_64.manylinux2014_x86_64.whl (8.3 MB)\n2024-09-13T01:01:14:    ━━━━━━━━━━━━━━━━━━━━━━━━━━━━━━━━━━━━━━━━ 8.3/8.3 MB 120.7 MB/s eta 0:00:00\n2024-09-13T01:01:14: Downloading msal-1.31.0-py3-none-any.whl (113 kB)\n2024-09-13T01:01:14: Downloading msal_extensions-1.2.0-py3-none-any.whl (19 kB)\n2024-09-13T01:01:14: Downloading msrest-0.7.1-py3-none-any.whl (85 kB)\n2024-09-13T01:01:14: Downloading msrestazure-0.6.4.post1-py2.py3-none-any.whl (40 kB)\n2024-09-13T01:01:14: Downloading ndg_httpsclient-0.5.1-py3-none-any.whl (34 kB)\n2024-09-13T01:01:14: Downloading numpy-1.23.5-cp310-cp310-manylinux_2_17_x86_64.manylinux2014_x86_64.whl (17.1 MB)\n2024-09-13T01:01:14:    ━━━━━━━━━━━━━━━━━━━━━━━━━━━━━━━━━━━━━━━━ 17.1/17.1 MB 127.0 MB/s eta 0:00:00\n2024-09-13T01:01:14: Downloading packaging-24.1-py3-none-any.whl (53 kB)\n2024-09-13T01:01:14: Downloading paramiko-3.4.1-py3-none-any.whl (226 kB)\n2024-09-13T01:01:14: Downloading pathspec-0.12.1-py3-none-any.whl (31 kB)\n2024-09-13T01:01:14: Downloading pyarrow-17.0.0-cp310-cp310-manylinux_2_17_x86_64.manylinux2014_x86_64.whl (39.9 MB)\n2024-09-13T01:01:14:    ━━━━━━━━━━━━━━━━━━━━━━━━━━━━━━━━━━━━━━━━ 39.9/39.9 MB 74.9 MB/s eta 0:00:00\n2024-09-13T01:01:14: Downloading PyJWT-2.9.0-py3-none-any.whl (22 kB)\n2024-09-13T01:01:14: Downloading pyOpenSSL-24.2.1-py3-none-any.whl (58 kB)\n2024-09-13T01:01:14: Downloading requests-2.32.3-py3-none-any.whl (64 kB)\n2024-09-13T01:01:14: Downloading SecretStorage-3.3.3-py3-none-any.whl (15 kB)\n2024-09-13T01:01:14: Downloading SQLAlchemy-2.0.34-cp310-cp310-manylinux_2_17_x86_64.manylinux2014_x86_64.whl (3.1 MB)\n2024-09-13T01:01:14:    ━━━━━━━━━━━━━━━━━━━━━━━━━━━━━━━━━━━━━━━━ 3.1/3.1 MB 93.6 MB/s eta 0:00:00\n2024-09-13T01:01:14: Downloading urllib3-2.2.3-py3-none-any.whl (126 kB)\n2024-09-13T01:01:14: Downloading backports.tempfile-1.0-py2.py3-none-any.whl (4.4 kB)\n2024-09-13T01:01:14: Downloading pkginfo-1.11.1-py3-none-any.whl (31 kB)\n2024-09-13T01:01:14: Downloading aniso8601-9.0.1-py2.py3-none-any.whl (52 kB)\n2024-09-13T01:01:14: Downloading azureml_dataprep_native-41.0.0-cp310-cp310-manylinux1_x86_64.whl (187 kB)\n2024-09-13T01:01:14: Downloading azureml_dataprep_rslex-2.22.4-cp310-cp310-manylinux1_x86_64.whl (24.8 MB)\n2024-09-13T01:01:14:    ━━━━━━━━━━━━━━━━━━━━━━━━━━━━━━━━━━━━━━━━ 24.8/24.8 MB 79.4 MB/s eta 0:00:00\n2024-09-13T01:01:14: Downloading bcrypt-4.2.0-cp39-abi3-manylinux_2_17_x86_64.manylinux2014_x86_64.whl (273 kB)\n2024-09-13T01:01:14: Downloading blinker-1.8.2-py3-none-any.whl (9.5 kB)\n2024-09-13T01:01:14: Downloading cachetools-5.5.0-py3-none-any.whl (9.5 kB)\n2024-09-13T01:01:14: Downloading certifi-2024.8.30-py3-none-any.whl (167 kB)\n2024-09-13T01:01:14: Downloading cffi-1.17.1-cp310-cp310-manylinux_2_17_x86_64.manylinux2014_x86_64.whl (446 kB)\n2024-09-13T01:01:14: Downloading charset_normalizer-3.3.2-cp310-cp310-manylinux_2_17_x86_64.manylinux2014_x86_64.whl (142 kB)\n2024-09-13T01:01:14: Downloading click-8.1.7-py3-none-any.whl (97 kB)\n2024-09-13T01:01:14: Downloading cloudpickle-2.2.1-py3-none-any.whl (25 kB)\n2024-09-13T01:01:14: Downloading contourpy-1.3.0-cp310-cp310-manylinux_2_17_x86_64.manylinux2014_x86_64.whl (322 kB)\n2024-09-13T01:01:14: Downloading cycler-0.12.1-py3-none-any.whl (8.3 kB)\n2024-09-13T01:01:14: Downloading databricks_sdk-0.32.1-py3-none-any.whl (551 kB)\n2024-09-13T01:01:14:    ━━━━━━━━━━━━━━━━━━━━━━━━━━━━━━━━━━━━━━━━ 552.0/552.0 kB 23.1 MB/s eta 0:00:00\n2024-09-13T01:01:14: Downloading Flask_Cors-3.0.10-py2.py3-none-any.whl (14 kB)\n2024-09-13T01:01:14: Downloading fonttools-4.53.1-cp310-cp310-manylinux_2_17_x86_64.manylinux2014_x86_64.whl (4.6 MB)\n2024-09-13T01:01:14:    ━━━━━━━━━━━━━━━━━━━━━━━━━━━━━━━━━━━━━━━━ 4.6/4.6 MB 92.9 MB/s eta 0:00:00\n2024-09-13T01:01:14: Downloading GitPython-3.1.43-py3-none-any.whl (207 kB)\n2024-09-13T01:01:14: Downloading graphql_core-3.2.4-py3-none-any.whl (203 kB)\n2024-09-13T01:01:14: Downloading graphql_relay-3.2.0-py3-none-any.whl (16 kB)\n2024-09-13T01:01:14: Downloading greenlet-3.1.0-cp310-cp310-manylinux_2_24_x86_64.manylinux_2_28_x86_64.whl (617 kB)\n2024-09-13T01:01:14:    ━━━━━━━━━━━━━━━━━━━━━━━━━━━━━━━━━━━━━━━━ 617.1/617.1 kB 21.9 MB/s eta 0:00:00\n2024-09-13T01:01:14: Downloading idna-3.8-py3-none-any.whl (66 kB)\n2024-09-13T01:01:14: Downloading inference_schema-1.7.2-py3-none-any.whl (21 kB)\n2024-09-13T01:01:14: Downloading isodate-0.6.1-py2.py3-none-any.whl (41 kB)\n2024-09-13T01:01:14: Downloading itsdangerous-2.2.0-py3-none-any.whl (16 kB)\n2024-09-13T01:01:14: Downloading jeepney-0.8.0-py3-none-any.whl (48 kB)\n2024-09-13T01:01:14: Downloading kiwisolver-1.4.7-cp310-cp310-manylinux_2_12_x86_64.manylinux2010_x86_64.whl (1.6 MB)\n2024-09-13T01:01:14:    ━━━━━━━━━━━━━━━━━━━━━━━━━━━━━━━━━━━━━━━━ 1.6/1.6 MB 56.9 MB/s eta 0:00:00\n2024-09-13T01:01:14: Downloading MarkupSafe-2.1.5-cp310-cp310-manylinux_2_17_x86_64.manylinux2014_x86_64.whl (25 kB)\n2024-09-13T01:01:14: Downloading opencensus_ext_azure-1.1.13-py2.py3-none-any.whl (43 kB)\n2024-09-13T01:01:14: Downloading opentelemetry_api-1.27.0-py3-none-any.whl (63 kB)\n2024-09-13T01:01:14: Downloading importlib_metadata-8.4.0-py3-none-any.whl (26 kB)\n2024-09-13T01:01:14: Downloading opentelemetry_sdk-1.27.0-py3-none-any.whl (110 kB)\n2024-09-13T01:01:14: Downloading opentelemetry_semantic_conventions-0.48b0-py3-none-any.whl (149 kB)\n2024-09-13T01:01:14: Downloading pillow-10.4.0-cp310-cp310-manylinux_2_17_x86_64.manylinux2014_x86_64.whl (4.4 MB)\n2024-09-13T01:01:14:    ━━━━━━━━━━━━━━━━━━━━━━━━━━━━━━━━━━━━━━━━ 4.4/4.4 MB 94.2 MB/s eta 0:00:00\n2024-09-13T01:01:14: Downloading portalocker-2.10.1-py3-none-any.whl (18 kB)\n2024-09-13T01:01:14: Downloading protobuf-5.28.1-cp38-abi3-manylinux2014_x86_64.whl (316 kB)\n2024-09-13T01:01:14: Downloading pyasn1-0.6.1-py3-none-any.whl (83 kB)\n2024-09-13T01:01:14: Downloading pydantic-2.9.1-py3-none-any.whl (434 kB)\n2024-09-13T01:01:14: Downloading pydantic_core-2.23.3-cp310-cp310-manylinux_2_17_x86_64.manylinux2014_x86_64.whl (2.1 MB)\n2024-09-13T01:01:14:    ━━━━━━━━━━━━━━━━━━━━━━━━━━━━━━━━━━━━━━━━ 2.1/2.1 MB 79.5 MB/s eta 0:00:00\n2024-09-13T01:01:14: Downloading PyNaCl-1.5.0-cp36-abi3-manylinux_2_17_x86_64.manylinux2014_x86_64.manylinux_2_24_x86_64.whl (856 kB)\n2024-09-13T01:01:14:    ━━━━━━━━━━━━━━━━━━━━━━━━━━━━━━━━━━━━━━━━ 856.7/856.7 kB 29.3 MB/s eta 0:00:00\n2024-09-13T01:01:14: Downloading pyparsing-3.1.4-py3-none-any.whl (104 kB)\n2024-09-13T01:01:14: Downloading PySocks-1.7.1-py3-none-any.whl (16 kB)\n2024-09-13T01:01:14: Downloading PyYAML-6.0.2-cp310-cp310-manylinux_2_17_x86_64.manylinux2014_x86_64.whl (751 kB)\n2024-09-13T01:01:14:    ━━━━━━━━━━━━━━━━━━━━━━━━━━━━━━━━━━━━━━━━ 751.2/751.2 kB 37.2 MB/s eta 0:00:00\n2024-09-13T01:01:14: Downloading requests_oauthlib-2.0.0-py2.py3-none-any.whl (24 kB)\n2024-09-13T01:01:14: Downloading sqlparse-0.5.1-py3-none-any.whl (44 kB)\n2024-09-13T01:01:14: Downloading typing_extensions-4.12.2-py3-none-any.whl (37 kB)\n2024-09-13T01:01:14: Downloading werkzeug-3.0.4-py3-none-any.whl (227 kB)\n2024-09-13T01:01:14: Downloading backports.weakref-1.0.post1-py2.py3-none-any.whl (5.2 kB)\n2024-09-13T01:01:14: Downloading jsonschema-4.23.0-py3-none-any.whl (88 kB)\n2024-09-13T01:01:14: Downloading Mako-1.3.5-py3-none-any.whl (78 kB)\n2024-09-13T01:01:14: Downloading pydantic_settings-2.5.2-py3-none-any.whl (26 kB)\n2024-09-13T01:01:14: Downloading pygments-2.18.0-py3-none-any.whl (1.2 MB)\n2024-09-13T01:01:14:    ━━━━━━━━━━━━━━━━━━━━━━━━━━━━━━━━━━━━━━━━ 1.2/1.2 MB 40.9 MB/s eta 0:00:00\n2024-09-13T01:01:14: Downloading tabulate-0.9.0-py3-none-any.whl (35 kB)\n2024-09-13T01:01:14: Downloading annotated_types-0.7.0-py3-none-any.whl (13 kB)\n2024-09-13T01:01:14: Downloading attrs-24.2.0-py3-none-any.whl (63 kB)\n2024-09-13T01:01:14: Downloading Deprecated-1.2.14-py2.py3-none-any.whl (9.6 kB)\n2024-09-13T01:01:14: Downloading gitdb-4.0.11-py3-none-any.whl (62 kB)\n2024-09-13T01:01:14: Downloading google_auth-2.34.0-py2.py3-none-any.whl (200 kB)\n2024-09-13T01:01:14: Downloading jsonschema_specifications-2023.12.1-py3-none-any.whl (18 kB)\n2024-09-13T01:01:14: Downloading oauthlib-3.2.2-py3-none-any.whl (151 kB)\n2024-09-13T01:01:14: Downloading opencensus-0.11.4-py2.py3-none-any.whl (128 kB)\n2024-09-13T01:01:14: Downloading psutil-6.0.0-cp36-abi3-manylinux_2_12_x86_64.manylinux2010_x86_64.manylinux_2_17_x86_64.manylinux2014_x86_64.whl (290 kB)\n2024-09-13T01:01:14: Downloading python_dotenv-1.0.1-py3-none-any.whl (19 kB)\n2024-09-13T01:01:14: Downloading referencing-0.35.1-py3-none-any.whl (26 kB)\n2024-09-13T01:01:14: Downloading rpds_py-0.20.0-cp310-cp310-manylinux_2_17_x86_64.manylinux2014_x86_64.whl (354 kB)\n2024-09-13T01:01:14: Downloading wrapt-1.16.0-cp310-cp310-manylinux_2_5_x86_64.manylinux1_x86_64.manylinux_2_17_x86_64.manylinux2014_x86_64.whl (80 kB)\n2024-09-13T01:01:14: Downloading zipp-3.20.1-py3-none-any.whl (9.0 kB)\n2024-09-13T01:01:14: Downloading pycparser-2.22-py3-none-any.whl (117 kB)\n2024-09-13T01:01:14: Downloading google_api_core-2.19.2-py3-none-any.whl (139 kB)\n2024-09-13T01:01:14: Downloading opencensus_context-0.1.3-py2.py3-none-any.whl (5.1 kB)\n2024-09-13T01:01:14: Downloading pyasn1_modules-0.4.1-py3-none-any.whl (181 kB)\n2024-09-13T01:01:14: Downloading rsa-4.9-py3-none-any.whl (34 kB)\n2024-09-13T01:01:14: Downloading smmap-5.0.1-py3-none-any.whl (24 kB)\n2024-09-13T01:01:14: Downloading googleapis_common_protos-1.65.0-py2.py3-none-any.whl (220 kB)\n2024-09-13T01:01:14: Downloading proto_plus-1.24.0-py3-none-any.whl (50 kB)\n2024-09-13T01:01:14: Building wheels for collected packages: fusepy\n2024-09-13T01:01:14:   Building wheel for fusepy (setup.py): started\n2024-09-13T01:01:14:   Building wheel for fusepy (setup.py): finished with status 'done'\n2024-09-13T01:01:14:   Created wheel for fusepy: filename=fusepy-3.0.1-py3-none-any.whl size=10485 sha256=9e99f10f4d8d798b1bc3015ba0eb15e1aa3ea4764b4b84f21cf9793a9390b7af\n2024-09-13T01:01:14:   Stored in directory: /root/.cache/pip/wheels/c0/18/f6/f0d6be9d0435e2677ce5cc758e91da50053dce456a346f08c5\n2024-09-13T01:01:14: Successfully built fusepy\n2024-09-13T01:01:14: Installing collected packages: opencensus-context, fusepy, backports.weakref, azureml-dataprep-rslex, azureml-dataprep-native, azure-common, aniso8601, zipp, wrapt, urllib3, typing-extensions, tabulate, sqlparse, smmap, rpds-py, pyyaml, python-dotenv, PySocks, pyparsing, PyJWT, pygments, pycparser, pyasn1, psutil, protobuf, portalocker, pkginfo, pillow, pathspec, packaging, oauthlib, numpy, MarkupSafe, markdown, kiwisolver, jsonpickle, jmespath, jeepney, itsdangerous, isodate, idna, humanfriendly, greenlet, graphql-core, fonttools, cycler, contextlib2, cloudpickle, click, charset-normalizer, certifi, cachetools, blinker, bcrypt, backports.tempfile, attrs, argcomplete, annotated-types, werkzeug, sqlalchemy, rsa, requests, referencing, pydantic-core, pyasn1-modules, pyarrow, proto-plus, Mako, knack, Jinja2, inference-schema, importlib-metadata, gunicorn, graphql-relay, googleapis-common-protos, gitdb, deprecated, contourpy, cffi, requests-oauthlib, pynacl, pydantic, opentelemetry-api, matplotlib, jsonschema-specifications, graphene, google-auth, gitpython, Flask, docker, cryptography, azure-core, alembic, SecretStorage, pyopenssl, pydantic-settings, paramiko, opentelemetry-semantic-conventions, msrest, jsonschema, google-api-core, flask-cors, databricks-sdk, azure-storage-blob, azure-mgmt-core, adal, opentelemetry-sdk, opencensus, ndg-httpsclient, msrestazure, msal, azure-mgmt-storage, azure-mgmt-resource, azure-mgmt-network, azure-mgmt-keyvault, azure-mgmt-containerregistry, azure-mgmt-authorization, msal-extensions, mlflow-skinny, azure-graphrbac, mlflow, azureml-core, azure-identity, opencensus-ext-azure, azureml-mlflow, azureml-dataprep, azureml-inference-server-http, azureml-dataset-runtime, azureml-defaults\n2024-09-13T01:01:14:   Attempting uninstall: numpy\n2024-09-13T01:01:14:     Found existing installation: numpy 2.1.1\n2024-09-13T01:01:14:     Uninstalling numpy-2.1.1:\n2024-09-13T01:01:14:       Successfully uninstalled numpy-2.1.1\n2024-09-13T01:01:14: Successfully installed Flask-2.3.2 Jinja2-3.1.4 Mako-1.3.5 MarkupSafe-2.1.5 PyJWT-2.9.0 PySocks-1.7.1 SecretStorage-3.3.3 adal-1.2.7 alembic-1.13.2 aniso8601-9.0.1 annotated-types-0.7.0 argcomplete-3.5.0 attrs-24.2.0 azure-common-1.1.28 azure-core-1.31.0 azure-graphrbac-0.61.1 azure-identity-1.17.1 azure-mgmt-authorization-4.0.0 azure-mgmt-containerregistry-10.3.0 azure-mgmt-core-1.4.0 azure-mgmt-keyvault-10.3.1 azure-mgmt-network-26.0.0 azure-mgmt-resource-23.1.1 azure-mgmt-storage-21.2.1 azure-storage-blob-12.19.0 azureml-core-1.57.0.post1 azureml-dataprep-5.1.6 azureml-dataprep-native-41.0.0 azureml-dataprep-rslex-2.22.4 azureml-dataset-runtime-1.57.0 azureml-defaults-1.57.0 azureml-inference-server-http-1.2.2 azureml-mlflow-1.57.0.post1 backports.tempfile-1.0 backports.weakref-1.0.post1 bcrypt-4.2.0 blinker-1.8.2 cachetools-5.5.0 certifi-2024.8.30 cffi-1.17.1 charset-normalizer-3.3.2 click-8.1.7 cloudpickle-2.2.1 contextlib2-21.6.0 contourpy-1.3.0 cryptography-43.0.1 cycler-0.12.1 databricks-sdk-0.32.1 deprecated-1.2.14 docker-7.1.0 flask-cors-3.0.10 fonttools-4.53.1 fusepy-3.0.1 gitdb-4.0.11 gitpython-3.1.43 google-api-core-2.19.2 google-auth-2.34.0 googleapis-common-protos-1.65.0 graphene-3.3 graphql-core-3.2.4 graphql-relay-3.2.0 greenlet-3.1.0 gunicorn-22.0.0 humanfriendly-10.0 idna-3.8 importlib-metadata-8.4.0 inference-schema-1.7.2 isodate-0.6.1 itsdangerous-2.2.0 jeepney-0.8.0 jmespath-1.0.1 jsonpickle-3.3.0 jsonschema-4.23.0 jsonschema-specifications-2023.12.1 kiwisolver-1.4.7 knack-0.11.0 markdown-3.7 matplotlib-3.9.2 mlflow-2.16.0 mlflow-skinny-2.16.0 msal-1.31.0 msal-extensions-1.2.0 msrest-0.7.1 msrestazure-0.6.4.post1 ndg-httpsclient-0.5.1 numpy-1.23.5 oauthlib-3.2.2 opencensus-0.11.4 opencensus-context-0.1.3 opencensus-ext-azure-1.1.13 opentelemetry-api-1.27.0 opentelemetry-sdk-1.27.0 opentelemetry-semantic-conventions-0.48b0 packaging-24.1 paramiko-3.4.1 pathspec-0.12.1 pillow-10.4.0 pkginfo-1.11.1 portalocker-2.10.1 proto-plus-1.24.0 protobuf-5.28.1 psutil-6.0.0 pyarrow-17.0.0 pyasn1-0.6.1 pyasn1-modules-0.4.1 pycparser-2.22 pydantic-2.9.1 pydantic-core-2.23.3 pydantic-settings-2.5.2 pygments-2.18.0 pynacl-1.5.0 pyopenssl-24.2.1 pyparsing-3.1.4 python-dotenv-1.0.1 pyyaml-6.0.2 referencing-0.35.1 requests-2.32.3 requests-oauthlib-2.0.0 rpds-py-0.20.0 rsa-4.9 smmap-5.0.1 sqlalchemy-2.0.34 sqlparse-0.5.1 tabulate-0.9.0 typing-extensions-4.12.2 urllib3-2.2.3 werkzeug-3.0.4 wrapt-1.16.0 zipp-3.20.1\n\n2024-09-13T01:01:14: done\n2024-09-13T01:01:14: #\n2024-09-13T01:01:14: # To activate this environment, use\n2024-09-13T01:01:14: #\n2024-09-13T01:01:14: #     $ conda activate /azureml-envs/azureml_520ca019ed23d5f05b5e97c2ce64fbd8\n2024-09-13T01:01:14: #\n2024-09-13T01:01:14: # To deactivate an active environment, use\n2024-09-13T01:01:14: #\n2024-09-13T01:01:14: #     $ conda deactivate\n\n2024-09-13T01:01:52: Removing intermediate container e880bee0fbcf\n2024-09-13T01:01:52:  ---> 85004025ab52\n2024-09-13T01:01:52: Step 9/17 : ENV PATH /azureml-envs/azureml_520ca019ed23d5f05b5e97c2ce64fbd8/bin:$PATH\n2024-09-13T01:01:52:  ---> Running in e18f5ae5bed0\n2024-09-13T01:01:54: Removing intermediate container e18f5ae5bed0\n2024-09-13T01:01:54:  ---> 049ddedf7f63\n2024-09-13T01:01:54: Step 10/17 : ENV AZUREML_CONDA_ENVIRONMENT_PATH /azureml-envs/azureml_520ca019ed23d5f05b5e97c2ce64fbd8\n2024-09-13T01:01:55:  ---> Running in 43a1503a446f\n2024-09-13T01:01:57: Removing intermediate container 43a1503a446f\n2024-09-13T01:01:57:  ---> d3400fd45fe1\n2024-09-13T01:01:57: Step 11/17 : ENV LD_LIBRARY_PATH /azureml-envs/azureml_520ca019ed23d5f05b5e97c2ce64fbd8/lib:$LD_LIBRARY_PATH\n2024-09-13T01:01:57:  ---> Running in 3964db1700a8\n2024-09-13T01:01:59: Removing intermediate container 3964db1700a8\n2024-09-13T01:01:59:  ---> 76788872a481\n2024-09-13T01:01:59: Step 12/17 : ENV CONDA_DEFAULT_ENV=azureml_520ca019ed23d5f05b5e97c2ce64fbd8 CONDA_PREFIX=/azureml-envs/azureml_520ca019ed23d5f05b5e97c2ce64fbd8\n2024-09-13T01:01:59:  ---> Running in fb2d10ddbfe6\n2024-09-13T01:02:01: Removing intermediate container fb2d10ddbfe6\n2024-09-13T01:02:01:  ---> 59526f1d36ce\n2024-09-13T01:02:01: Step 13/17 : COPY azureml-environment-setup/spark_cache.py azureml-environment-setup/log4j.properties /azureml-environment-setup/\n2024-09-13T01:02:03:  ---> 1d699bf75cf4\n2024-09-13T01:02:03: Step 14/17 : RUN if [ $SPARK_HOME ]; then /bin/bash -c '$SPARK_HOME/bin/spark-submit  /azureml-environment-setup/spark_cache.py'; fi\n2024-09-13T01:02:03:  ---> Running in 62482b851b69\n2024-09-13T01:02:05: Removing intermediate container 62482b851b69\n2024-09-13T01:02:05:  ---> 63967ea0033d\n2024-09-13T01:02:05: Step 15/17 : RUN rm -rf azureml-environment-setup\n2024-09-13T01:02:06:  ---> Running in f92ab0b5801c\n2024-09-13T01:02:08: Removing intermediate container f92ab0b5801c\n2024-09-13T01:02:08:  ---> 710569c6caf1\n2024-09-13T01:02:08: Step 16/17 : ENV AZUREML_ENVIRONMENT_IMAGE True\n2024-09-13T01:02:08:  ---> Running in 4170b7415cbc\n2024-09-13T01:02:10: Removing intermediate container 4170b7415cbc\n2024-09-13T01:02:10:  ---> a8dcdcc68b18\n2024-09-13T01:02:10: Step 17/17 : CMD [\"bash\"]\n2024-09-13T01:02:10:  ---> Running in dd217f2c7e31\n2024-09-13T01:02:12: Removing intermediate container dd217f2c7e31\n2024-09-13T01:02:12:  ---> 09c90247ee95\n2024-09-13T01:02:12: Successfully built 09c90247ee95\n2024-09-13T01:02:12: Successfully tagged 24c1e8123e0d4901917bbca1e94d02f2.azurecr.io/azureml/azureml_42e0348eba75918bf9c155a8edab94f1:latest\n2024-09-13T01:02:12: Successfully tagged 24c1e8123e0d4901917bbca1e94d02f2.azurecr.io/azureml/azureml_42e0348eba75918bf9c155a8edab94f1:1\n\n\n2024-09-13T01:02:12: Logging into Docker registry: 24c1e8123e0d4901917bbca1e94d02f2.azurecr.io\n2024-09-13T01:02:12: WARNING! Using --password via the CLI is insecure. Use --password-stdin.\n2024-09-13T01:02:12: WARNING! Your password will be stored unencrypted in /root/.docker/config.json.\n2024-09-13T01:02:12: Configure a credential helper to remove this warning. See\n2024-09-13T01:02:12: https://docs.docker.com/engine/reference/commandline/login/#credentials-store\n\n2024-09-13T01:02:12: Login Succeeded\n\n\n2024-09-13T01:02:12: Found send_dependencies.py at: /tmp/tmp0pibcpa_/azureml-environment-setup/send_dependencies.py\n2024-09-13T01:02:12: Using default tag: latest\n2024-09-13T01:02:12: The push refers to repository [24c1e8123e0d4901917bbca1e94d02f2.azurecr.io/azureml/azureml_42e0348eba75918bf9c155a8edab94f1]\n2024-09-13T01:02:12: 560843188e54: Preparing\n2024-09-13T01:02:12: dd4d401a7716: Preparing\n2024-09-13T01:02:12: 0fb01ae80b5e: Preparing\n2024-09-13T01:02:12: de4132538864: Preparing\n2024-09-13T01:02:12: 23971d8735a5: Preparing\n2024-09-13T01:02:12: 54d4159537ff: Preparing\n2024-09-13T01:02:12: 9c6013672290: Preparing\n2024-09-13T01:02:12: a4aa879d5a41: Preparing\n2024-09-13T01:02:12: 467321364919: Preparing\n2024-09-13T01:02:12: 7df686c394b3: Preparing\n2024-09-13T01:02:12: 98c5ed43f620: Preparing\n2024-09-13T01:02:12: 04f00e2e944c: Preparing\n2024-09-13T01:02:12: d169d73b9e13: Preparing\n2024-09-13T01:02:12: c7d50ac7a074: Preparing\n2024-09-13T01:02:12: 068fa9bf93ab: Preparing\n2024-09-13T01:02:12: 475a54c2a93d: Preparing\n2024-09-13T01:02:12: 7df686c394b3: Waiting\n2024-09-13T01:02:12: 98c5ed43f620: Waiting\n2024-09-13T01:02:12: 04f00e2e944c: Waiting\n2024-09-13T01:02:12: d169d73b9e13: Waiting\n2024-09-13T01:02:12: c7d50ac7a074: Waiting\n2024-09-13T01:02:12: 068fa9bf93ab: Waiting\n2024-09-13T01:02:12: 475a54c2a93d: Waiting\n2024-09-13T01:02:12: 54d4159537ff: Waiting\n2024-09-13T01:02:12: a4aa879d5a41: Waiting\n2024-09-13T01:02:12: 467321364919: Waiting\n2024-09-13T01:02:13: de4132538864: Pushed\n2024-09-13T01:02:13: 560843188e54: Pushed\n2024-09-13T01:02:13: dd4d401a7716: Pushed\n2024-09-13T01:02:13: 54d4159537ff: Pushed\n2024-09-13T01:02:13: 9c6013672290: Pushed\n2024-09-13T01:02:13: 23971d8735a5: Pushed\n2024-09-13T01:02:14: a4aa879d5a41: Pushed\n2024-09-13T01:02:14: 04f00e2e944c: Pushed\n2024-09-13T01:02:15: 7df686c394b3: Pushed\n2024-09-13T01:02:15: c7d50ac7a074: Pushed\n2024-09-13T01:02:16: d169d73b9e13: Pushed\n2024-09-13T01:02:17: 467321364919: Pushed\n2024-09-13T01:02:20: 475a54c2a93d: Pushed\n2024-09-13T01:02:24: 98c5ed43f620: Pushed\n2024-09-13T01:02:34: 068fa9bf93ab: Pushed\n2024-09-13T01:03:01: 0fb01ae80b5e: Pushed\n2024-09-13T01:03:01: latest: digest: sha256:887a3eca4dcd3e2bed02101f94be5c394c82a57e92574a4444d47473ef656c4a size: 3679\n\n\n2024-09-13T01:03:02: Attempting to run dependencies script\n\n\n2024-09-13T01:03:05: Report materialized dependencies for the environment\n2024-09-13T01:03:05: Reading environment context\n2024-09-13T01:03:05: Exporting conda environment\n2024-09-13T01:03:05: Sending request with materialized conda environment details\n2024-09-13T01:03:05: Successfully sent materialized environment dependencies\n\n\n2024-09-13T01:03:06: 2451670f30e6025c00e9a48b0d97f9bfb0707ce25a52e4058ae0e4da50b3f295\n\n\n2024-09-13T01:03:06: The push refers to repository [24c1e8123e0d4901917bbca1e94d02f2.azurecr.io/azureml/azureml_42e0348eba75918bf9c155a8edab94f1]\n2024-09-13T01:03:06: 560843188e54: Preparing\n2024-09-13T01:03:06: dd4d401a7716: Preparing\n2024-09-13T01:03:06: 0fb01ae80b5e: Preparing\n2024-09-13T01:03:06: de4132538864: Preparing\n2024-09-13T01:03:06: 23971d8735a5: Preparing\n2024-09-13T01:03:06: 54d4159537ff: Preparing\n2024-09-13T01:03:06: 9c6013672290: Preparing\n2024-09-13T01:03:06: a4aa879d5a41: Preparing\n2024-09-13T01:03:06: 467321364919: Preparing\n2024-09-13T01:03:06: 7df686c394b3: Preparing\n2024-09-13T01:03:06: 98c5ed43f620: Preparing\n2024-09-13T01:03:06: 04f00e2e944c: Preparing\n2024-09-13T01:03:06: d169d73b9e13: Preparing\n2024-09-13T01:03:06: c7d50ac7a074: Preparing\n2024-09-13T01:03:06: 068fa9bf93ab: Preparing\n2024-09-13T01:03:06: 475a54c2a93d: Preparing\n2024-09-13T01:03:06: 7df686c394b3: Waiting\n2024-09-13T01:03:06: 98c5ed43f620: Waiting\n2024-09-13T01:03:06: 04f00e2e944c: Waiting\n2024-09-13T01:03:06: d169d73b9e13: Waiting\n2024-09-13T01:03:06: c7d50ac7a074: Waiting\n2024-09-13T01:03:06: 068fa9bf93ab: Waiting\n2024-09-13T01:03:06: 475a54c2a93d: Waiting\n2024-09-13T01:03:06: 9c6013672290: Waiting\n2024-09-13T01:03:06: a4aa879d5a41: Waiting\n2024-09-13T01:03:06: 467321364919: Waiting\n2024-09-13T01:03:06: 54d4159537ff: Waiting\n2024-09-13T01:03:06: 0fb01ae80b5e: Layer already exists\n2024-09-13T01:03:06: dd4d401a7716: Layer already exists\n2024-09-13T01:03:06: 23971d8735a5: Layer already exists\n2024-09-13T01:03:06: de4132538864: Layer already exists\n2024-09-13T01:03:06: 560843188e54: Layer already exists\n2024-09-13T01:03:06: 54d4159537ff: Layer already exists\n2024-09-13T01:03:06: 467321364919: Layer already exists\n2024-09-13T01:03:06: 9c6013672290: Layer already exists\n2024-09-13T01:03:06: a4aa879d5a41: Layer already exists\n2024-09-13T01:03:06: 7df686c394b3: Layer already exists\n2024-09-13T01:03:06: 98c5ed43f620: Layer already exists\n2024-09-13T01:03:06: 04f00e2e944c: Layer already exists\n2024-09-13T01:03:06: 068fa9bf93ab: Layer already exists\n2024-09-13T01:03:06: d169d73b9e13: Layer already exists\n2024-09-13T01:03:06: c7d50ac7a074: Layer already exists\n2024-09-13T01:03:06: 475a54c2a93d: Layer already exists\n2024-09-13T01:03:06: 1: digest: sha256:887a3eca4dcd3e2bed02101f94be5c394c82a57e92574a4444d47473ef656c4a size: 3679\n\n\n2024-09-13T01:03:07: Attempting to run dependencies script\n\n\n2024-09-13T01:03:10: Report materialized dependencies for the environment\n2024-09-13T01:03:10: Reading environment context\n2024-09-13T01:03:10: Exporting conda environment\n2024-09-13T01:03:10: Sending request with materialized conda environment details\n2024-09-13T01:03:10: Successfully sent materialized environment dependencies\n\n\n2024-09-13T01:03:10: 6cdc63f5e54c1cbf783ab1545ab2259c7736b445a2478a82489840231fc9e5ef\n\n\n2024-09-13T01:03:10: Deleting 24c1e8123e0d4901917bbca1e94d02f2.azurecr.io/azureml/azureml_42e0348eba75918bf9c155a8edab94f1 from local machine\n2024-09-13T01:03:10: Error response from daemon: page not found\n\n\n2024-09-13T01:03:11: Logging out of Docker registry: 24c1e8123e0d4901917bbca1e94d02f2.azurecr.io\n2024-09-13T01:03:11: Removing login credentials for https://index.docker.io/v1/\n\n\n2024-09-13T01:03:11: Logging out of Docker registry: 24c1e8123e0d4901917bbca1e94d02f2.azurecr.io\n2024-09-13T01:03:11: Removing login credentials for https://index.docker.io/v1/\n\n\n\nExecution Summary\n=================\nRunId: good_ghost_jkjt505npy\nWeb View: https://ml.azure.com/runs/good_ghost_jkjt505npy?wsid=/subscriptions/d183dd89-7b11-4131-a265-eaadb46dbc76/resourcegroups/demo-azure-ml/workspaces/demo-azure-ml\n\n"
        }
      ],
      "execution_count": 17,
      "metadata": {
        "jupyter": {
          "source_hidden": false,
          "outputs_hidden": false
        },
        "nteract": {
          "transient": {
            "deleting": false
          }
        },
        "gather": {
          "logged": 1726189531980
        }
      }
    },
    {
      "cell_type": "markdown",
      "source": [
        "# Deploying your model\n",
        "\n",
        "> You have to use the minimum VM requirement : `Standard_D2as_v4`\n",
        "\n",
        "\n",
        "Now deploy your machine learning model as a web service in the Azure cloud, an [`online endpoint`](https://docs.microsoft.com/azure/machine-learning/concept-endpoints).\n",
        "\n",
        "To deploy a machine learning service, you usually need:\n",
        "\n",
        "- The model assets (file, metadata) that you want to deploy. You've already registered these assets via MLflow in *main.py*. You can find it under **Models** on the left navigation menu on Azure Machine Learning studio. \n",
        "- The code that executes the model on a given input request.\n",
        "\n",
        "![](media/endpoint-creation.gif)\n",
        "\n",
        "**Find the endpoint creation wizard on Studio**\n",
        "\n",
        "1. Open a duplicate tab (so that you can keep this tutorial open).\n",
        "2. On the duplicate tab, select **Endpoints** on the left navigation menu.\n",
        "3. Select **+Create** for real-time endpoints.\n",
        "\n",
        "**Endpoint creation & deployment via wizard UI** (this will take approximately 6 to 8 minutes)\n",
        "\n",
        "1. Enter a **unique name** for *endpoint name*. We recommend creating a *unique* name with current date/time to avoid conflicts, which could prevent your deployment. Keep all the defaults for the rest. \n",
        "2. Next, you need to choose a model to deploy. Select **credit_defaults_model** registered by *main.py* earlier. \n",
        "3. Keep all the defaults for deployment configuration.\n",
        "4. Select **Standard_DS3_V2** for compute, which is what we configured earlier. Set the instance count to **1**.\n",
        "5. Keep all the defaults for the traffic.\n",
        "6. Review: review and select **Create**.  \n",
        "\n",
        "![](media/endpoint-test.gif)\n",
        "\n",
        "**Test with a sample query**\n",
        "\n",
        "1. Select the endpoint you just created. Make sure the endpoint is created and the model has been deployed to it.\n",
        "2. Select the **Test** tab.\n",
        "3. Copy & paste the following sample request file into the **Input data to test real-time endpoint** field.\n",
        "4. Select **Test**. "
      ],
      "metadata": {
        "nteract": {
          "transient": {
            "deleting": false
          }
        }
      }
    },
    {
      "cell_type": "markdown",
      "source": [
        "# Consuming the model\n",
        "\n",
        "You can test from the interface using the data :\n",
        "\n",
        "```json\n",
        "{\n",
        "  \"input_data\": {\n",
        "    \"columns\": [0,1,2,3,4,5,6,7],\n",
        "    \"index\": [0],\n",
        "    \"data\": [\n",
        "            [6, 148, 72, 35, 0, 33.6, 0.627, 70]\n",
        "        ]\n",
        "  }\n",
        "}\n",
        "```"
      ],
      "metadata": {
        "nteract": {
          "transient": {
            "deleting": false
          }
        }
      }
    },
    {
      "cell_type": "code",
      "source": [
        "# consume with code\n",
        "endpoint = 'https://demo-azure-ml-cwlgd.westus.inference.ml.azure.com/score' #Replace with your endpoint\n",
        "key = '' #Replace with your key\n",
        "\n",
        "import json\n",
        "import requests\n",
        "\n",
        "#Features for a patient\n",
        "input_data = {\n",
        "  \"input_data\": {\n",
        "    \"columns\": [0,1,2,3,4,5,6,7],\n",
        "    \"index\": [0],\n",
        "    \"data\": [\n",
        "            [6, 148, 72, 35, 0, 33.6, 0.627, 70]\n",
        "        ]\n",
        "  }\n",
        "}\n",
        "\n",
        "#Create a \"data\" JSON object\n",
        "input_json = json.dumps(input_data)\n",
        "\n",
        "#Set the content type and authentication for the request\n",
        "headers = {\"Content-Type\":\"application/json\",\n",
        "           \"Authorization\":\"Bearer \" + key}\n",
        "\n",
        "#Send the request\n",
        "response = requests.post(endpoint, input_json, headers=headers)\n",
        "\n",
        "#If we got a valid response, display the predictions\n",
        "if response.status_code == 200:\n",
        "    y = response.json()\n",
        "    #Get the first prediction in the results\n",
        "    print(\"Prediction:\", y)\n",
        "else:\n",
        "    print(response)"
      ],
      "outputs": [
        {
          "output_type": "stream",
          "name": "stdout",
          "text": "Prediction: [1]\n"
        }
      ],
      "execution_count": 5,
      "metadata": {
        "jupyter": {
          "source_hidden": false,
          "outputs_hidden": false
        },
        "nteract": {
          "transient": {
            "deleting": false
          }
        },
        "gather": {
          "logged": 1722468858265
        }
      }
    },
    {
      "cell_type": "markdown",
      "source": [
        "With the code provided from the interface."
      ],
      "metadata": {
        "nteract": {
          "transient": {
            "deleting": false
          }
        }
      }
    },
    {
      "cell_type": "code",
      "source": [
        "import urllib.request\n",
        "import json\n",
        "import os\n",
        "import ssl\n",
        "\n",
        "def allowSelfSignedHttps(allowed):\n",
        "    # bypass the server certificate verification on client side\n",
        "    if allowed and not os.environ.get('PYTHONHTTPSVERIFY', '') and getattr(ssl, '_create_unverified_context', None):\n",
        "        ssl._create_default_https_context = ssl._create_unverified_context\n",
        "\n",
        "allowSelfSignedHttps(True) # this line is needed if you use self-signed certificate in your scoring service.\n",
        "\n",
        "# Request data goes here\n",
        "# The example below assumes JSON formatting which may be updated\n",
        "# depending on the format your endpoint expects.\n",
        "# More information can be found here:\n",
        "# https://docs.microsoft.com/azure/machine-learning/how-to-deploy-advanced-entry-script\n",
        "data =  {\n",
        "  \"input_data\": {\n",
        "    \"columns\": [0,1,2,3,4,5,6,7],\n",
        "    \"index\": [0],\n",
        "    \"data\": [\n",
        "            [6, 148, 72, 35, 0, 33.6, 0.627, 70]\n",
        "        ]\n",
        "  },\n",
        "  \"params\": {}\n",
        "}\n",
        "\n",
        "body = str.encode(json.dumps(data))\n",
        "\n",
        "url = 'https://demo-azure-ml-cwlgd.westus.inference.ml.azure.com/score'\n",
        "# Replace this with the primary/secondary key, AMLToken, or Microsoft Entra ID token for the endpoint\n",
        "api_key = ''\n",
        "if not api_key:\n",
        "    raise Exception(\"A key should be provided to invoke the endpoint\")\n",
        "\n",
        "# The azureml-model-deployment header will force the request to go to a specific deployment.\n",
        "# Remove this header to have the request observe the endpoint traffic rules\n",
        "headers = {'Content-Type':'application/json', 'Authorization':('Bearer '+ api_key), 'azureml-model-deployment': 'diabetes-model-1' }\n",
        "\n",
        "req = urllib.request.Request(url, body, headers)\n",
        "\n",
        "try:\n",
        "    response = urllib.request.urlopen(req)\n",
        "\n",
        "    result = response.read()\n",
        "    print(result)\n",
        "except urllib.error.HTTPError as error:\n",
        "    print(\"The request failed with status code: \" + str(error.code))\n",
        "\n",
        "    # Print the headers - they include the requert ID and the timestamp, which are useful for debugging the failure\n",
        "    print(error.info())\n",
        "    print(error.read().decode(\"utf8\", 'ignore'))"
      ],
      "outputs": [
        {
          "output_type": "stream",
          "name": "stdout",
          "text": "b'[1]'\n"
        }
      ],
      "execution_count": 6,
      "metadata": {
        "jupyter": {
          "source_hidden": false,
          "outputs_hidden": false
        },
        "nteract": {
          "transient": {
            "deleting": false
          }
        },
        "gather": {
          "logged": 1722468930993
        }
      }
    }
  ],
  "metadata": {
    "kernelspec": {
      "name": "python310-sdkv2",
      "language": "python",
      "display_name": "Python 3.10 - SDK v2"
    },
    "language_info": {
      "name": "python",
      "version": "3.10.14",
      "mimetype": "text/x-python",
      "codemirror_mode": {
        "name": "ipython",
        "version": 3
      },
      "pygments_lexer": "ipython3",
      "nbconvert_exporter": "python",
      "file_extension": ".py"
    },
    "kernel_info": {
      "name": "python310-sdkv2"
    },
    "microsoft": {
      "ms_spell_check": {
        "ms_spell_check_language": "en"
      },
      "host": {
        "AzureML": {
          "notebookHasBeenCompleted": true
        }
      }
    },
    "nteract": {
      "version": "nteract-front-end@1.0.0"
    }
  },
  "nbformat": 4,
  "nbformat_minor": 2
}